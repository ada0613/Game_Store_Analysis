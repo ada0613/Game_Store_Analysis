{
 "cells": [
  {
   "cell_type": "markdown",
   "metadata": {},
   "source": [
    "# GameStore Analysis\n",
    "You work for the online store Ice, which sells video games all over the world. User and expert reviews, genres, platforms (e.g. Xbox or PlayStation), and historical data on game sales are available from open sources. You need to identify patterns that determine whether a game succeeds or not. This will allow you to spot potential big winners and plan advertising campaigns. \n",
    "\n",
    "In front of you is data going back to 2016. Let’s imagine that it’s December 2016 and you’re planning a campaign for 2017. The important thing is to get experience working with data. It doesn't really matter whether you're forecasting 2017 sales based on data from 2016 or 2017 sales based on data from 2016.\n",
    "\n",
    "The dataset contains the abbreviation ESRB. The Entertainment Software Rating Board evaluates a game's content and assigns an age rating such as Teen or Mature."
   ]
  },
  {
   "cell_type": "code",
   "execution_count": 1,
   "metadata": {},
   "outputs": [],
   "source": [
    "# import pandas\n",
    "import pandas as pd\n",
    "# import numpy\n",
    "import numpy as np\n",
    "# import matplot\n",
    "import matplotlib.pyplot as plt\n",
    "from datetime import datetime\n",
    "import re\n",
    "# hypothesis testing\n",
    "from scipy import stats as st\n",
    "import random\n",
    "import seaborn as sns"
   ]
  },
  {
   "cell_type": "markdown",
   "metadata": {},
   "source": [
    "## Open the data file and study the general information"
   ]
  },
  {
   "cell_type": "markdown",
   "metadata": {},
   "source": [
    "### Open Datasets"
   ]
  },
  {
   "cell_type": "code",
   "execution_count": 2,
   "metadata": {},
   "outputs": [
    {
     "name": "stdout",
     "output_type": "stream",
     "text": [
      "Read the data successfully. \n"
     ]
    }
   ],
   "source": [
    "try: \n",
    "    df = pd.read_csv('games.csv')\n",
    "except:\n",
    "    print('Somethong went wrong.')\n",
    "else:\n",
    "    print(\"Read the data successfully. \")"
   ]
  },
  {
   "cell_type": "markdown",
   "metadata": {},
   "source": [
    "### General Informations"
   ]
  },
  {
   "cell_type": "code",
   "execution_count": 3,
   "metadata": {},
   "outputs": [
    {
     "data": {
      "text/html": [
       "<div>\n",
       "<style scoped>\n",
       "    .dataframe tbody tr th:only-of-type {\n",
       "        vertical-align: middle;\n",
       "    }\n",
       "\n",
       "    .dataframe tbody tr th {\n",
       "        vertical-align: top;\n",
       "    }\n",
       "\n",
       "    .dataframe thead th {\n",
       "        text-align: right;\n",
       "    }\n",
       "</style>\n",
       "<table border=\"1\" class=\"dataframe\">\n",
       "  <thead>\n",
       "    <tr style=\"text-align: right;\">\n",
       "      <th></th>\n",
       "      <th>Name</th>\n",
       "      <th>Platform</th>\n",
       "      <th>Year_of_Release</th>\n",
       "      <th>Genre</th>\n",
       "      <th>NA_sales</th>\n",
       "      <th>EU_sales</th>\n",
       "      <th>JP_sales</th>\n",
       "      <th>Other_sales</th>\n",
       "      <th>Critic_Score</th>\n",
       "      <th>User_Score</th>\n",
       "      <th>Rating</th>\n",
       "    </tr>\n",
       "  </thead>\n",
       "  <tbody>\n",
       "    <tr>\n",
       "      <th>0</th>\n",
       "      <td>Wii Sports</td>\n",
       "      <td>Wii</td>\n",
       "      <td>2006.0</td>\n",
       "      <td>Sports</td>\n",
       "      <td>41.36</td>\n",
       "      <td>28.96</td>\n",
       "      <td>3.77</td>\n",
       "      <td>8.45</td>\n",
       "      <td>76.0</td>\n",
       "      <td>8</td>\n",
       "      <td>E</td>\n",
       "    </tr>\n",
       "    <tr>\n",
       "      <th>1</th>\n",
       "      <td>Super Mario Bros.</td>\n",
       "      <td>NES</td>\n",
       "      <td>1985.0</td>\n",
       "      <td>Platform</td>\n",
       "      <td>29.08</td>\n",
       "      <td>3.58</td>\n",
       "      <td>6.81</td>\n",
       "      <td>0.77</td>\n",
       "      <td>NaN</td>\n",
       "      <td>NaN</td>\n",
       "      <td>NaN</td>\n",
       "    </tr>\n",
       "    <tr>\n",
       "      <th>2</th>\n",
       "      <td>Mario Kart Wii</td>\n",
       "      <td>Wii</td>\n",
       "      <td>2008.0</td>\n",
       "      <td>Racing</td>\n",
       "      <td>15.68</td>\n",
       "      <td>12.76</td>\n",
       "      <td>3.79</td>\n",
       "      <td>3.29</td>\n",
       "      <td>82.0</td>\n",
       "      <td>8.3</td>\n",
       "      <td>E</td>\n",
       "    </tr>\n",
       "    <tr>\n",
       "      <th>3</th>\n",
       "      <td>Wii Sports Resort</td>\n",
       "      <td>Wii</td>\n",
       "      <td>2009.0</td>\n",
       "      <td>Sports</td>\n",
       "      <td>15.61</td>\n",
       "      <td>10.93</td>\n",
       "      <td>3.28</td>\n",
       "      <td>2.95</td>\n",
       "      <td>80.0</td>\n",
       "      <td>8</td>\n",
       "      <td>E</td>\n",
       "    </tr>\n",
       "    <tr>\n",
       "      <th>4</th>\n",
       "      <td>Pokemon Red/Pokemon Blue</td>\n",
       "      <td>GB</td>\n",
       "      <td>1996.0</td>\n",
       "      <td>Role-Playing</td>\n",
       "      <td>11.27</td>\n",
       "      <td>8.89</td>\n",
       "      <td>10.22</td>\n",
       "      <td>1.00</td>\n",
       "      <td>NaN</td>\n",
       "      <td>NaN</td>\n",
       "      <td>NaN</td>\n",
       "    </tr>\n",
       "  </tbody>\n",
       "</table>\n",
       "</div>"
      ],
      "text/plain": [
       "                       Name Platform  Year_of_Release         Genre  NA_sales  \\\n",
       "0                Wii Sports      Wii           2006.0        Sports     41.36   \n",
       "1         Super Mario Bros.      NES           1985.0      Platform     29.08   \n",
       "2            Mario Kart Wii      Wii           2008.0        Racing     15.68   \n",
       "3         Wii Sports Resort      Wii           2009.0        Sports     15.61   \n",
       "4  Pokemon Red/Pokemon Blue       GB           1996.0  Role-Playing     11.27   \n",
       "\n",
       "   EU_sales  JP_sales  Other_sales  Critic_Score User_Score Rating  \n",
       "0     28.96      3.77         8.45          76.0          8      E  \n",
       "1      3.58      6.81         0.77           NaN        NaN    NaN  \n",
       "2     12.76      3.79         3.29          82.0        8.3      E  \n",
       "3     10.93      3.28         2.95          80.0          8      E  \n",
       "4      8.89     10.22         1.00           NaN        NaN    NaN  "
      ]
     },
     "execution_count": 3,
     "metadata": {},
     "output_type": "execute_result"
    }
   ],
   "source": [
    "# check the first 5 rows of dataframe\n",
    "df.head()"
   ]
  },
  {
   "cell_type": "code",
   "execution_count": 4,
   "metadata": {},
   "outputs": [
    {
     "data": {
      "text/html": [
       "<div>\n",
       "<style scoped>\n",
       "    .dataframe tbody tr th:only-of-type {\n",
       "        vertical-align: middle;\n",
       "    }\n",
       "\n",
       "    .dataframe tbody tr th {\n",
       "        vertical-align: top;\n",
       "    }\n",
       "\n",
       "    .dataframe thead th {\n",
       "        text-align: right;\n",
       "    }\n",
       "</style>\n",
       "<table border=\"1\" class=\"dataframe\">\n",
       "  <thead>\n",
       "    <tr style=\"text-align: right;\">\n",
       "      <th></th>\n",
       "      <th>Name</th>\n",
       "      <th>Platform</th>\n",
       "      <th>Year_of_Release</th>\n",
       "      <th>Genre</th>\n",
       "      <th>NA_sales</th>\n",
       "      <th>EU_sales</th>\n",
       "      <th>JP_sales</th>\n",
       "      <th>Other_sales</th>\n",
       "      <th>Critic_Score</th>\n",
       "      <th>User_Score</th>\n",
       "      <th>Rating</th>\n",
       "    </tr>\n",
       "  </thead>\n",
       "  <tbody>\n",
       "    <tr>\n",
       "      <th>16710</th>\n",
       "      <td>Samurai Warriors: Sanada Maru</td>\n",
       "      <td>PS3</td>\n",
       "      <td>2016.0</td>\n",
       "      <td>Action</td>\n",
       "      <td>0.00</td>\n",
       "      <td>0.00</td>\n",
       "      <td>0.01</td>\n",
       "      <td>0.0</td>\n",
       "      <td>NaN</td>\n",
       "      <td>NaN</td>\n",
       "      <td>NaN</td>\n",
       "    </tr>\n",
       "    <tr>\n",
       "      <th>16711</th>\n",
       "      <td>LMA Manager 2007</td>\n",
       "      <td>X360</td>\n",
       "      <td>2006.0</td>\n",
       "      <td>Sports</td>\n",
       "      <td>0.00</td>\n",
       "      <td>0.01</td>\n",
       "      <td>0.00</td>\n",
       "      <td>0.0</td>\n",
       "      <td>NaN</td>\n",
       "      <td>NaN</td>\n",
       "      <td>NaN</td>\n",
       "    </tr>\n",
       "    <tr>\n",
       "      <th>16712</th>\n",
       "      <td>Haitaka no Psychedelica</td>\n",
       "      <td>PSV</td>\n",
       "      <td>2016.0</td>\n",
       "      <td>Adventure</td>\n",
       "      <td>0.00</td>\n",
       "      <td>0.00</td>\n",
       "      <td>0.01</td>\n",
       "      <td>0.0</td>\n",
       "      <td>NaN</td>\n",
       "      <td>NaN</td>\n",
       "      <td>NaN</td>\n",
       "    </tr>\n",
       "    <tr>\n",
       "      <th>16713</th>\n",
       "      <td>Spirits &amp; Spells</td>\n",
       "      <td>GBA</td>\n",
       "      <td>2003.0</td>\n",
       "      <td>Platform</td>\n",
       "      <td>0.01</td>\n",
       "      <td>0.00</td>\n",
       "      <td>0.00</td>\n",
       "      <td>0.0</td>\n",
       "      <td>NaN</td>\n",
       "      <td>NaN</td>\n",
       "      <td>NaN</td>\n",
       "    </tr>\n",
       "    <tr>\n",
       "      <th>16714</th>\n",
       "      <td>Winning Post 8 2016</td>\n",
       "      <td>PSV</td>\n",
       "      <td>2016.0</td>\n",
       "      <td>Simulation</td>\n",
       "      <td>0.00</td>\n",
       "      <td>0.00</td>\n",
       "      <td>0.01</td>\n",
       "      <td>0.0</td>\n",
       "      <td>NaN</td>\n",
       "      <td>NaN</td>\n",
       "      <td>NaN</td>\n",
       "    </tr>\n",
       "  </tbody>\n",
       "</table>\n",
       "</div>"
      ],
      "text/plain": [
       "                                Name Platform  Year_of_Release       Genre  \\\n",
       "16710  Samurai Warriors: Sanada Maru      PS3           2016.0      Action   \n",
       "16711               LMA Manager 2007     X360           2006.0      Sports   \n",
       "16712        Haitaka no Psychedelica      PSV           2016.0   Adventure   \n",
       "16713               Spirits & Spells      GBA           2003.0    Platform   \n",
       "16714            Winning Post 8 2016      PSV           2016.0  Simulation   \n",
       "\n",
       "       NA_sales  EU_sales  JP_sales  Other_sales  Critic_Score User_Score  \\\n",
       "16710      0.00      0.00      0.01          0.0           NaN        NaN   \n",
       "16711      0.00      0.01      0.00          0.0           NaN        NaN   \n",
       "16712      0.00      0.00      0.01          0.0           NaN        NaN   \n",
       "16713      0.01      0.00      0.00          0.0           NaN        NaN   \n",
       "16714      0.00      0.00      0.01          0.0           NaN        NaN   \n",
       "\n",
       "      Rating  \n",
       "16710    NaN  \n",
       "16711    NaN  \n",
       "16712    NaN  \n",
       "16713    NaN  \n",
       "16714    NaN  "
      ]
     },
     "execution_count": 4,
     "metadata": {},
     "output_type": "execute_result"
    }
   ],
   "source": [
    "# check the last 5 rows of dataframe\n",
    "df.tail()"
   ]
  },
  {
   "cell_type": "code",
   "execution_count": 5,
   "metadata": {},
   "outputs": [
    {
     "name": "stdout",
     "output_type": "stream",
     "text": [
      "<class 'pandas.core.frame.DataFrame'>\n",
      "RangeIndex: 16715 entries, 0 to 16714\n",
      "Data columns (total 11 columns):\n",
      " #   Column           Non-Null Count  Dtype  \n",
      "---  ------           --------------  -----  \n",
      " 0   Name             16713 non-null  object \n",
      " 1   Platform         16715 non-null  object \n",
      " 2   Year_of_Release  16446 non-null  float64\n",
      " 3   Genre            16713 non-null  object \n",
      " 4   NA_sales         16715 non-null  float64\n",
      " 5   EU_sales         16715 non-null  float64\n",
      " 6   JP_sales         16715 non-null  float64\n",
      " 7   Other_sales      16715 non-null  float64\n",
      " 8   Critic_Score     8137 non-null   float64\n",
      " 9   User_Score       10014 non-null  object \n",
      " 10  Rating           9949 non-null   object \n",
      "dtypes: float64(6), object(5)\n",
      "memory usage: 1.4+ MB\n"
     ]
    }
   ],
   "source": [
    "# the information of dataframe\n",
    "df.info()"
   ]
  },
  {
   "cell_type": "code",
   "execution_count": 6,
   "metadata": {},
   "outputs": [
    {
     "data": {
      "text/html": [
       "<div>\n",
       "<style scoped>\n",
       "    .dataframe tbody tr th:only-of-type {\n",
       "        vertical-align: middle;\n",
       "    }\n",
       "\n",
       "    .dataframe tbody tr th {\n",
       "        vertical-align: top;\n",
       "    }\n",
       "\n",
       "    .dataframe thead th {\n",
       "        text-align: right;\n",
       "    }\n",
       "</style>\n",
       "<table border=\"1\" class=\"dataframe\">\n",
       "  <thead>\n",
       "    <tr style=\"text-align: right;\">\n",
       "      <th></th>\n",
       "      <th>Year_of_Release</th>\n",
       "      <th>NA_sales</th>\n",
       "      <th>EU_sales</th>\n",
       "      <th>JP_sales</th>\n",
       "      <th>Other_sales</th>\n",
       "      <th>Critic_Score</th>\n",
       "    </tr>\n",
       "  </thead>\n",
       "  <tbody>\n",
       "    <tr>\n",
       "      <th>count</th>\n",
       "      <td>16446.000000</td>\n",
       "      <td>16715.000000</td>\n",
       "      <td>16715.000000</td>\n",
       "      <td>16715.000000</td>\n",
       "      <td>16715.000000</td>\n",
       "      <td>8137.000000</td>\n",
       "    </tr>\n",
       "    <tr>\n",
       "      <th>mean</th>\n",
       "      <td>2006.484616</td>\n",
       "      <td>0.263377</td>\n",
       "      <td>0.145060</td>\n",
       "      <td>0.077617</td>\n",
       "      <td>0.047342</td>\n",
       "      <td>68.967679</td>\n",
       "    </tr>\n",
       "    <tr>\n",
       "      <th>std</th>\n",
       "      <td>5.877050</td>\n",
       "      <td>0.813604</td>\n",
       "      <td>0.503339</td>\n",
       "      <td>0.308853</td>\n",
       "      <td>0.186731</td>\n",
       "      <td>13.938165</td>\n",
       "    </tr>\n",
       "    <tr>\n",
       "      <th>min</th>\n",
       "      <td>1980.000000</td>\n",
       "      <td>0.000000</td>\n",
       "      <td>0.000000</td>\n",
       "      <td>0.000000</td>\n",
       "      <td>0.000000</td>\n",
       "      <td>13.000000</td>\n",
       "    </tr>\n",
       "    <tr>\n",
       "      <th>25%</th>\n",
       "      <td>2003.000000</td>\n",
       "      <td>0.000000</td>\n",
       "      <td>0.000000</td>\n",
       "      <td>0.000000</td>\n",
       "      <td>0.000000</td>\n",
       "      <td>60.000000</td>\n",
       "    </tr>\n",
       "    <tr>\n",
       "      <th>50%</th>\n",
       "      <td>2007.000000</td>\n",
       "      <td>0.080000</td>\n",
       "      <td>0.020000</td>\n",
       "      <td>0.000000</td>\n",
       "      <td>0.010000</td>\n",
       "      <td>71.000000</td>\n",
       "    </tr>\n",
       "    <tr>\n",
       "      <th>75%</th>\n",
       "      <td>2010.000000</td>\n",
       "      <td>0.240000</td>\n",
       "      <td>0.110000</td>\n",
       "      <td>0.040000</td>\n",
       "      <td>0.030000</td>\n",
       "      <td>79.000000</td>\n",
       "    </tr>\n",
       "    <tr>\n",
       "      <th>max</th>\n",
       "      <td>2016.000000</td>\n",
       "      <td>41.360000</td>\n",
       "      <td>28.960000</td>\n",
       "      <td>10.220000</td>\n",
       "      <td>10.570000</td>\n",
       "      <td>98.000000</td>\n",
       "    </tr>\n",
       "  </tbody>\n",
       "</table>\n",
       "</div>"
      ],
      "text/plain": [
       "       Year_of_Release      NA_sales      EU_sales      JP_sales  \\\n",
       "count     16446.000000  16715.000000  16715.000000  16715.000000   \n",
       "mean       2006.484616      0.263377      0.145060      0.077617   \n",
       "std           5.877050      0.813604      0.503339      0.308853   \n",
       "min        1980.000000      0.000000      0.000000      0.000000   \n",
       "25%        2003.000000      0.000000      0.000000      0.000000   \n",
       "50%        2007.000000      0.080000      0.020000      0.000000   \n",
       "75%        2010.000000      0.240000      0.110000      0.040000   \n",
       "max        2016.000000     41.360000     28.960000     10.220000   \n",
       "\n",
       "        Other_sales  Critic_Score  \n",
       "count  16715.000000   8137.000000  \n",
       "mean       0.047342     68.967679  \n",
       "std        0.186731     13.938165  \n",
       "min        0.000000     13.000000  \n",
       "25%        0.000000     60.000000  \n",
       "50%        0.010000     71.000000  \n",
       "75%        0.030000     79.000000  \n",
       "max       10.570000     98.000000  "
      ]
     },
     "execution_count": 6,
     "metadata": {},
     "output_type": "execute_result"
    }
   ],
   "source": [
    "# check the statistics of dataframe\n",
    "df.describe()"
   ]
  },
  {
   "cell_type": "code",
   "execution_count": 7,
   "metadata": {},
   "outputs": [
    {
     "data": {
      "text/plain": [
       "(16715, 11)"
      ]
     },
     "execution_count": 7,
     "metadata": {},
     "output_type": "execute_result"
    }
   ],
   "source": [
    "# check the number of columns and rows of dataframe\n",
    "df.shape"
   ]
  },
  {
   "cell_type": "markdown",
   "metadata": {},
   "source": [
    "There are 16715 rows and 11 columns"
   ]
  },
  {
   "cell_type": "code",
   "execution_count": 8,
   "metadata": {},
   "outputs": [
    {
     "data": {
      "text/plain": [
       "Name                  2\n",
       "Platform              0\n",
       "Year_of_Release     269\n",
       "Genre                 2\n",
       "NA_sales              0\n",
       "EU_sales              0\n",
       "JP_sales              0\n",
       "Other_sales           0\n",
       "Critic_Score       8578\n",
       "User_Score         6701\n",
       "Rating             6766\n",
       "dtype: int64"
      ]
     },
     "execution_count": 8,
     "metadata": {},
     "output_type": "execute_result"
    }
   ],
   "source": [
    "# check for the missing values\n",
    "df.isnull().sum()"
   ]
  },
  {
   "cell_type": "markdown",
   "metadata": {},
   "source": [
    "There are 2 missing values in `Name`, 269 missing in `Year_of_Release`, and large portions of missing values in `Critic_Score`, `User_Score`, and `Rating`. "
   ]
  },
  {
   "cell_type": "code",
   "execution_count": 9,
   "metadata": {},
   "outputs": [
    {
     "data": {
      "text/plain": [
       "0"
      ]
     },
     "execution_count": 9,
     "metadata": {},
     "output_type": "execute_result"
    }
   ],
   "source": [
    "# check for duplicates\n",
    "df.duplicated().sum()"
   ]
  },
  {
   "cell_type": "markdown",
   "metadata": {},
   "source": [
    "There is no duplicated data. "
   ]
  },
  {
   "cell_type": "markdown",
   "metadata": {},
   "source": [
    "**Conclusion**\n",
    "\n",
    "We noticed there are missing values in many columns, some data types need conversion, and we columns names need to convert to all lower cases. "
   ]
  },
  {
   "cell_type": "markdown",
   "metadata": {},
   "source": [
    "## Data Preparation"
   ]
  },
  {
   "cell_type": "markdown",
   "metadata": {},
   "source": [
    "### Convert column names"
   ]
  },
  {
   "cell_type": "code",
   "execution_count": 10,
   "metadata": {},
   "outputs": [
    {
     "data": {
      "text/plain": [
       "Index(['name', 'platform', 'year_of_release', 'genre', 'na_sales', 'eu_sales',\n",
       "       'jp_sales', 'other_sales', 'critic_score', 'user_score', 'rating'],\n",
       "      dtype='object')"
      ]
     },
     "execution_count": 10,
     "metadata": {},
     "output_type": "execute_result"
    }
   ],
   "source": [
    "# convert column names to lowercase\n",
    "df.columns = df.columns.str.lower()\n",
    "df.columns"
   ]
  },
  {
   "cell_type": "markdown",
   "metadata": {},
   "source": [
    "### Processing missing values"
   ]
  },
  {
   "cell_type": "code",
   "execution_count": 11,
   "metadata": {},
   "outputs": [
    {
     "data": {
      "text/plain": [
       "name                0.011965\n",
       "platform            0.000000\n",
       "year_of_release     1.609333\n",
       "genre               0.011965\n",
       "na_sales            0.000000\n",
       "eu_sales            0.000000\n",
       "jp_sales            0.000000\n",
       "other_sales         0.000000\n",
       "critic_score       51.319174\n",
       "user_score         40.089740\n",
       "rating             40.478612\n",
       "dtype: float64"
      ]
     },
     "execution_count": 11,
     "metadata": {},
     "output_type": "execute_result"
    }
   ],
   "source": [
    "# caculate the percentage of missing value \n",
    "df.isnull().sum() * 100 / len(df)"
   ]
  },
  {
   "cell_type": "markdown",
   "metadata": {},
   "source": [
    "There are almost half of the values are missing in `Critic_Score`, `User_Score`, and `Rating`. "
   ]
  },
  {
   "cell_type": "markdown",
   "metadata": {},
   "source": [
    "Because the percentage of missing in `name` and `genre` is very small, we can drop them."
   ]
  },
  {
   "cell_type": "code",
   "execution_count": 12,
   "metadata": {},
   "outputs": [],
   "source": [
    "df = df.dropna(subset=['name', 'genre']).reset_index(drop = True)"
   ]
  },
  {
   "cell_type": "markdown",
   "metadata": {},
   "source": [
    "For `year_of_release`, `critic_score`, `user_score`, and `user_score`, we are going to filling missing data by random choosing from non missing values. "
   ]
  },
  {
   "cell_type": "code",
   "execution_count": 13,
   "metadata": {},
   "outputs": [
    {
     "data": {
      "text/plain": [
       "count    8137.000000\n",
       "mean       68.967679\n",
       "std        13.938165\n",
       "min        13.000000\n",
       "25%        60.000000\n",
       "50%        71.000000\n",
       "75%        79.000000\n",
       "max        98.000000\n",
       "Name: critic_score, dtype: float64"
      ]
     },
     "execution_count": 13,
     "metadata": {},
     "output_type": "execute_result"
    }
   ],
   "source": [
    "df['critic_score'].describe()"
   ]
  },
  {
   "cell_type": "markdown",
   "metadata": {},
   "source": [
    "We notice the minimum value for `critic_score` is 13 and maximum value is 98, we can create a list with values between 13 and 98. "
   ]
  },
  {
   "cell_type": "code",
   "execution_count": 14,
   "metadata": {},
   "outputs": [],
   "source": [
    "fill_list = list(range(13, 98))\n",
    "df['critic_score'] = df['critic_score'].fillna(pd.Series(np.random.choice(fill_list, size = len(df.index))))"
   ]
  },
  {
   "cell_type": "markdown",
   "metadata": {},
   "source": [
    "The maximum value for `user_score` is 10, so we create a list with values betwen 0 and 10. For the abbreviation `tbd` we treat it as a missing value."
   ]
  },
  {
   "cell_type": "code",
   "execution_count": 15,
   "metadata": {},
   "outputs": [],
   "source": [
    "fill_list2 = list(range(0, 10))\n",
    "df['user_score'] = df['user_score'].replace('tbd',np.nan)\n",
    "df['user_score'] = df['user_score'].fillna(pd.Series(np.random.choice(fill_list2, size = len(df.index))))"
   ]
  },
  {
   "cell_type": "code",
   "execution_count": 16,
   "metadata": {},
   "outputs": [
    {
     "data": {
      "text/plain": [
       "array(['E', nan, 'M', 'T', 'E10+', 'K-A', 'AO', 'EC', 'RP'], dtype=object)"
      ]
     },
     "execution_count": 16,
     "metadata": {},
     "output_type": "execute_result"
    }
   ],
   "source": [
    "df['rating'].unique()"
   ]
  },
  {
   "cell_type": "markdown",
   "metadata": {},
   "source": [
    "We know `rating` has a list of different ratings. We can create a list with existing rating values."
   ]
  },
  {
   "cell_type": "code",
   "execution_count": 17,
   "metadata": {},
   "outputs": [],
   "source": [
    "fill_list3 = ['E', 'M', 'T', 'E10+', 'K-A', 'AO', 'EC', 'RP']\n",
    "df['rating'] = df['rating'].fillna(pd.Series(np.random.choice(fill_list3, size = len(df.index))))"
   ]
  },
  {
   "cell_type": "code",
   "execution_count": 18,
   "metadata": {},
   "outputs": [
    {
     "data": {
      "text/plain": [
       "count    16444.000000\n",
       "mean      2006.486256\n",
       "std          5.875525\n",
       "min       1980.000000\n",
       "25%       2003.000000\n",
       "50%       2007.000000\n",
       "75%       2010.000000\n",
       "max       2016.000000\n",
       "Name: year_of_release, dtype: float64"
      ]
     },
     "execution_count": 18,
     "metadata": {},
     "output_type": "execute_result"
    }
   ],
   "source": [
    "df['year_of_release'].describe()"
   ]
  },
  {
   "cell_type": "markdown",
   "metadata": {},
   "source": [
    "We know `year_of_release` has minimum year 1980 and maximum year 2016. We can create a list with year between 1980 and 2016. "
   ]
  },
  {
   "cell_type": "code",
   "execution_count": 19,
   "metadata": {},
   "outputs": [],
   "source": [
    "fill_list4 = list(range(1980, 2016))\n",
    "df['year_of_release'] = df['year_of_release'].fillna(pd.Series(np.random.choice(fill_list4, size = len(df.index))))"
   ]
  },
  {
   "cell_type": "code",
   "execution_count": 20,
   "metadata": {},
   "outputs": [
    {
     "data": {
      "text/plain": [
       "name               0\n",
       "platform           0\n",
       "year_of_release    0\n",
       "genre              0\n",
       "na_sales           0\n",
       "eu_sales           0\n",
       "jp_sales           0\n",
       "other_sales        0\n",
       "critic_score       0\n",
       "user_score         0\n",
       "rating             0\n",
       "dtype: int64"
      ]
     },
     "execution_count": 20,
     "metadata": {},
     "output_type": "execute_result"
    }
   ],
   "source": [
    "# now we don't have missing values\n",
    "df.isnull().sum()"
   ]
  },
  {
   "cell_type": "markdown",
   "metadata": {},
   "source": [
    "**Conclusion**\n",
    "\n",
    "We dropped missing values from `name` and `genre`, we replaced missing values from `year_of_release`, `critic_score`, `rating` and `user_score` by randomly choosing from non missing values. For value `tbd`, which is to be determined, we treat is as a missing value. This is because these columns all contain categorical values, so we can use this way to handle missing values. "
   ]
  },
  {
   "cell_type": "markdown",
   "metadata": {},
   "source": [
    "### Converting data types"
   ]
  },
  {
   "cell_type": "code",
   "execution_count": 21,
   "metadata": {},
   "outputs": [
    {
     "data": {
      "text/plain": [
       "name                object\n",
       "platform            object\n",
       "year_of_release    float64\n",
       "genre               object\n",
       "na_sales           float64\n",
       "eu_sales           float64\n",
       "jp_sales           float64\n",
       "other_sales        float64\n",
       "critic_score       float64\n",
       "user_score          object\n",
       "rating              object\n",
       "dtype: object"
      ]
     },
     "execution_count": 21,
     "metadata": {},
     "output_type": "execute_result"
    }
   ],
   "source": [
    "df.dtypes"
   ]
  },
  {
   "cell_type": "code",
   "execution_count": 22,
   "metadata": {},
   "outputs": [
    {
     "data": {
      "text/plain": [
       "name                object\n",
       "platform            object\n",
       "year_of_release      int64\n",
       "genre               object\n",
       "na_sales           float64\n",
       "eu_sales           float64\n",
       "jp_sales           float64\n",
       "other_sales        float64\n",
       "critic_score         int64\n",
       "user_score         float64\n",
       "rating              object\n",
       "dtype: object"
      ]
     },
     "execution_count": 22,
     "metadata": {},
     "output_type": "execute_result"
    }
   ],
   "source": [
    "# using dictionary to convert specific columns data types\n",
    "convert_dict = {'name': str,\n",
    "                'platform': str,\n",
    "                'year_of_release': 'int64',\n",
    "                'genre': str,\n",
    "                'critic_score': 'int64',\n",
    "                'user_score': float,\n",
    "                'rating': str\n",
    "               }\n",
    "df = df.astype(convert_dict)\n",
    "df.dtypes"
   ]
  },
  {
   "cell_type": "markdown",
   "metadata": {},
   "source": [
    "### Calculate total sales"
   ]
  },
  {
   "cell_type": "code",
   "execution_count": 23,
   "metadata": {},
   "outputs": [],
   "source": [
    "df['total_sales'] = df[['na_sales', 'eu_sales', 'jp_sales', 'other_sales']].sum(axis=1)"
   ]
  },
  {
   "cell_type": "code",
   "execution_count": 24,
   "metadata": {},
   "outputs": [
    {
     "data": {
      "text/html": [
       "<div>\n",
       "<style scoped>\n",
       "    .dataframe tbody tr th:only-of-type {\n",
       "        vertical-align: middle;\n",
       "    }\n",
       "\n",
       "    .dataframe tbody tr th {\n",
       "        vertical-align: top;\n",
       "    }\n",
       "\n",
       "    .dataframe thead th {\n",
       "        text-align: right;\n",
       "    }\n",
       "</style>\n",
       "<table border=\"1\" class=\"dataframe\">\n",
       "  <thead>\n",
       "    <tr style=\"text-align: right;\">\n",
       "      <th></th>\n",
       "      <th>name</th>\n",
       "      <th>platform</th>\n",
       "      <th>year_of_release</th>\n",
       "      <th>genre</th>\n",
       "      <th>na_sales</th>\n",
       "      <th>eu_sales</th>\n",
       "      <th>jp_sales</th>\n",
       "      <th>other_sales</th>\n",
       "      <th>critic_score</th>\n",
       "      <th>user_score</th>\n",
       "      <th>rating</th>\n",
       "      <th>total_sales</th>\n",
       "    </tr>\n",
       "  </thead>\n",
       "  <tbody>\n",
       "    <tr>\n",
       "      <th>0</th>\n",
       "      <td>Wii Sports</td>\n",
       "      <td>Wii</td>\n",
       "      <td>2006</td>\n",
       "      <td>Sports</td>\n",
       "      <td>41.36</td>\n",
       "      <td>28.96</td>\n",
       "      <td>3.77</td>\n",
       "      <td>8.45</td>\n",
       "      <td>76</td>\n",
       "      <td>8.0</td>\n",
       "      <td>E</td>\n",
       "      <td>82.54</td>\n",
       "    </tr>\n",
       "    <tr>\n",
       "      <th>1</th>\n",
       "      <td>Super Mario Bros.</td>\n",
       "      <td>NES</td>\n",
       "      <td>1985</td>\n",
       "      <td>Platform</td>\n",
       "      <td>29.08</td>\n",
       "      <td>3.58</td>\n",
       "      <td>6.81</td>\n",
       "      <td>0.77</td>\n",
       "      <td>67</td>\n",
       "      <td>4.0</td>\n",
       "      <td>RP</td>\n",
       "      <td>40.24</td>\n",
       "    </tr>\n",
       "    <tr>\n",
       "      <th>2</th>\n",
       "      <td>Mario Kart Wii</td>\n",
       "      <td>Wii</td>\n",
       "      <td>2008</td>\n",
       "      <td>Racing</td>\n",
       "      <td>15.68</td>\n",
       "      <td>12.76</td>\n",
       "      <td>3.79</td>\n",
       "      <td>3.29</td>\n",
       "      <td>82</td>\n",
       "      <td>8.3</td>\n",
       "      <td>E</td>\n",
       "      <td>35.52</td>\n",
       "    </tr>\n",
       "    <tr>\n",
       "      <th>3</th>\n",
       "      <td>Wii Sports Resort</td>\n",
       "      <td>Wii</td>\n",
       "      <td>2009</td>\n",
       "      <td>Sports</td>\n",
       "      <td>15.61</td>\n",
       "      <td>10.93</td>\n",
       "      <td>3.28</td>\n",
       "      <td>2.95</td>\n",
       "      <td>80</td>\n",
       "      <td>8.0</td>\n",
       "      <td>E</td>\n",
       "      <td>32.77</td>\n",
       "    </tr>\n",
       "    <tr>\n",
       "      <th>4</th>\n",
       "      <td>Pokemon Red/Pokemon Blue</td>\n",
       "      <td>GB</td>\n",
       "      <td>1996</td>\n",
       "      <td>Role-Playing</td>\n",
       "      <td>11.27</td>\n",
       "      <td>8.89</td>\n",
       "      <td>10.22</td>\n",
       "      <td>1.00</td>\n",
       "      <td>43</td>\n",
       "      <td>5.0</td>\n",
       "      <td>E</td>\n",
       "      <td>31.38</td>\n",
       "    </tr>\n",
       "  </tbody>\n",
       "</table>\n",
       "</div>"
      ],
      "text/plain": [
       "                       name platform  year_of_release         genre  na_sales  \\\n",
       "0                Wii Sports      Wii             2006        Sports     41.36   \n",
       "1         Super Mario Bros.      NES             1985      Platform     29.08   \n",
       "2            Mario Kart Wii      Wii             2008        Racing     15.68   \n",
       "3         Wii Sports Resort      Wii             2009        Sports     15.61   \n",
       "4  Pokemon Red/Pokemon Blue       GB             1996  Role-Playing     11.27   \n",
       "\n",
       "   eu_sales  jp_sales  other_sales  critic_score  user_score rating  \\\n",
       "0     28.96      3.77         8.45            76         8.0      E   \n",
       "1      3.58      6.81         0.77            67         4.0     RP   \n",
       "2     12.76      3.79         3.29            82         8.3      E   \n",
       "3     10.93      3.28         2.95            80         8.0      E   \n",
       "4      8.89     10.22         1.00            43         5.0      E   \n",
       "\n",
       "   total_sales  \n",
       "0        82.54  \n",
       "1        40.24  \n",
       "2        35.52  \n",
       "3        32.77  \n",
       "4        31.38  "
      ]
     },
     "execution_count": 24,
     "metadata": {},
     "output_type": "execute_result"
    }
   ],
   "source": [
    "df.head()"
   ]
  },
  {
   "cell_type": "markdown",
   "metadata": {},
   "source": [
    "### Conclusion\n",
    "We converted column names to all lower cases, and we dropped missing values in `name` and `genre`. We replace missing values with existing values in columns `year_of_release`, `critic_score`, `rating` and `user_score`. Specifically, we treat value `tbd` in `user_score` as a missing value. Lastly, we convert data types to the correct ones, and calculate the total sales for each game and put these values in a separate column `total_sales`."
   ]
  },
  {
   "cell_type": "markdown",
   "metadata": {},
   "source": [
    "## Analyze the data"
   ]
  },
  {
   "cell_type": "markdown",
   "metadata": {},
   "source": [
    "### Number of  games were released in different years"
   ]
  },
  {
   "cell_type": "code",
   "execution_count": 25,
   "metadata": {
    "scrolled": true
   },
   "outputs": [
    {
     "data": {
      "text/html": [
       "<div>\n",
       "<style scoped>\n",
       "    .dataframe tbody tr th:only-of-type {\n",
       "        vertical-align: middle;\n",
       "    }\n",
       "\n",
       "    .dataframe tbody tr th {\n",
       "        vertical-align: top;\n",
       "    }\n",
       "\n",
       "    .dataframe thead th {\n",
       "        text-align: right;\n",
       "    }\n",
       "</style>\n",
       "<table border=\"1\" class=\"dataframe\">\n",
       "  <thead>\n",
       "    <tr style=\"text-align: right;\">\n",
       "      <th></th>\n",
       "      <th>year_of_release</th>\n",
       "      <th>name</th>\n",
       "    </tr>\n",
       "  </thead>\n",
       "  <tbody>\n",
       "    <tr>\n",
       "      <th>0</th>\n",
       "      <td>1980</td>\n",
       "      <td>15</td>\n",
       "    </tr>\n",
       "    <tr>\n",
       "      <th>1</th>\n",
       "      <td>1981</td>\n",
       "      <td>51</td>\n",
       "    </tr>\n",
       "    <tr>\n",
       "      <th>2</th>\n",
       "      <td>1982</td>\n",
       "      <td>45</td>\n",
       "    </tr>\n",
       "    <tr>\n",
       "      <th>3</th>\n",
       "      <td>1983</td>\n",
       "      <td>25</td>\n",
       "    </tr>\n",
       "    <tr>\n",
       "      <th>4</th>\n",
       "      <td>1984</td>\n",
       "      <td>19</td>\n",
       "    </tr>\n",
       "    <tr>\n",
       "      <th>5</th>\n",
       "      <td>1985</td>\n",
       "      <td>19</td>\n",
       "    </tr>\n",
       "    <tr>\n",
       "      <th>6</th>\n",
       "      <td>1986</td>\n",
       "      <td>26</td>\n",
       "    </tr>\n",
       "    <tr>\n",
       "      <th>7</th>\n",
       "      <td>1987</td>\n",
       "      <td>27</td>\n",
       "    </tr>\n",
       "    <tr>\n",
       "      <th>8</th>\n",
       "      <td>1988</td>\n",
       "      <td>20</td>\n",
       "    </tr>\n",
       "    <tr>\n",
       "      <th>9</th>\n",
       "      <td>1989</td>\n",
       "      <td>23</td>\n",
       "    </tr>\n",
       "    <tr>\n",
       "      <th>10</th>\n",
       "      <td>1990</td>\n",
       "      <td>25</td>\n",
       "    </tr>\n",
       "    <tr>\n",
       "      <th>11</th>\n",
       "      <td>1991</td>\n",
       "      <td>46</td>\n",
       "    </tr>\n",
       "    <tr>\n",
       "      <th>12</th>\n",
       "      <td>1992</td>\n",
       "      <td>47</td>\n",
       "    </tr>\n",
       "    <tr>\n",
       "      <th>13</th>\n",
       "      <td>1993</td>\n",
       "      <td>64</td>\n",
       "    </tr>\n",
       "    <tr>\n",
       "      <th>14</th>\n",
       "      <td>1994</td>\n",
       "      <td>126</td>\n",
       "    </tr>\n",
       "    <tr>\n",
       "      <th>15</th>\n",
       "      <td>1995</td>\n",
       "      <td>231</td>\n",
       "    </tr>\n",
       "    <tr>\n",
       "      <th>16</th>\n",
       "      <td>1996</td>\n",
       "      <td>271</td>\n",
       "    </tr>\n",
       "    <tr>\n",
       "      <th>17</th>\n",
       "      <td>1997</td>\n",
       "      <td>297</td>\n",
       "    </tr>\n",
       "    <tr>\n",
       "      <th>18</th>\n",
       "      <td>1998</td>\n",
       "      <td>386</td>\n",
       "    </tr>\n",
       "    <tr>\n",
       "      <th>19</th>\n",
       "      <td>1999</td>\n",
       "      <td>344</td>\n",
       "    </tr>\n",
       "    <tr>\n",
       "      <th>20</th>\n",
       "      <td>2000</td>\n",
       "      <td>359</td>\n",
       "    </tr>\n",
       "    <tr>\n",
       "      <th>21</th>\n",
       "      <td>2001</td>\n",
       "      <td>486</td>\n",
       "    </tr>\n",
       "    <tr>\n",
       "      <th>22</th>\n",
       "      <td>2002</td>\n",
       "      <td>838</td>\n",
       "    </tr>\n",
       "    <tr>\n",
       "      <th>23</th>\n",
       "      <td>2003</td>\n",
       "      <td>782</td>\n",
       "    </tr>\n",
       "    <tr>\n",
       "      <th>24</th>\n",
       "      <td>2004</td>\n",
       "      <td>772</td>\n",
       "    </tr>\n",
       "    <tr>\n",
       "      <th>25</th>\n",
       "      <td>2005</td>\n",
       "      <td>948</td>\n",
       "    </tr>\n",
       "    <tr>\n",
       "      <th>26</th>\n",
       "      <td>2006</td>\n",
       "      <td>1016</td>\n",
       "    </tr>\n",
       "    <tr>\n",
       "      <th>27</th>\n",
       "      <td>2007</td>\n",
       "      <td>1209</td>\n",
       "    </tr>\n",
       "    <tr>\n",
       "      <th>28</th>\n",
       "      <td>2008</td>\n",
       "      <td>1438</td>\n",
       "    </tr>\n",
       "    <tr>\n",
       "      <th>29</th>\n",
       "      <td>2009</td>\n",
       "      <td>1428</td>\n",
       "    </tr>\n",
       "    <tr>\n",
       "      <th>30</th>\n",
       "      <td>2010</td>\n",
       "      <td>1268</td>\n",
       "    </tr>\n",
       "    <tr>\n",
       "      <th>31</th>\n",
       "      <td>2011</td>\n",
       "      <td>1141</td>\n",
       "    </tr>\n",
       "    <tr>\n",
       "      <th>32</th>\n",
       "      <td>2012</td>\n",
       "      <td>664</td>\n",
       "    </tr>\n",
       "    <tr>\n",
       "      <th>33</th>\n",
       "      <td>2013</td>\n",
       "      <td>553</td>\n",
       "    </tr>\n",
       "    <tr>\n",
       "      <th>34</th>\n",
       "      <td>2014</td>\n",
       "      <td>588</td>\n",
       "    </tr>\n",
       "    <tr>\n",
       "      <th>35</th>\n",
       "      <td>2015</td>\n",
       "      <td>614</td>\n",
       "    </tr>\n",
       "    <tr>\n",
       "      <th>36</th>\n",
       "      <td>2016</td>\n",
       "      <td>502</td>\n",
       "    </tr>\n",
       "  </tbody>\n",
       "</table>\n",
       "</div>"
      ],
      "text/plain": [
       "    year_of_release  name\n",
       "0              1980    15\n",
       "1              1981    51\n",
       "2              1982    45\n",
       "3              1983    25\n",
       "4              1984    19\n",
       "5              1985    19\n",
       "6              1986    26\n",
       "7              1987    27\n",
       "8              1988    20\n",
       "9              1989    23\n",
       "10             1990    25\n",
       "11             1991    46\n",
       "12             1992    47\n",
       "13             1993    64\n",
       "14             1994   126\n",
       "15             1995   231\n",
       "16             1996   271\n",
       "17             1997   297\n",
       "18             1998   386\n",
       "19             1999   344\n",
       "20             2000   359\n",
       "21             2001   486\n",
       "22             2002   838\n",
       "23             2003   782\n",
       "24             2004   772\n",
       "25             2005   948\n",
       "26             2006  1016\n",
       "27             2007  1209\n",
       "28             2008  1438\n",
       "29             2009  1428\n",
       "30             2010  1268\n",
       "31             2011  1141\n",
       "32             2012   664\n",
       "33             2013   553\n",
       "34             2014   588\n",
       "35             2015   614\n",
       "36             2016   502"
      ]
     },
     "execution_count": 25,
     "metadata": {},
     "output_type": "execute_result"
    }
   ],
   "source": [
    "df_game = df[['year_of_release', 'name']].groupby('year_of_release').agg('count').sort_values('year_of_release').reset_index()\n",
    "df_game"
   ]
  },
  {
   "cell_type": "code",
   "execution_count": 26,
   "metadata": {},
   "outputs": [
    {
     "data": {
      "image/png": "[encoded data removed]",
      "text/plain": [
       "<Figure size 576x288 with 1 Axes>"
      ]
     },
     "metadata": {
      "needs_background": "light"
     },
     "output_type": "display_data"
    }
   ],
   "source": [
    "# create bar plot for number of games released each year.\n",
    "df_game.plot.bar(x = 'year_of_release', y = 'name', rot = 90, figsize = (8, 4), alpha = 0.6, legend = False)\n",
    "plt.xlabel('Year')\n",
    "plt.ylabel('Number of Games')\n",
    "plt.title(\"Number of Games vs. Year\");"
   ]
  },
  {
   "cell_type": "markdown",
   "metadata": {},
   "source": [
    "We noticed after year 1994, the number of games released each year starts increasing. The peak number is in year 2009. Starting from 2009, the number of games released each year starts decreasing. This is because the use of smart phones, people started to play games on their smart phones and tablets. "
   ]
  },
  {
   "cell_type": "code",
   "execution_count": 27,
   "metadata": {},
   "outputs": [],
   "source": [
    "# sum 5 years into a period\n",
    "df_game_period = df_game.groupby(df_game['year_of_release'] // 5).sum()"
   ]
  },
  {
   "cell_type": "code",
   "execution_count": 28,
   "metadata": {},
   "outputs": [],
   "source": [
    "period = ['1980 - 1984', '1984 - 1989','1990 - 1994', '1995 - 2009', \n",
    "          '2000 - 2004', '2005 - 2009', '2010 - 2014', '2015 - 2016']\n",
    "df_game_period['Period'] = period"
   ]
  },
  {
   "cell_type": "code",
   "execution_count": 29,
   "metadata": {},
   "outputs": [
    {
     "data": {
      "image/png": "[encoded data removed]",
      "text/plain": [
       "<Figure size 576x288 with 1 Axes>"
      ]
     },
     "metadata": {
      "needs_background": "light"
     },
     "output_type": "display_data"
    }
   ],
   "source": [
    "df_game_period.plot.bar(x = 'Period', y = 'name', rot = 45, figsize = (8, 4), alpha = 0.6, legend = False)\n",
    "plt.xlabel('Periods')\n",
    "plt.ylabel('Number of Games')\n",
    "plt.title(\"Number of Games vs. Period\");"
   ]
  },
  {
   "cell_type": "markdown",
   "metadata": {},
   "source": [
    "We can see between 2005 and 2009 has the most number of games released. We observed from the bar plot that the data for the period 2000 to 2016 was significant with year between 2005 and 2009 having the most significance in the data. "
   ]
  },
  {
   "cell_type": "markdown",
   "metadata": {},
   "source": [
    "### How sales varied from platform to platform."
   ]
  },
  {
   "cell_type": "code",
   "execution_count": 30,
   "metadata": {},
   "outputs": [
    {
     "data": {
      "text/html": [
       "<div>\n",
       "<style scoped>\n",
       "    .dataframe tbody tr th:only-of-type {\n",
       "        vertical-align: middle;\n",
       "    }\n",
       "\n",
       "    .dataframe tbody tr th {\n",
       "        vertical-align: top;\n",
       "    }\n",
       "\n",
       "    .dataframe thead th {\n",
       "        text-align: right;\n",
       "    }\n",
       "</style>\n",
       "<table border=\"1\" class=\"dataframe\">\n",
       "  <thead>\n",
       "    <tr style=\"text-align: right;\">\n",
       "      <th></th>\n",
       "      <th>platform</th>\n",
       "      <th>total_sales</th>\n",
       "    </tr>\n",
       "  </thead>\n",
       "  <tbody>\n",
       "    <tr>\n",
       "      <th>0</th>\n",
       "      <td>PS2</td>\n",
       "      <td>2161</td>\n",
       "    </tr>\n",
       "    <tr>\n",
       "      <th>1</th>\n",
       "      <td>DS</td>\n",
       "      <td>2151</td>\n",
       "    </tr>\n",
       "    <tr>\n",
       "      <th>2</th>\n",
       "      <td>PS3</td>\n",
       "      <td>1331</td>\n",
       "    </tr>\n",
       "    <tr>\n",
       "      <th>3</th>\n",
       "      <td>Wii</td>\n",
       "      <td>1320</td>\n",
       "    </tr>\n",
       "    <tr>\n",
       "      <th>4</th>\n",
       "      <td>X360</td>\n",
       "      <td>1262</td>\n",
       "    </tr>\n",
       "  </tbody>\n",
       "</table>\n",
       "</div>"
      ],
      "text/plain": [
       "  platform  total_sales\n",
       "0      PS2         2161\n",
       "1       DS         2151\n",
       "2      PS3         1331\n",
       "3      Wii         1320\n",
       "4     X360         1262"
      ]
     },
     "execution_count": 30,
     "metadata": {},
     "output_type": "execute_result"
    }
   ],
   "source": [
    "df_sales = df[['platform', 'total_sales']].groupby('platform').agg('count').sort_values('total_sales', ascending = False).reset_index()\n",
    "df_sales.nlargest(5, 'total_sales')"
   ]
  },
  {
   "cell_type": "code",
   "execution_count": 31,
   "metadata": {},
   "outputs": [
    {
     "data": {
      "image/png": "[encoded data removed]",
      "text/plain": [
       "<Figure size 576x288 with 1 Axes>"
      ]
     },
     "metadata": {
      "needs_background": "light"
     },
     "output_type": "display_data"
    }
   ],
   "source": [
    "df_sales.plot.bar(x = 'platform', y = 'total_sales', rot = 90, figsize = (8, 4), alpha = 0.6, legend = False)\n",
    "plt.xlabel('Platform')\n",
    "plt.ylabel('Total Sales')\n",
    "plt.title(\"Total sales variation from Platform to Platform\");"
   ]
  },
  {
   "cell_type": "markdown",
   "metadata": {},
   "source": [
    "We can see the top 5 platforms are `PS2`, `DS`, `PS3`, `Wii`, and `X360`. The platforms with least sales are `GG`, `PCFX`, `TG16`, `3DO`, and `W5`. We can choose the top 5 platforms with the greatest total sales and build distribution based on data for each year."
   ]
  },
  {
   "cell_type": "markdown",
   "metadata": {},
   "source": [
    "#### Choose the platforms with the greatest total sales and build a distribution based on data for each year"
   ]
  },
  {
   "cell_type": "code",
   "execution_count": 32,
   "metadata": {
    "scrolled": true
   },
   "outputs": [
    {
     "data": {
      "text/html": [
       "<div>\n",
       "<style scoped>\n",
       "    .dataframe tbody tr th:only-of-type {\n",
       "        vertical-align: middle;\n",
       "    }\n",
       "\n",
       "    .dataframe tbody tr th {\n",
       "        vertical-align: top;\n",
       "    }\n",
       "\n",
       "    .dataframe thead th {\n",
       "        text-align: right;\n",
       "    }\n",
       "</style>\n",
       "<table border=\"1\" class=\"dataframe\">\n",
       "  <thead>\n",
       "    <tr style=\"text-align: right;\">\n",
       "      <th>platform</th>\n",
       "      <th>DS</th>\n",
       "      <th>PS2</th>\n",
       "      <th>PS3</th>\n",
       "      <th>Wii</th>\n",
       "      <th>X360</th>\n",
       "    </tr>\n",
       "    <tr>\n",
       "      <th>year_of_release</th>\n",
       "      <th></th>\n",
       "      <th></th>\n",
       "      <th></th>\n",
       "      <th></th>\n",
       "      <th></th>\n",
       "    </tr>\n",
       "  </thead>\n",
       "  <tbody>\n",
       "    <tr>\n",
       "      <th>2012</th>\n",
       "      <td>11.13</td>\n",
       "      <td>NaN</td>\n",
       "      <td>107.57</td>\n",
       "      <td>21.71</td>\n",
       "      <td>99.99</td>\n",
       "    </tr>\n",
       "    <tr>\n",
       "      <th>2013</th>\n",
       "      <td>1.54</td>\n",
       "      <td>3.35</td>\n",
       "      <td>113.35</td>\n",
       "      <td>8.59</td>\n",
       "      <td>88.93</td>\n",
       "    </tr>\n",
       "    <tr>\n",
       "      <th>2014</th>\n",
       "      <td>NaN</td>\n",
       "      <td>NaN</td>\n",
       "      <td>47.95</td>\n",
       "      <td>4.30</td>\n",
       "      <td>35.17</td>\n",
       "    </tr>\n",
       "    <tr>\n",
       "      <th>2015</th>\n",
       "      <td>NaN</td>\n",
       "      <td>1.92</td>\n",
       "      <td>16.83</td>\n",
       "      <td>1.14</td>\n",
       "      <td>11.96</td>\n",
       "    </tr>\n",
       "    <tr>\n",
       "      <th>2016</th>\n",
       "      <td>NaN</td>\n",
       "      <td>NaN</td>\n",
       "      <td>3.60</td>\n",
       "      <td>0.18</td>\n",
       "      <td>1.52</td>\n",
       "    </tr>\n",
       "  </tbody>\n",
       "</table>\n",
       "</div>"
      ],
      "text/plain": [
       "platform            DS   PS2     PS3    Wii   X360\n",
       "year_of_release                                   \n",
       "2012             11.13   NaN  107.57  21.71  99.99\n",
       "2013              1.54  3.35  113.35   8.59  88.93\n",
       "2014               NaN   NaN   47.95   4.30  35.17\n",
       "2015               NaN  1.92   16.83   1.14  11.96\n",
       "2016               NaN   NaN    3.60   0.18   1.52"
      ]
     },
     "execution_count": 32,
     "metadata": {},
     "output_type": "execute_result"
    }
   ],
   "source": [
    "df_top = df[df.platform.isin(['PS2', 'DS', 'PS3', 'Wii', 'X360'])]\n",
    "top5_sales = df_top.pivot_table(index = 'year_of_release', values= 'total_sales', columns = 'platform', aggfunc = np.sum)\n",
    "top5_sales.tail()"
   ]
  },
  {
   "cell_type": "code",
   "execution_count": 33,
   "metadata": {},
   "outputs": [
    {
     "data": {
      "image/png": "[encoded data removed]",
      "text/plain": [
       "<Figure size 720x1440 with 5 Axes>"
      ]
     },
     "metadata": {
      "needs_background": "light"
     },
     "output_type": "display_data"
    }
   ],
   "source": [
    "top5_sales.plot.bar(subplots=True, figsize=(10, 20), alpha = 0.6)\n",
    "plt.suptitle(\"\")\n",
    "plt.xlabel('Year')\n",
    "plt.ylabel('Total Sales');"
   ]
  },
  {
   "cell_type": "markdown",
   "metadata": {},
   "source": [
    "We can see that \n",
    "* `PS2` which has top 1 sales was popular between 2001 and 2007, and started dropping after 2007. PS2 used to be very popular but have zero sales right now. \n",
    "* `DS` was very popular between 2005 and 2010. DS used to be very popular but have zero sales right now. \n",
    "* `PS3` was very popular between 2008 and 2013, the sales started dropping after 2013. \n",
    "* `Wii` was popular between 2006 and 2011. It's sales has reduced since 2011 now have zero sales.\n",
    "* `X360` was popular between 2006 and 2011.\n",
    "* It generally takes around 6 to 7 years for new platforms to appear and old ones to fade. "
   ]
  },
  {
   "cell_type": "markdown",
   "metadata": {},
   "source": [
    "#### Find platforms that used to be popular but now have zero sales."
   ]
  },
  {
   "cell_type": "markdown",
   "metadata": {},
   "source": [
    "We can find platform that were popular but now have zero sales based on the z-score. If the z-score of certain platform is greater than 0, means that platform used to be popular but now have zero sales. If the z-score of certain platform is less than 0, means that platform wasn't very popular at all time. "
   ]
  },
  {
   "cell_type": "code",
   "execution_count": 34,
   "metadata": {},
   "outputs": [
    {
     "data": {
      "text/html": [
       "<div>\n",
       "<style scoped>\n",
       "    .dataframe tbody tr th:only-of-type {\n",
       "        vertical-align: middle;\n",
       "    }\n",
       "\n",
       "    .dataframe tbody tr th {\n",
       "        vertical-align: top;\n",
       "    }\n",
       "\n",
       "    .dataframe thead th {\n",
       "        text-align: right;\n",
       "    }\n",
       "</style>\n",
       "<table border=\"1\" class=\"dataframe\">\n",
       "  <thead>\n",
       "    <tr style=\"text-align: right;\">\n",
       "      <th></th>\n",
       "      <th>platform</th>\n",
       "      <th>total_sales</th>\n",
       "    </tr>\n",
       "  </thead>\n",
       "  <tbody>\n",
       "    <tr>\n",
       "      <th>0</th>\n",
       "      <td>PCFX</td>\n",
       "      <td>0.03</td>\n",
       "    </tr>\n",
       "    <tr>\n",
       "      <th>1</th>\n",
       "      <td>GG</td>\n",
       "      <td>0.04</td>\n",
       "    </tr>\n",
       "    <tr>\n",
       "      <th>2</th>\n",
       "      <td>3DO</td>\n",
       "      <td>0.10</td>\n",
       "    </tr>\n",
       "    <tr>\n",
       "      <th>3</th>\n",
       "      <td>TG16</td>\n",
       "      <td>0.16</td>\n",
       "    </tr>\n",
       "    <tr>\n",
       "      <th>4</th>\n",
       "      <td>WS</td>\n",
       "      <td>1.42</td>\n",
       "    </tr>\n",
       "  </tbody>\n",
       "</table>\n",
       "</div>"
      ],
      "text/plain": [
       "  platform  total_sales\n",
       "0     PCFX         0.03\n",
       "1       GG         0.04\n",
       "2      3DO         0.10\n",
       "3     TG16         0.16\n",
       "4       WS         1.42"
      ]
     },
     "execution_count": 34,
     "metadata": {},
     "output_type": "execute_result"
    }
   ],
   "source": [
    "df_platform = df[['platform', 'total_sales']].groupby('platform').sum().sort_values(by='total_sales').reset_index()\n",
    "df_platform.head()"
   ]
  },
  {
   "cell_type": "code",
   "execution_count": 35,
   "metadata": {},
   "outputs": [
    {
     "data": {
      "text/html": [
       "<div>\n",
       "<style scoped>\n",
       "    .dataframe tbody tr th:only-of-type {\n",
       "        vertical-align: middle;\n",
       "    }\n",
       "\n",
       "    .dataframe tbody tr th {\n",
       "        vertical-align: top;\n",
       "    }\n",
       "\n",
       "    .dataframe thead th {\n",
       "        text-align: right;\n",
       "    }\n",
       "</style>\n",
       "<table border=\"1\" class=\"dataframe\">\n",
       "  <thead>\n",
       "    <tr style=\"text-align: right;\">\n",
       "      <th></th>\n",
       "      <th>platform</th>\n",
       "      <th>total_sales</th>\n",
       "      <th>sales_zscore</th>\n",
       "      <th>colors</th>\n",
       "    </tr>\n",
       "  </thead>\n",
       "  <tbody>\n",
       "    <tr>\n",
       "      <th>0</th>\n",
       "      <td>PCFX</td>\n",
       "      <td>0.03</td>\n",
       "      <td>-0.825614</td>\n",
       "      <td>orange</td>\n",
       "    </tr>\n",
       "    <tr>\n",
       "      <th>1</th>\n",
       "      <td>GG</td>\n",
       "      <td>0.04</td>\n",
       "      <td>-0.825586</td>\n",
       "      <td>orange</td>\n",
       "    </tr>\n",
       "    <tr>\n",
       "      <th>2</th>\n",
       "      <td>3DO</td>\n",
       "      <td>0.10</td>\n",
       "      <td>-0.825413</td>\n",
       "      <td>orange</td>\n",
       "    </tr>\n",
       "    <tr>\n",
       "      <th>3</th>\n",
       "      <td>TG16</td>\n",
       "      <td>0.16</td>\n",
       "      <td>-0.825241</td>\n",
       "      <td>orange</td>\n",
       "    </tr>\n",
       "    <tr>\n",
       "      <th>4</th>\n",
       "      <td>WS</td>\n",
       "      <td>1.42</td>\n",
       "      <td>-0.821623</td>\n",
       "      <td>orange</td>\n",
       "    </tr>\n",
       "  </tbody>\n",
       "</table>\n",
       "</div>"
      ],
      "text/plain": [
       "  platform  total_sales  sales_zscore  colors\n",
       "0     PCFX         0.03     -0.825614  orange\n",
       "1       GG         0.04     -0.825586  orange\n",
       "2      3DO         0.10     -0.825413  orange\n",
       "3     TG16         0.16     -0.825241  orange\n",
       "4       WS         1.42     -0.821623  orange"
      ]
     },
     "execution_count": 35,
     "metadata": {},
     "output_type": "execute_result"
    }
   ],
   "source": [
    "# calculate the z-scores\n",
    "df_platform['sales_zscore'] = (df_platform['total_sales'] - df_platform['total_sales'].mean())/ df_platform['total_sales'].std()\n",
    "df_platform['colors'] = ['orange' if x < 0 else 'blue' for x in df_platform['sales_zscore']]\n",
    "df_platform.head()"
   ]
  },
  {
   "cell_type": "markdown",
   "metadata": {},
   "source": [
    "Diverging bar plot: https://www.geeksforgeeks.org/diverging-bar-chart-using-python/"
   ]
  },
  {
   "cell_type": "code",
   "execution_count": 36,
   "metadata": {},
   "outputs": [
    {
     "data": {
      "text/html": [
       "<div>\n",
       "<style scoped>\n",
       "    .dataframe tbody tr th:only-of-type {\n",
       "        vertical-align: middle;\n",
       "    }\n",
       "\n",
       "    .dataframe tbody tr th {\n",
       "        vertical-align: top;\n",
       "    }\n",
       "\n",
       "    .dataframe thead th {\n",
       "        text-align: right;\n",
       "    }\n",
       "</style>\n",
       "<table border=\"1\" class=\"dataframe\">\n",
       "  <thead>\n",
       "    <tr style=\"text-align: right;\">\n",
       "      <th>platform</th>\n",
       "      <th>2600</th>\n",
       "      <th>3DO</th>\n",
       "      <th>3DS</th>\n",
       "      <th>DC</th>\n",
       "      <th>DS</th>\n",
       "      <th>GB</th>\n",
       "      <th>GBA</th>\n",
       "      <th>GC</th>\n",
       "      <th>GEN</th>\n",
       "      <th>GG</th>\n",
       "      <th>N64</th>\n",
       "      <th>NES</th>\n",
       "      <th>NG</th>\n",
       "      <th>PC</th>\n",
       "      <th>PCFX</th>\n",
       "      <th>PS</th>\n",
       "      <th>PS2</th>\n",
       "      <th>PS3</th>\n",
       "      <th>PS4</th>\n",
       "      <th>PSP</th>\n",
       "      <th>PSV</th>\n",
       "      <th>SAT</th>\n",
       "      <th>SCD</th>\n",
       "      <th>SNES</th>\n",
       "      <th>TG16</th>\n",
       "      <th>WS</th>\n",
       "      <th>Wii</th>\n",
       "      <th>WiiU</th>\n",
       "      <th>X360</th>\n",
       "      <th>XB</th>\n",
       "      <th>XOne</th>\n",
       "    </tr>\n",
       "    <tr>\n",
       "      <th>year_of_release</th>\n",
       "      <th></th>\n",
       "      <th></th>\n",
       "      <th></th>\n",
       "      <th></th>\n",
       "      <th></th>\n",
       "      <th></th>\n",
       "      <th></th>\n",
       "      <th></th>\n",
       "      <th></th>\n",
       "      <th></th>\n",
       "      <th></th>\n",
       "      <th></th>\n",
       "      <th></th>\n",
       "      <th></th>\n",
       "      <th></th>\n",
       "      <th></th>\n",
       "      <th></th>\n",
       "      <th></th>\n",
       "      <th></th>\n",
       "      <th></th>\n",
       "      <th></th>\n",
       "      <th></th>\n",
       "      <th></th>\n",
       "      <th></th>\n",
       "      <th></th>\n",
       "      <th></th>\n",
       "      <th></th>\n",
       "      <th></th>\n",
       "      <th></th>\n",
       "      <th></th>\n",
       "      <th></th>\n",
       "    </tr>\n",
       "  </thead>\n",
       "  <tbody>\n",
       "    <tr>\n",
       "      <th>2012</th>\n",
       "      <td>0.47</td>\n",
       "      <td>NaN</td>\n",
       "      <td>51.76</td>\n",
       "      <td>NaN</td>\n",
       "      <td>11.13</td>\n",
       "      <td>NaN</td>\n",
       "      <td>NaN</td>\n",
       "      <td>NaN</td>\n",
       "      <td>NaN</td>\n",
       "      <td>NaN</td>\n",
       "      <td>NaN</td>\n",
       "      <td>NaN</td>\n",
       "      <td>NaN</td>\n",
       "      <td>23.22</td>\n",
       "      <td>NaN</td>\n",
       "      <td>NaN</td>\n",
       "      <td>NaN</td>\n",
       "      <td>107.57</td>\n",
       "      <td>NaN</td>\n",
       "      <td>7.73</td>\n",
       "      <td>16.19</td>\n",
       "      <td>NaN</td>\n",
       "      <td>NaN</td>\n",
       "      <td>NaN</td>\n",
       "      <td>NaN</td>\n",
       "      <td>NaN</td>\n",
       "      <td>21.71</td>\n",
       "      <td>17.56</td>\n",
       "      <td>99.99</td>\n",
       "      <td>0.58</td>\n",
       "      <td>NaN</td>\n",
       "    </tr>\n",
       "    <tr>\n",
       "      <th>2013</th>\n",
       "      <td>0.46</td>\n",
       "      <td>NaN</td>\n",
       "      <td>56.57</td>\n",
       "      <td>NaN</td>\n",
       "      <td>1.54</td>\n",
       "      <td>NaN</td>\n",
       "      <td>NaN</td>\n",
       "      <td>NaN</td>\n",
       "      <td>NaN</td>\n",
       "      <td>NaN</td>\n",
       "      <td>NaN</td>\n",
       "      <td>NaN</td>\n",
       "      <td>NaN</td>\n",
       "      <td>12.43</td>\n",
       "      <td>NaN</td>\n",
       "      <td>0.18</td>\n",
       "      <td>3.35</td>\n",
       "      <td>113.35</td>\n",
       "      <td>25.99</td>\n",
       "      <td>3.14</td>\n",
       "      <td>10.59</td>\n",
       "      <td>NaN</td>\n",
       "      <td>NaN</td>\n",
       "      <td>NaN</td>\n",
       "      <td>NaN</td>\n",
       "      <td>NaN</td>\n",
       "      <td>8.59</td>\n",
       "      <td>21.65</td>\n",
       "      <td>88.93</td>\n",
       "      <td>0.63</td>\n",
       "      <td>18.96</td>\n",
       "    </tr>\n",
       "    <tr>\n",
       "      <th>2014</th>\n",
       "      <td>NaN</td>\n",
       "      <td>NaN</td>\n",
       "      <td>43.76</td>\n",
       "      <td>NaN</td>\n",
       "      <td>NaN</td>\n",
       "      <td>NaN</td>\n",
       "      <td>0.67</td>\n",
       "      <td>0.29</td>\n",
       "      <td>NaN</td>\n",
       "      <td>NaN</td>\n",
       "      <td>NaN</td>\n",
       "      <td>NaN</td>\n",
       "      <td>NaN</td>\n",
       "      <td>13.28</td>\n",
       "      <td>NaN</td>\n",
       "      <td>NaN</td>\n",
       "      <td>NaN</td>\n",
       "      <td>47.95</td>\n",
       "      <td>100.00</td>\n",
       "      <td>0.24</td>\n",
       "      <td>11.90</td>\n",
       "      <td>NaN</td>\n",
       "      <td>NaN</td>\n",
       "      <td>NaN</td>\n",
       "      <td>NaN</td>\n",
       "      <td>NaN</td>\n",
       "      <td>4.30</td>\n",
       "      <td>22.03</td>\n",
       "      <td>35.17</td>\n",
       "      <td>NaN</td>\n",
       "      <td>54.07</td>\n",
       "    </tr>\n",
       "    <tr>\n",
       "      <th>2015</th>\n",
       "      <td>NaN</td>\n",
       "      <td>NaN</td>\n",
       "      <td>27.78</td>\n",
       "      <td>NaN</td>\n",
       "      <td>NaN</td>\n",
       "      <td>NaN</td>\n",
       "      <td>0.37</td>\n",
       "      <td>0.29</td>\n",
       "      <td>NaN</td>\n",
       "      <td>NaN</td>\n",
       "      <td>NaN</td>\n",
       "      <td>NaN</td>\n",
       "      <td>NaN</td>\n",
       "      <td>8.52</td>\n",
       "      <td>NaN</td>\n",
       "      <td>NaN</td>\n",
       "      <td>1.92</td>\n",
       "      <td>16.83</td>\n",
       "      <td>118.90</td>\n",
       "      <td>0.12</td>\n",
       "      <td>6.25</td>\n",
       "      <td>NaN</td>\n",
       "      <td>NaN</td>\n",
       "      <td>NaN</td>\n",
       "      <td>NaN</td>\n",
       "      <td>NaN</td>\n",
       "      <td>1.14</td>\n",
       "      <td>16.35</td>\n",
       "      <td>11.96</td>\n",
       "      <td>0.12</td>\n",
       "      <td>60.14</td>\n",
       "    </tr>\n",
       "    <tr>\n",
       "      <th>2016</th>\n",
       "      <td>NaN</td>\n",
       "      <td>NaN</td>\n",
       "      <td>15.14</td>\n",
       "      <td>NaN</td>\n",
       "      <td>NaN</td>\n",
       "      <td>NaN</td>\n",
       "      <td>NaN</td>\n",
       "      <td>NaN</td>\n",
       "      <td>NaN</td>\n",
       "      <td>NaN</td>\n",
       "      <td>NaN</td>\n",
       "      <td>NaN</td>\n",
       "      <td>NaN</td>\n",
       "      <td>5.25</td>\n",
       "      <td>NaN</td>\n",
       "      <td>NaN</td>\n",
       "      <td>NaN</td>\n",
       "      <td>3.60</td>\n",
       "      <td>69.25</td>\n",
       "      <td>NaN</td>\n",
       "      <td>4.25</td>\n",
       "      <td>NaN</td>\n",
       "      <td>NaN</td>\n",
       "      <td>NaN</td>\n",
       "      <td>NaN</td>\n",
       "      <td>NaN</td>\n",
       "      <td>0.18</td>\n",
       "      <td>4.60</td>\n",
       "      <td>1.52</td>\n",
       "      <td>NaN</td>\n",
       "      <td>26.15</td>\n",
       "    </tr>\n",
       "  </tbody>\n",
       "</table>\n",
       "</div>"
      ],
      "text/plain": [
       "platform         2600  3DO    3DS  DC     DS  GB   GBA    GC  GEN  GG  N64  \\\n",
       "year_of_release                                                              \n",
       "2012             0.47  NaN  51.76 NaN  11.13 NaN   NaN   NaN  NaN NaN  NaN   \n",
       "2013             0.46  NaN  56.57 NaN   1.54 NaN   NaN   NaN  NaN NaN  NaN   \n",
       "2014              NaN  NaN  43.76 NaN    NaN NaN  0.67  0.29  NaN NaN  NaN   \n",
       "2015              NaN  NaN  27.78 NaN    NaN NaN  0.37  0.29  NaN NaN  NaN   \n",
       "2016              NaN  NaN  15.14 NaN    NaN NaN   NaN   NaN  NaN NaN  NaN   \n",
       "\n",
       "platform         NES  NG     PC  PCFX    PS   PS2     PS3     PS4   PSP  \\\n",
       "year_of_release                                                           \n",
       "2012             NaN NaN  23.22   NaN   NaN   NaN  107.57     NaN  7.73   \n",
       "2013             NaN NaN  12.43   NaN  0.18  3.35  113.35   25.99  3.14   \n",
       "2014             NaN NaN  13.28   NaN   NaN   NaN   47.95  100.00  0.24   \n",
       "2015             NaN NaN   8.52   NaN   NaN  1.92   16.83  118.90  0.12   \n",
       "2016             NaN NaN   5.25   NaN   NaN   NaN    3.60   69.25   NaN   \n",
       "\n",
       "platform           PSV  SAT  SCD  SNES  TG16  WS    Wii   WiiU   X360    XB  \\\n",
       "year_of_release                                                               \n",
       "2012             16.19  NaN  NaN   NaN   NaN NaN  21.71  17.56  99.99  0.58   \n",
       "2013             10.59  NaN  NaN   NaN   NaN NaN   8.59  21.65  88.93  0.63   \n",
       "2014             11.90  NaN  NaN   NaN   NaN NaN   4.30  22.03  35.17   NaN   \n",
       "2015              6.25  NaN  NaN   NaN   NaN NaN   1.14  16.35  11.96  0.12   \n",
       "2016              4.25  NaN  NaN   NaN   NaN NaN   0.18   4.60   1.52   NaN   \n",
       "\n",
       "platform          XOne  \n",
       "year_of_release         \n",
       "2012               NaN  \n",
       "2013             18.96  \n",
       "2014             54.07  \n",
       "2015             60.14  \n",
       "2016             26.15  "
      ]
     },
     "execution_count": 36,
     "metadata": {},
     "output_type": "execute_result"
    }
   ],
   "source": [
    "pd.set_option('display.max_columns', None)\n",
    "temp = df.pivot_table(index = 'year_of_release', values= 'total_sales', columns = 'platform', aggfunc = np.sum)\n",
    "temp.tail()"
   ]
  },
  {
   "cell_type": "code",
   "execution_count": 37,
   "metadata": {
    "scrolled": true
   },
   "outputs": [
    {
     "data": {
      "image/png": "[encoded data removed]",
      "text/plain": [
       "<Figure size 720x720 with 1 Axes>"
      ]
     },
     "metadata": {
      "needs_background": "light"
     },
     "output_type": "display_data"
    }
   ],
   "source": [
    "# draw a diverging bar plot\n",
    "plt.figure(figsize=(10, 10))\n",
    "plt.hlines(y = df_platform.platform, xmin = 0, xmax = df_platform.sales_zscore, color = df_platform.colors, alpha=0.5, linewidth=5)\n",
    "plt.gca().set(ylabel='Platform', xlabel='Z-Score');"
   ]
  },
  {
   "cell_type": "markdown",
   "metadata": {},
   "source": [
    "From the diverging bar plot, we can see platforms with z-scores > 0 are those used to be popular. These platforms are `PS2`, `X360`, `PS3`, `Wii`, `DS`, and `PS`. In these popular platforms, `PS2`, `DS`, and `PS` have zero sales in year 2016. Platforms with z-scores way less than 0 are those weren't popular at all time. These platforms are `PCFX`, `GG`, `3DO`, `TG16`, and `WS`. "
   ]
  },
  {
   "cell_type": "markdown",
   "metadata": {},
   "source": [
    "As we did in the previous steps, we can choose data after year `2012` to be relevant to our analysis. "
   ]
  },
  {
   "cell_type": "code",
   "execution_count": 38,
   "metadata": {},
   "outputs": [],
   "source": [
    "df_new = df[df['year_of_release'] > 2012]\n",
    "df_new = df_new.reset_index(drop = True, inplace = False)"
   ]
  },
  {
   "cell_type": "markdown",
   "metadata": {},
   "source": [
    "### Which platforms are leading in sales? Which ones are growing or shrinking?"
   ]
  },
  {
   "cell_type": "code",
   "execution_count": 39,
   "metadata": {},
   "outputs": [
    {
     "data": {
      "text/html": [
       "<div>\n",
       "<style scoped>\n",
       "    .dataframe tbody tr th:only-of-type {\n",
       "        vertical-align: middle;\n",
       "    }\n",
       "\n",
       "    .dataframe tbody tr th {\n",
       "        vertical-align: top;\n",
       "    }\n",
       "\n",
       "    .dataframe thead th {\n",
       "        text-align: right;\n",
       "    }\n",
       "</style>\n",
       "<table border=\"1\" class=\"dataframe\">\n",
       "  <thead>\n",
       "    <tr style=\"text-align: right;\">\n",
       "      <th></th>\n",
       "      <th>platform</th>\n",
       "      <th>total_sales</th>\n",
       "    </tr>\n",
       "  </thead>\n",
       "  <tbody>\n",
       "    <tr>\n",
       "      <th>0</th>\n",
       "      <td>PS4</td>\n",
       "      <td>314.14</td>\n",
       "    </tr>\n",
       "    <tr>\n",
       "      <th>1</th>\n",
       "      <td>PS3</td>\n",
       "      <td>181.73</td>\n",
       "    </tr>\n",
       "    <tr>\n",
       "      <th>2</th>\n",
       "      <td>XOne</td>\n",
       "      <td>159.32</td>\n",
       "    </tr>\n",
       "    <tr>\n",
       "      <th>3</th>\n",
       "      <td>3DS</td>\n",
       "      <td>143.25</td>\n",
       "    </tr>\n",
       "    <tr>\n",
       "      <th>4</th>\n",
       "      <td>X360</td>\n",
       "      <td>137.58</td>\n",
       "    </tr>\n",
       "    <tr>\n",
       "      <th>5</th>\n",
       "      <td>WiiU</td>\n",
       "      <td>64.63</td>\n",
       "    </tr>\n",
       "    <tr>\n",
       "      <th>6</th>\n",
       "      <td>PC</td>\n",
       "      <td>39.48</td>\n",
       "    </tr>\n",
       "    <tr>\n",
       "      <th>7</th>\n",
       "      <td>PSV</td>\n",
       "      <td>32.99</td>\n",
       "    </tr>\n",
       "    <tr>\n",
       "      <th>8</th>\n",
       "      <td>Wii</td>\n",
       "      <td>14.21</td>\n",
       "    </tr>\n",
       "    <tr>\n",
       "      <th>9</th>\n",
       "      <td>PS2</td>\n",
       "      <td>5.27</td>\n",
       "    </tr>\n",
       "  </tbody>\n",
       "</table>\n",
       "</div>"
      ],
      "text/plain": [
       "  platform  total_sales\n",
       "0      PS4       314.14\n",
       "1      PS3       181.73\n",
       "2     XOne       159.32\n",
       "3      3DS       143.25\n",
       "4     X360       137.58\n",
       "5     WiiU        64.63\n",
       "6       PC        39.48\n",
       "7      PSV        32.99\n",
       "8      Wii        14.21\n",
       "9      PS2         5.27"
      ]
     },
     "execution_count": 39,
     "metadata": {},
     "output_type": "execute_result"
    }
   ],
   "source": [
    "# platforms that are leading in sales. \n",
    "df_sales = df_new[['platform', 'total_sales']].groupby('platform').sum().sort_values(by = 'total_sales', ascending = False).reset_index()\n",
    "df_sales.head(10)"
   ]
  },
  {
   "cell_type": "markdown",
   "metadata": {},
   "source": [
    "We can see that `PS4`, `PS3`, `XOne`, `3DS`, and `X360` are platforms that are leading in sales. "
   ]
  },
  {
   "cell_type": "code",
   "execution_count": 40,
   "metadata": {},
   "outputs": [
    {
     "data": {
      "text/html": [
       "<div>\n",
       "<style scoped>\n",
       "    .dataframe tbody tr th:only-of-type {\n",
       "        vertical-align: middle;\n",
       "    }\n",
       "\n",
       "    .dataframe tbody tr th {\n",
       "        vertical-align: top;\n",
       "    }\n",
       "\n",
       "    .dataframe thead th {\n",
       "        text-align: right;\n",
       "    }\n",
       "</style>\n",
       "<table border=\"1\" class=\"dataframe\">\n",
       "  <thead>\n",
       "    <tr style=\"text-align: right;\">\n",
       "      <th>platform</th>\n",
       "      <th>2600</th>\n",
       "      <th>3DS</th>\n",
       "      <th>DS</th>\n",
       "      <th>GBA</th>\n",
       "      <th>GC</th>\n",
       "      <th>PC</th>\n",
       "      <th>PS</th>\n",
       "      <th>PS2</th>\n",
       "      <th>PS3</th>\n",
       "      <th>PS4</th>\n",
       "      <th>PSP</th>\n",
       "      <th>PSV</th>\n",
       "      <th>Wii</th>\n",
       "      <th>WiiU</th>\n",
       "      <th>X360</th>\n",
       "      <th>XB</th>\n",
       "      <th>XOne</th>\n",
       "    </tr>\n",
       "    <tr>\n",
       "      <th>year_of_release</th>\n",
       "      <th></th>\n",
       "      <th></th>\n",
       "      <th></th>\n",
       "      <th></th>\n",
       "      <th></th>\n",
       "      <th></th>\n",
       "      <th></th>\n",
       "      <th></th>\n",
       "      <th></th>\n",
       "      <th></th>\n",
       "      <th></th>\n",
       "      <th></th>\n",
       "      <th></th>\n",
       "      <th></th>\n",
       "      <th></th>\n",
       "      <th></th>\n",
       "      <th></th>\n",
       "    </tr>\n",
       "  </thead>\n",
       "  <tbody>\n",
       "    <tr>\n",
       "      <th>2013</th>\n",
       "      <td>0.46</td>\n",
       "      <td>56.57</td>\n",
       "      <td>1.54</td>\n",
       "      <td>NaN</td>\n",
       "      <td>NaN</td>\n",
       "      <td>12.43</td>\n",
       "      <td>0.18</td>\n",
       "      <td>3.35</td>\n",
       "      <td>113.35</td>\n",
       "      <td>25.99</td>\n",
       "      <td>3.14</td>\n",
       "      <td>10.59</td>\n",
       "      <td>8.59</td>\n",
       "      <td>21.65</td>\n",
       "      <td>88.93</td>\n",
       "      <td>0.63</td>\n",
       "      <td>18.96</td>\n",
       "    </tr>\n",
       "    <tr>\n",
       "      <th>2014</th>\n",
       "      <td>NaN</td>\n",
       "      <td>43.76</td>\n",
       "      <td>NaN</td>\n",
       "      <td>0.67</td>\n",
       "      <td>0.29</td>\n",
       "      <td>13.28</td>\n",
       "      <td>NaN</td>\n",
       "      <td>NaN</td>\n",
       "      <td>47.95</td>\n",
       "      <td>100.00</td>\n",
       "      <td>0.24</td>\n",
       "      <td>11.90</td>\n",
       "      <td>4.30</td>\n",
       "      <td>22.03</td>\n",
       "      <td>35.17</td>\n",
       "      <td>NaN</td>\n",
       "      <td>54.07</td>\n",
       "    </tr>\n",
       "    <tr>\n",
       "      <th>2015</th>\n",
       "      <td>NaN</td>\n",
       "      <td>27.78</td>\n",
       "      <td>NaN</td>\n",
       "      <td>0.37</td>\n",
       "      <td>0.29</td>\n",
       "      <td>8.52</td>\n",
       "      <td>NaN</td>\n",
       "      <td>1.92</td>\n",
       "      <td>16.83</td>\n",
       "      <td>118.90</td>\n",
       "      <td>0.12</td>\n",
       "      <td>6.25</td>\n",
       "      <td>1.14</td>\n",
       "      <td>16.35</td>\n",
       "      <td>11.96</td>\n",
       "      <td>0.12</td>\n",
       "      <td>60.14</td>\n",
       "    </tr>\n",
       "    <tr>\n",
       "      <th>2016</th>\n",
       "      <td>NaN</td>\n",
       "      <td>15.14</td>\n",
       "      <td>NaN</td>\n",
       "      <td>NaN</td>\n",
       "      <td>NaN</td>\n",
       "      <td>5.25</td>\n",
       "      <td>NaN</td>\n",
       "      <td>NaN</td>\n",
       "      <td>3.60</td>\n",
       "      <td>69.25</td>\n",
       "      <td>NaN</td>\n",
       "      <td>4.25</td>\n",
       "      <td>0.18</td>\n",
       "      <td>4.60</td>\n",
       "      <td>1.52</td>\n",
       "      <td>NaN</td>\n",
       "      <td>26.15</td>\n",
       "    </tr>\n",
       "  </tbody>\n",
       "</table>\n",
       "</div>"
      ],
      "text/plain": [
       "platform         2600    3DS    DS   GBA    GC     PC    PS   PS2     PS3  \\\n",
       "year_of_release                                                             \n",
       "2013             0.46  56.57  1.54   NaN   NaN  12.43  0.18  3.35  113.35   \n",
       "2014              NaN  43.76   NaN  0.67  0.29  13.28   NaN   NaN   47.95   \n",
       "2015              NaN  27.78   NaN  0.37  0.29   8.52   NaN  1.92   16.83   \n",
       "2016              NaN  15.14   NaN   NaN   NaN   5.25   NaN   NaN    3.60   \n",
       "\n",
       "platform            PS4   PSP    PSV   Wii   WiiU   X360    XB   XOne  \n",
       "year_of_release                                                        \n",
       "2013              25.99  3.14  10.59  8.59  21.65  88.93  0.63  18.96  \n",
       "2014             100.00  0.24  11.90  4.30  22.03  35.17   NaN  54.07  \n",
       "2015             118.90  0.12   6.25  1.14  16.35  11.96  0.12  60.14  \n",
       "2016              69.25   NaN   4.25  0.18   4.60   1.52   NaN  26.15  "
      ]
     },
     "execution_count": 40,
     "metadata": {},
     "output_type": "execute_result"
    }
   ],
   "source": [
    "# platforms that are shrinking in sales. \n",
    "df_sales_year = df_new.pivot_table(index = 'year_of_release', values= 'total_sales', columns = 'platform', aggfunc = np.sum)\n",
    "df_sales_year.head()"
   ]
  },
  {
   "cell_type": "code",
   "execution_count": 41,
   "metadata": {},
   "outputs": [
    {
     "data": {
      "image/png": "[encoded data removed]",
      "text/plain": [
       "<Figure size 864x576 with 2 Axes>"
      ]
     },
     "metadata": {
      "needs_background": "light"
     },
     "output_type": "display_data"
    }
   ],
   "source": [
    "plt.figure(figsize=(12,8))\n",
    "sns.heatmap(df_sales_year.T, cmap = 'RdPu', alpha = 0.8)\n",
    "plt.title('Heatmap of Platform vs. Year Release')\n",
    "plt.xlabel('Year of Release')\n",
    "plt.ylabel('Platforms');"
   ]
  },
  {
   "cell_type": "markdown",
   "metadata": {},
   "source": [
    "From the above heatmap, we can see that `PS4`, `PS3`, `XOne`, `3DS`, and `X360` are platforms that are leading in sales, which we already confirmed. Platforms with light colors such as `3DS`, `2600`, and `GBA` are platforms are shrinking in sales. Platforms that are potentially profitable are those used to popular and still have sales in recent years. These platforms are `PS4` and `XOne`.  "
   ]
  },
  {
   "cell_type": "markdown",
   "metadata": {},
   "source": [
    "### Build a box plot for the global sales of all games, broken down by platform.  Calculate average sales on various platforms"
   ]
  },
  {
   "cell_type": "code",
   "execution_count": 42,
   "metadata": {},
   "outputs": [
    {
     "data": {
      "text/html": [
       "<div>\n",
       "<style scoped>\n",
       "    .dataframe tbody tr th:only-of-type {\n",
       "        vertical-align: middle;\n",
       "    }\n",
       "\n",
       "    .dataframe tbody tr th {\n",
       "        vertical-align: top;\n",
       "    }\n",
       "\n",
       "    .dataframe thead th {\n",
       "        text-align: right;\n",
       "    }\n",
       "</style>\n",
       "<table border=\"1\" class=\"dataframe\">\n",
       "  <thead>\n",
       "    <tr style=\"text-align: right;\">\n",
       "      <th></th>\n",
       "      <th>platform</th>\n",
       "      <th>year_of_release</th>\n",
       "      <th>total_sales</th>\n",
       "    </tr>\n",
       "  </thead>\n",
       "  <tbody>\n",
       "    <tr>\n",
       "      <th>0</th>\n",
       "      <td>2600</td>\n",
       "      <td>2013</td>\n",
       "      <td>0.46</td>\n",
       "    </tr>\n",
       "    <tr>\n",
       "      <th>1</th>\n",
       "      <td>3DS</td>\n",
       "      <td>2013</td>\n",
       "      <td>56.57</td>\n",
       "    </tr>\n",
       "    <tr>\n",
       "      <th>2</th>\n",
       "      <td>3DS</td>\n",
       "      <td>2014</td>\n",
       "      <td>43.76</td>\n",
       "    </tr>\n",
       "    <tr>\n",
       "      <th>3</th>\n",
       "      <td>3DS</td>\n",
       "      <td>2015</td>\n",
       "      <td>27.78</td>\n",
       "    </tr>\n",
       "    <tr>\n",
       "      <th>4</th>\n",
       "      <td>3DS</td>\n",
       "      <td>2016</td>\n",
       "      <td>15.14</td>\n",
       "    </tr>\n",
       "  </tbody>\n",
       "</table>\n",
       "</div>"
      ],
      "text/plain": [
       "  platform  year_of_release  total_sales\n",
       "0     2600             2013         0.46\n",
       "1      3DS             2013        56.57\n",
       "2      3DS             2014        43.76\n",
       "3      3DS             2015        27.78\n",
       "4      3DS             2016        15.14"
      ]
     },
     "execution_count": 42,
     "metadata": {},
     "output_type": "execute_result"
    }
   ],
   "source": [
    "group_platform = df_new.groupby(['platform', 'year_of_release'])['total_sales'].sum().reset_index()\n",
    "group_platform.head()"
   ]
  },
  {
   "cell_type": "code",
   "execution_count": null,
   "metadata": {},
   "outputs": [],
   "source": [
    "plt.figure(figsize=(10,5))\n",
    "sns.boxplot(data = group_platform, x = 'platform', y = 'total_sales')\n",
    "plt.title('Boxplot for the global sales of all games')\n",
    "plt.xlabel('Platforms')\n",
    "plt.ylabel('Total Sales');"
   ]
  },
  {
   "cell_type": "markdown",
   "metadata": {},
   "source": [
    "We can observe from the above boxplot that the differences in sales are also significant. `PS4` has the highest mean value. We can also see the average sales on various platforms by calculating the average sales for each platform."
   ]
  },
  {
   "cell_type": "code",
   "execution_count": null,
   "metadata": {},
   "outputs": [],
   "source": [
    "avg_sales = df_new.pivot_table(index = 'platform', values= 'total_sales', columns = 'year_of_release', aggfunc = np.mean).reset_index().rename_axis(None, axis=1)\n",
    "avg_sales['average_sales'] = avg_sales.mean(axis=1)\n",
    "avg_sales = avg_sales.sort_values(by = 'average_sales')\n",
    "avg_sales.head()"
   ]
  },
  {
   "cell_type": "code",
   "execution_count": null,
   "metadata": {
    "scrolled": true
   },
   "outputs": [],
   "source": [
    "avg_sales.plot.bar(x = 'platform', y = 'average_sales', alpha = 0.6, legend = False, figsize = (10, 5))\n",
    "plt.title('Barplot for the average sales of all games')\n",
    "plt.xlabel('Platforms')\n",
    "plt.ylabel('Average Sales');"
   ]
  },
  {
   "cell_type": "markdown",
   "metadata": {},
   "source": [
    "From the above barplot, we can see that `PS4` has the highest average sales across the various platforms, followed by `PS`, `XOne`, and `PS2`."
   ]
  },
  {
   "cell_type": "markdown",
   "metadata": {},
   "source": [
    "### How user and professional reviews affect sales for one popular platform "
   ]
  },
  {
   "cell_type": "code",
   "execution_count": 46,
   "metadata": {
    "scrolled": true
   },
   "outputs": [
    {
     "data": {
      "text/html": [
       "<div>\n",
       "<style scoped>\n",
       "    .dataframe tbody tr th:only-of-type {\n",
       "        vertical-align: middle;\n",
       "    }\n",
       "\n",
       "    .dataframe tbody tr th {\n",
       "        vertical-align: top;\n",
       "    }\n",
       "\n",
       "    .dataframe thead th {\n",
       "        text-align: right;\n",
       "    }\n",
       "</style>\n",
       "<table border=\"1\" class=\"dataframe\">\n",
       "  <thead>\n",
       "    <tr style=\"text-align: right;\">\n",
       "      <th></th>\n",
       "      <th>name</th>\n",
       "      <th>platform</th>\n",
       "      <th>year_of_release</th>\n",
       "      <th>genre</th>\n",
       "      <th>na_sales</th>\n",
       "      <th>eu_sales</th>\n",
       "      <th>jp_sales</th>\n",
       "      <th>other_sales</th>\n",
       "      <th>critic_score</th>\n",
       "      <th>user_score</th>\n",
       "      <th>rating</th>\n",
       "      <th>total_sales</th>\n",
       "    </tr>\n",
       "  </thead>\n",
       "  <tbody>\n",
       "    <tr>\n",
       "      <th>0</th>\n",
       "      <td>Call of Duty: Black Ops 3</td>\n",
       "      <td>PS4</td>\n",
       "      <td>2015</td>\n",
       "      <td>Shooter</td>\n",
       "      <td>6.03</td>\n",
       "      <td>5.86</td>\n",
       "      <td>0.36</td>\n",
       "      <td>2.38</td>\n",
       "      <td>90</td>\n",
       "      <td>3.0</td>\n",
       "      <td>EC</td>\n",
       "      <td>14.63</td>\n",
       "    </tr>\n",
       "    <tr>\n",
       "      <th>1</th>\n",
       "      <td>Grand Theft Auto V</td>\n",
       "      <td>PS4</td>\n",
       "      <td>2014</td>\n",
       "      <td>Action</td>\n",
       "      <td>3.96</td>\n",
       "      <td>6.31</td>\n",
       "      <td>0.38</td>\n",
       "      <td>1.97</td>\n",
       "      <td>97</td>\n",
       "      <td>8.3</td>\n",
       "      <td>M</td>\n",
       "      <td>12.62</td>\n",
       "    </tr>\n",
       "    <tr>\n",
       "      <th>2</th>\n",
       "      <td>FIFA 16</td>\n",
       "      <td>PS4</td>\n",
       "      <td>2015</td>\n",
       "      <td>Sports</td>\n",
       "      <td>1.12</td>\n",
       "      <td>6.12</td>\n",
       "      <td>0.06</td>\n",
       "      <td>1.28</td>\n",
       "      <td>82</td>\n",
       "      <td>4.3</td>\n",
       "      <td>E</td>\n",
       "      <td>8.58</td>\n",
       "    </tr>\n",
       "    <tr>\n",
       "      <th>3</th>\n",
       "      <td>Star Wars Battlefront (2015)</td>\n",
       "      <td>PS4</td>\n",
       "      <td>2015</td>\n",
       "      <td>Shooter</td>\n",
       "      <td>2.99</td>\n",
       "      <td>3.49</td>\n",
       "      <td>0.22</td>\n",
       "      <td>1.28</td>\n",
       "      <td>27</td>\n",
       "      <td>6.0</td>\n",
       "      <td>RP</td>\n",
       "      <td>7.98</td>\n",
       "    </tr>\n",
       "    <tr>\n",
       "      <th>4</th>\n",
       "      <td>Call of Duty: Advanced Warfare</td>\n",
       "      <td>PS4</td>\n",
       "      <td>2014</td>\n",
       "      <td>Shooter</td>\n",
       "      <td>2.81</td>\n",
       "      <td>3.48</td>\n",
       "      <td>0.14</td>\n",
       "      <td>1.23</td>\n",
       "      <td>83</td>\n",
       "      <td>5.7</td>\n",
       "      <td>M</td>\n",
       "      <td>7.66</td>\n",
       "    </tr>\n",
       "  </tbody>\n",
       "</table>\n",
       "</div>"
      ],
      "text/plain": [
       "                             name platform  year_of_release    genre  \\\n",
       "0       Call of Duty: Black Ops 3      PS4             2015  Shooter   \n",
       "1              Grand Theft Auto V      PS4             2014   Action   \n",
       "2                         FIFA 16      PS4             2015   Sports   \n",
       "3    Star Wars Battlefront (2015)      PS4             2015  Shooter   \n",
       "4  Call of Duty: Advanced Warfare      PS4             2014  Shooter   \n",
       "\n",
       "   na_sales  eu_sales  jp_sales  other_sales  critic_score  user_score rating  \\\n",
       "0      6.03      5.86      0.36         2.38            90         3.0     EC   \n",
       "1      3.96      6.31      0.38         1.97            97         8.3      M   \n",
       "2      1.12      6.12      0.06         1.28            82         4.3      E   \n",
       "3      2.99      3.49      0.22         1.28            27         6.0     RP   \n",
       "4      2.81      3.48      0.14         1.23            83         5.7      M   \n",
       "\n",
       "   total_sales  \n",
       "0        14.63  \n",
       "1        12.62  \n",
       "2         8.58  \n",
       "3         7.98  \n",
       "4         7.66  "
      ]
     },
     "execution_count": 46,
     "metadata": {},
     "output_type": "execute_result"
    }
   ],
   "source": [
    "# I choose PS4\n",
    "df_PS4 = df_new[df_new['platform'] == 'PS4'].reset_index(drop = True)\n",
    "df_PS4.head()"
   ]
  },
  {
   "cell_type": "code",
   "execution_count": 47,
   "metadata": {},
   "outputs": [
    {
     "data": {
      "image/png": "[encoded data removed]",
      "text/plain": [
       "<Figure size 720x360 with 1 Axes>"
      ]
     },
     "metadata": {
      "needs_background": "light"
     },
     "output_type": "display_data"
    },
    {
     "data": {
      "image/png": "[encoded data removed]",
      "text/plain": [
       "<Figure size 720x360 with 1 Axes>"
      ]
     },
     "metadata": {
      "needs_background": "light"
     },
     "output_type": "display_data"
    }
   ],
   "source": [
    "# Build a scatter plot of how user and professional reviews affect sales on Wii\n",
    "df_PS4.plot.scatter(x = 'user_score', y = 'total_sales', title = \"Correlation of user score with total sales\", alpha = 0.6, figsize = (10,5));\n",
    "df_PS4.plot.scatter(x = 'critic_score', y = 'total_sales', title = \"Correlation of critic score with total sales\", alpha = 0.6, figsize = (10,5));"
   ]
  },
  {
   "cell_type": "code",
   "execution_count": 48,
   "metadata": {
    "scrolled": true
   },
   "outputs": [
    {
     "name": "stdout",
     "output_type": "stream",
     "text": [
      "The correlation between user score and total sales is 0.05\n",
      "The correlation between critic score and total sales is 0.25\n"
     ]
    }
   ],
   "source": [
    "print('The correlation between user score and total sales is', df_PS4['user_score'].corr(df_PS4['total_sales']).round(2))\n",
    "print('The correlation between critic score and total sales is', df_PS4['critic_score'].corr(df_PS4['total_sales']).round(2))"
   ]
  },
  {
   "cell_type": "markdown",
   "metadata": {},
   "source": [
    "The correlation between professional ratings and total sales are very small, we can conclude that there are no relation between them. "
   ]
  },
  {
   "cell_type": "markdown",
   "metadata": {},
   "source": [
    "#### Compare the sales of the same games on other platforms."
   ]
  },
  {
   "cell_type": "markdown",
   "metadata": {},
   "source": [
    "**PS3**"
   ]
  },
  {
   "cell_type": "code",
   "execution_count": 49,
   "metadata": {},
   "outputs": [
    {
     "data": {
      "image/png": "[encoded data removed]",
      "text/plain": [
       "<Figure size 720x360 with 1 Axes>"
      ]
     },
     "metadata": {
      "needs_background": "light"
     },
     "output_type": "display_data"
    },
    {
     "data": {
      "image/png": "[encoded data removed]",
      "text/plain": [
       "<Figure size 720x360 with 1 Axes>"
      ]
     },
     "metadata": {
      "needs_background": "light"
     },
     "output_type": "display_data"
    }
   ],
   "source": [
    "df_PS3 = df_new[df_new['platform'] == 'PS3'].reset_index(drop = True)\n",
    "df_PS3.plot.scatter(x = 'user_score', y = 'total_sales', title = \"Correlation of user score with total sales\", alpha = 0.6, figsize = (10,5));\n",
    "df_PS3.plot.scatter(x = 'critic_score', y = 'total_sales', title = \"Correlation of critic score with total sales\", alpha = 0.6, figsize = (10,5));"
   ]
  },
  {
   "cell_type": "code",
   "execution_count": 50,
   "metadata": {},
   "outputs": [
    {
     "name": "stdout",
     "output_type": "stream",
     "text": [
      "The correlation between user score and total sales is 0.07\n",
      "The correlation between critic score and total sales is 0.13\n"
     ]
    }
   ],
   "source": [
    "print('The correlation between user score and total sales is', df_PS3['user_score'].corr(df_PS3['total_sales']).round(2))\n",
    "print('The correlation between critic score and total sales is', df_PS3['critic_score'].corr(df_PS3['total_sales']).round(2))\n"
   ]
  },
  {
   "cell_type": "markdown",
   "metadata": {},
   "source": [
    "No significant relation between professional scores and total sales for `PS3`."
   ]
  },
  {
   "cell_type": "markdown",
   "metadata": {},
   "source": [
    "**3DS**"
   ]
  },
  {
   "cell_type": "code",
   "execution_count": 51,
   "metadata": {},
   "outputs": [
    {
     "data": {
      "image/png": "[encoded data removed]",
      "text/plain": [
       "<Figure size 720x360 with 1 Axes>"
      ]
     },
     "metadata": {
      "needs_background": "light"
     },
     "output_type": "display_data"
    },
    {
     "data": {
      "image/png": "[encoded data removed]",
      "text/plain": [
       "<Figure size 720x360 with 1 Axes>"
      ]
     },
     "metadata": {
      "needs_background": "light"
     },
     "output_type": "display_data"
    }
   ],
   "source": [
    "df_3DS = df_new[df_new['platform'] == '3DS'].reset_index(drop = True)\n",
    "df_3DS.plot.scatter(x = 'user_score', y = 'total_sales', title = \"Correlation of user score with total sales\", alpha = 0.6, figsize = (10,5));\n",
    "df_3DS.plot.scatter(x = 'critic_score', y = 'total_sales', title = \"Correlation of critic score with total sales\", alpha = 0.6, figsize = (10,5));"
   ]
  },
  {
   "cell_type": "code",
   "execution_count": 52,
   "metadata": {},
   "outputs": [
    {
     "name": "stdout",
     "output_type": "stream",
     "text": [
      "The correlation between user score and total sales is -0.08\n",
      "The correlation between critic score and total sales is 0.02\n"
     ]
    }
   ],
   "source": [
    "print('The correlation between user score and total sales is', df_3DS['user_score'].corr(df_3DS['total_sales']).round(2))\n",
    "print('The correlation between critic score and total sales is', df_3DS['critic_score'].corr(df_3DS['total_sales']).round(2))\n"
   ]
  },
  {
   "cell_type": "markdown",
   "metadata": {},
   "source": [
    "No significant relation between professional scores and total sales for `3DS`."
   ]
  },
  {
   "cell_type": "markdown",
   "metadata": {},
   "source": [
    "**X360**"
   ]
  },
  {
   "cell_type": "code",
   "execution_count": 53,
   "metadata": {},
   "outputs": [
    {
     "data": {
      "image/png": "[encoded data removed]",
      "text/plain": [
       "<Figure size 720x360 with 1 Axes>"
      ]
     },
     "metadata": {
      "needs_background": "light"
     },
     "output_type": "display_data"
    },
    {
     "data": {
      "image/png": "[encoded data removed]",
      "text/plain": [
       "<Figure size 720x360 with 1 Axes>"
      ]
     },
     "metadata": {
      "needs_background": "light"
     },
     "output_type": "display_data"
    }
   ],
   "source": [
    "df_X360 = df_new[df_new['platform'] == 'X360'].reset_index(drop = True)\n",
    "df_X360.plot.scatter(x = 'user_score', y = 'total_sales', title = \"Correlation of user score with total sales\", alpha = 0.6, figsize = (10,5));\n",
    "df_X360.plot.scatter(x = 'critic_score', y = 'total_sales', title = \"Correlation of critic score with total sales\", alpha = 0.6, figsize = (10,5));"
   ]
  },
  {
   "cell_type": "code",
   "execution_count": 54,
   "metadata": {},
   "outputs": [
    {
     "name": "stdout",
     "output_type": "stream",
     "text": [
      "The correlation between user score and total sales is 0.01\n",
      "The correlation between critic score and total sales is 0.2\n"
     ]
    }
   ],
   "source": [
    "print('The correlation between user score and total sales is', df_X360['user_score'].corr(df_X360['total_sales']).round(2))\n",
    "print('The correlation between critic score and total sales is', df_X360['critic_score'].corr(df_X360['total_sales']).round(2))"
   ]
  },
  {
   "cell_type": "markdown",
   "metadata": {},
   "source": [
    "No significant relation between professional scores and total sales for `X360`."
   ]
  },
  {
   "cell_type": "markdown",
   "metadata": {},
   "source": [
    "**XOne**"
   ]
  },
  {
   "cell_type": "code",
   "execution_count": 55,
   "metadata": {
    "scrolled": true
   },
   "outputs": [
    {
     "data": {
      "image/png": "[encoded data removed]",
      "text/plain": [
       "<Figure size 720x360 with 1 Axes>"
      ]
     },
     "metadata": {
      "needs_background": "light"
     },
     "output_type": "display_data"
    },
    {
     "data": {
      "image/png": "[encoded data removed]",
      "text/plain": [
       "<Figure size 720x360 with 1 Axes>"
      ]
     },
     "metadata": {
      "needs_background": "light"
     },
     "output_type": "display_data"
    }
   ],
   "source": [
    "df_XOne = df_new[df_new['platform'] == 'XOne'].reset_index(drop = True)\n",
    "df_XOne.plot.scatter(x = 'user_score', y = 'total_sales', title = \"Correlation of user score with total sales\", alpha = 0.6, figsize = (10,5));\n",
    "df_XOne.plot.scatter(x = 'critic_score', y = 'total_sales', title = \"Correlation of critic score with total sales\", alpha = 0.6, figsize = (10,5));"
   ]
  },
  {
   "cell_type": "code",
   "execution_count": 56,
   "metadata": {
    "scrolled": true
   },
   "outputs": [
    {
     "name": "stdout",
     "output_type": "stream",
     "text": [
      "The correlation between user score and total sales is 0.12\n",
      "The correlation between critic score and total sales is 0.27\n"
     ]
    }
   ],
   "source": [
    "print('The correlation between user score and total sales is', df_XOne['user_score'].corr(df_XOne['total_sales']).round(2))\n",
    "print('The correlation between critic score and total sales is', df_XOne['critic_score'].corr(df_XOne['total_sales']).round(2))"
   ]
  },
  {
   "cell_type": "markdown",
   "metadata": {},
   "source": [
    "No significant relation between professional scores and total sales for `XOne`."
   ]
  },
  {
   "cell_type": "markdown",
   "metadata": {},
   "source": [
    "**Conclusion** \n",
    "\n",
    "We can conclude that the correlation between `critic_sore` and `total_sales` is higher than `user_score` and `total_sales`.  "
   ]
  },
  {
   "cell_type": "markdown",
   "metadata": {},
   "source": [
    "### Take a look at the general distribution of games by genre"
   ]
  },
  {
   "cell_type": "code",
   "execution_count": 57,
   "metadata": {},
   "outputs": [
    {
     "data": {
      "text/html": [
       "<div>\n",
       "<style scoped>\n",
       "    .dataframe tbody tr th:only-of-type {\n",
       "        vertical-align: middle;\n",
       "    }\n",
       "\n",
       "    .dataframe tbody tr th {\n",
       "        vertical-align: top;\n",
       "    }\n",
       "\n",
       "    .dataframe thead th {\n",
       "        text-align: right;\n",
       "    }\n",
       "</style>\n",
       "<table border=\"1\" class=\"dataframe\">\n",
       "  <thead>\n",
       "    <tr style=\"text-align: right;\">\n",
       "      <th></th>\n",
       "      <th>genre</th>\n",
       "      <th>total_sales</th>\n",
       "    </tr>\n",
       "  </thead>\n",
       "  <tbody>\n",
       "    <tr>\n",
       "      <th>0</th>\n",
       "      <td>Action</td>\n",
       "      <td>325.37</td>\n",
       "    </tr>\n",
       "    <tr>\n",
       "      <th>8</th>\n",
       "      <td>Shooter</td>\n",
       "      <td>233.21</td>\n",
       "    </tr>\n",
       "    <tr>\n",
       "      <th>10</th>\n",
       "      <td>Sports</td>\n",
       "      <td>151.31</td>\n",
       "    </tr>\n",
       "    <tr>\n",
       "      <th>7</th>\n",
       "      <td>Role-Playing</td>\n",
       "      <td>145.90</td>\n",
       "    </tr>\n",
       "    <tr>\n",
       "      <th>3</th>\n",
       "      <td>Misc</td>\n",
       "      <td>63.94</td>\n",
       "    </tr>\n",
       "  </tbody>\n",
       "</table>\n",
       "</div>"
      ],
      "text/plain": [
       "           genre  total_sales\n",
       "0         Action       325.37\n",
       "8        Shooter       233.21\n",
       "10        Sports       151.31\n",
       "7   Role-Playing       145.90\n",
       "3           Misc        63.94"
      ]
     },
     "execution_count": 57,
     "metadata": {},
     "output_type": "execute_result"
    }
   ],
   "source": [
    "group_genre = df_new.groupby(['genre'])['total_sales'].sum().reset_index().sort_values(by = 'total_sales', ascending = False)\n",
    "group_genre.head()"
   ]
  },
  {
   "cell_type": "code",
   "execution_count": 58,
   "metadata": {},
   "outputs": [
    {
     "data": {
      "image/png": "[encoded data removed]",
      "text/plain": [
       "<Figure size 576x288 with 1 Axes>"
      ]
     },
     "metadata": {
      "needs_background": "light"
     },
     "output_type": "display_data"
    }
   ],
   "source": [
    "group_genre.plot.bar(x = 'genre', y = 'total_sales', rot = 90, figsize = (8, 4), alpha = 0.6, legend = False)\n",
    "plt.xlabel('Genre')\n",
    "plt.ylabel('Total Sales')\n",
    "plt.title(\"Total sales variation from Genre to Genre\");"
   ]
  },
  {
   "cell_type": "markdown",
   "metadata": {},
   "source": [
    "We can see the top 5 genres are `Action`, `Shooter`, `Sports`, `Role-Playing`, and `Misc`. `Puzzle` has the least sales. "
   ]
  },
  {
   "cell_type": "markdown",
   "metadata": {},
   "source": [
    "### Conclusion"
   ]
  },
  {
   "cell_type": "markdown",
   "metadata": {},
   "source": [
    "We found that year `2009` released the most number of games and most number of games released between `2005` and `2009`. We determined that `PS2`, `DS`, `PS3`, `Wii`, `X360` are the top 5 platforms with the greatest total sales. `PS2`, `DS`, and `PS` have zero sales in year 2016, they used to be popular. `PS4`, `X360`, `PS3`, `Wii`, and `DS` are platforms that are leading in sales. `3DS`, `2600`, and `GBA` are platforms are shrinking in sales. Platforms that are potentially profitable are `PS4` and `XOne`. `PS4` has the highest mean value in terms of total sales. In general, we can conclude that the playstation (`PS`series) have more sales than any other platforms. `PS4` has the highest average sales across the various platforms, followed by `PS`, `XOne`, and `PS2`. We found that professional reviews doesn't correlate with total sales for popular platforms. For `genre`, `Action`, `Shooter`, and `Sports` have the greatest sales, and `Puzzle` has the least sales."
   ]
  },
  {
   "cell_type": "markdown",
   "metadata": {},
   "source": [
    "## Create a user profile for each region"
   ]
  },
  {
   "cell_type": "markdown",
   "metadata": {},
   "source": [
    "### Top 5 Platforms"
   ]
  },
  {
   "cell_type": "code",
   "execution_count": 59,
   "metadata": {},
   "outputs": [
    {
     "data": {
      "text/html": [
       "<div>\n",
       "<style scoped>\n",
       "    .dataframe tbody tr th:only-of-type {\n",
       "        vertical-align: middle;\n",
       "    }\n",
       "\n",
       "    .dataframe tbody tr th {\n",
       "        vertical-align: top;\n",
       "    }\n",
       "\n",
       "    .dataframe thead th {\n",
       "        text-align: right;\n",
       "    }\n",
       "</style>\n",
       "<table border=\"1\" class=\"dataframe\">\n",
       "  <thead>\n",
       "    <tr style=\"text-align: right;\">\n",
       "      <th></th>\n",
       "      <th>platform</th>\n",
       "      <th>na_sales</th>\n",
       "    </tr>\n",
       "  </thead>\n",
       "  <tbody>\n",
       "    <tr>\n",
       "      <th>0</th>\n",
       "      <td>PS4</td>\n",
       "      <td>108.74</td>\n",
       "    </tr>\n",
       "    <tr>\n",
       "      <th>1</th>\n",
       "      <td>XOne</td>\n",
       "      <td>93.12</td>\n",
       "    </tr>\n",
       "    <tr>\n",
       "      <th>2</th>\n",
       "      <td>X360</td>\n",
       "      <td>82.12</td>\n",
       "    </tr>\n",
       "    <tr>\n",
       "      <th>3</th>\n",
       "      <td>PS3</td>\n",
       "      <td>63.75</td>\n",
       "    </tr>\n",
       "    <tr>\n",
       "      <th>4</th>\n",
       "      <td>3DS</td>\n",
       "      <td>38.20</td>\n",
       "    </tr>\n",
       "  </tbody>\n",
       "</table>\n",
       "</div>"
      ],
      "text/plain": [
       "  platform  na_sales\n",
       "0      PS4    108.74\n",
       "1     XOne     93.12\n",
       "2     X360     82.12\n",
       "3      PS3     63.75\n",
       "4      3DS     38.20"
      ]
     },
     "execution_count": 59,
     "metadata": {},
     "output_type": "execute_result"
    }
   ],
   "source": [
    "# top 5 platforms for North America\n",
    "na_platform = df_new.groupby(['platform'])['na_sales'].sum().reset_index().sort_values(by = 'na_sales', ascending = False)\n",
    "na_platform = na_platform.head().reset_index(drop = True)\n",
    "na_platform"
   ]
  },
  {
   "cell_type": "code",
   "execution_count": 60,
   "metadata": {},
   "outputs": [
    {
     "data": {
      "text/html": [
       "<div>\n",
       "<style scoped>\n",
       "    .dataframe tbody tr th:only-of-type {\n",
       "        vertical-align: middle;\n",
       "    }\n",
       "\n",
       "    .dataframe tbody tr th {\n",
       "        vertical-align: top;\n",
       "    }\n",
       "\n",
       "    .dataframe thead th {\n",
       "        text-align: right;\n",
       "    }\n",
       "</style>\n",
       "<table border=\"1\" class=\"dataframe\">\n",
       "  <thead>\n",
       "    <tr style=\"text-align: right;\">\n",
       "      <th></th>\n",
       "      <th>platform</th>\n",
       "      <th>eu_sales</th>\n",
       "    </tr>\n",
       "  </thead>\n",
       "  <tbody>\n",
       "    <tr>\n",
       "      <th>0</th>\n",
       "      <td>PS4</td>\n",
       "      <td>141.09</td>\n",
       "    </tr>\n",
       "    <tr>\n",
       "      <th>1</th>\n",
       "      <td>PS3</td>\n",
       "      <td>67.81</td>\n",
       "    </tr>\n",
       "    <tr>\n",
       "      <th>2</th>\n",
       "      <td>XOne</td>\n",
       "      <td>51.59</td>\n",
       "    </tr>\n",
       "    <tr>\n",
       "      <th>3</th>\n",
       "      <td>X360</td>\n",
       "      <td>42.77</td>\n",
       "    </tr>\n",
       "    <tr>\n",
       "      <th>4</th>\n",
       "      <td>3DS</td>\n",
       "      <td>30.96</td>\n",
       "    </tr>\n",
       "  </tbody>\n",
       "</table>\n",
       "</div>"
      ],
      "text/plain": [
       "  platform  eu_sales\n",
       "0      PS4    141.09\n",
       "1      PS3     67.81\n",
       "2     XOne     51.59\n",
       "3     X360     42.77\n",
       "4      3DS     30.96"
      ]
     },
     "execution_count": 60,
     "metadata": {},
     "output_type": "execute_result"
    }
   ],
   "source": [
    "# top 5 platforms for Europe\n",
    "eu_platform = df_new.groupby(['platform'])['eu_sales'].sum().reset_index().sort_values(by = 'eu_sales', ascending = False)\n",
    "eu_platform = eu_platform.head().reset_index(drop = True)\n",
    "eu_platform"
   ]
  },
  {
   "cell_type": "code",
   "execution_count": 61,
   "metadata": {},
   "outputs": [
    {
     "data": {
      "text/html": [
       "<div>\n",
       "<style scoped>\n",
       "    .dataframe tbody tr th:only-of-type {\n",
       "        vertical-align: middle;\n",
       "    }\n",
       "\n",
       "    .dataframe tbody tr th {\n",
       "        vertical-align: top;\n",
       "    }\n",
       "\n",
       "    .dataframe thead th {\n",
       "        text-align: right;\n",
       "    }\n",
       "</style>\n",
       "<table border=\"1\" class=\"dataframe\">\n",
       "  <thead>\n",
       "    <tr style=\"text-align: right;\">\n",
       "      <th></th>\n",
       "      <th>platform</th>\n",
       "      <th>jp_sales</th>\n",
       "    </tr>\n",
       "  </thead>\n",
       "  <tbody>\n",
       "    <tr>\n",
       "      <th>0</th>\n",
       "      <td>3DS</td>\n",
       "      <td>67.81</td>\n",
       "    </tr>\n",
       "    <tr>\n",
       "      <th>1</th>\n",
       "      <td>PS3</td>\n",
       "      <td>23.38</td>\n",
       "    </tr>\n",
       "    <tr>\n",
       "      <th>2</th>\n",
       "      <td>PSV</td>\n",
       "      <td>18.59</td>\n",
       "    </tr>\n",
       "    <tr>\n",
       "      <th>3</th>\n",
       "      <td>PS4</td>\n",
       "      <td>15.96</td>\n",
       "    </tr>\n",
       "    <tr>\n",
       "      <th>4</th>\n",
       "      <td>WiiU</td>\n",
       "      <td>10.88</td>\n",
       "    </tr>\n",
       "  </tbody>\n",
       "</table>\n",
       "</div>"
      ],
      "text/plain": [
       "  platform  jp_sales\n",
       "0      3DS     67.81\n",
       "1      PS3     23.38\n",
       "2      PSV     18.59\n",
       "3      PS4     15.96\n",
       "4     WiiU     10.88"
      ]
     },
     "execution_count": 61,
     "metadata": {},
     "output_type": "execute_result"
    }
   ],
   "source": [
    "# top 5 platforms for Japan\n",
    "jp_platform = df_new.groupby(['platform'])['jp_sales'].sum().reset_index().sort_values(by = 'jp_sales', ascending = False)\n",
    "jp_platform = jp_platform.head().reset_index(drop = True)\n",
    "jp_platform"
   ]
  },
  {
   "cell_type": "code",
   "execution_count": 62,
   "metadata": {
    "scrolled": true
   },
   "outputs": [
    {
     "data": {
      "image/png": "[encoded data removed]",
      "text/plain": [
       "<Figure size 576x288 with 1 Axes>"
      ]
     },
     "metadata": {
      "needs_background": "light"
     },
     "output_type": "display_data"
    }
   ],
   "source": [
    "na_platform.plot.bar(x = 'platform', y = 'na_sales', rot = 90, figsize = (8, 4), alpha = 0.6, legend = False)\n",
    "plt.xlabel('Platform')\n",
    "plt.ylabel('Total Sales')\n",
    "plt.title(\"Top 5 platforms in North America\");"
   ]
  },
  {
   "cell_type": "code",
   "execution_count": 63,
   "metadata": {
    "scrolled": true
   },
   "outputs": [
    {
     "data": {
      "image/png": "[encoded data removed]",
      "text/plain": [
       "<Figure size 576x288 with 1 Axes>"
      ]
     },
     "metadata": {
      "needs_background": "light"
     },
     "output_type": "display_data"
    }
   ],
   "source": [
    "eu_platform.plot.bar(x = 'platform', y = 'eu_sales', rot = 90, figsize = (8, 4), alpha = 0.6, legend = False)\n",
    "plt.xlabel('Platform')\n",
    "plt.ylabel('Total Sales')\n",
    "plt.title(\"Top 5 platforms in Europe\");"
   ]
  },
  {
   "cell_type": "code",
   "execution_count": 64,
   "metadata": {
    "scrolled": true
   },
   "outputs": [
    {
     "data": {
      "image/png": "[encoded data removed]",
      "text/plain": [
       "<Figure size 576x288 with 1 Axes>"
      ]
     },
     "metadata": {
      "needs_background": "light"
     },
     "output_type": "display_data"
    }
   ],
   "source": [
    "jp_platform.plot.bar(x = 'platform', y = 'jp_sales', rot = 90, figsize = (8, 4), alpha = 0.6, legend = False)\n",
    "plt.xlabel('Platform')\n",
    "plt.ylabel('Total Sales')\n",
    "plt.title(\"Top 5 platforms in Japan\");"
   ]
  },
  {
   "cell_type": "markdown",
   "metadata": {},
   "source": [
    "**Conclusion** \n",
    "\n",
    "The top 5 platforms in North America and Europe are pretty similar. However, in Japan, the top 1 platform is `3DS`, followed by `DS`. We can see `3DS` is in rank 5 in North America and Europe."
   ]
  },
  {
   "cell_type": "markdown",
   "metadata": {},
   "source": [
    "### Top 5 Genres"
   ]
  },
  {
   "cell_type": "code",
   "execution_count": 65,
   "metadata": {},
   "outputs": [
    {
     "data": {
      "text/html": [
       "<div>\n",
       "<style scoped>\n",
       "    .dataframe tbody tr th:only-of-type {\n",
       "        vertical-align: middle;\n",
       "    }\n",
       "\n",
       "    .dataframe tbody tr th {\n",
       "        vertical-align: top;\n",
       "    }\n",
       "\n",
       "    .dataframe thead th {\n",
       "        text-align: right;\n",
       "    }\n",
       "</style>\n",
       "<table border=\"1\" class=\"dataframe\">\n",
       "  <thead>\n",
       "    <tr style=\"text-align: right;\">\n",
       "      <th></th>\n",
       "      <th>genre</th>\n",
       "      <th>na_sales</th>\n",
       "    </tr>\n",
       "  </thead>\n",
       "  <tbody>\n",
       "    <tr>\n",
       "      <th>0</th>\n",
       "      <td>Action</td>\n",
       "      <td>128.55</td>\n",
       "    </tr>\n",
       "    <tr>\n",
       "      <th>1</th>\n",
       "      <td>Shooter</td>\n",
       "      <td>109.85</td>\n",
       "    </tr>\n",
       "    <tr>\n",
       "      <th>2</th>\n",
       "      <td>Sports</td>\n",
       "      <td>65.87</td>\n",
       "    </tr>\n",
       "    <tr>\n",
       "      <th>3</th>\n",
       "      <td>Role-Playing</td>\n",
       "      <td>46.40</td>\n",
       "    </tr>\n",
       "    <tr>\n",
       "      <th>4</th>\n",
       "      <td>Misc</td>\n",
       "      <td>28.20</td>\n",
       "    </tr>\n",
       "  </tbody>\n",
       "</table>\n",
       "</div>"
      ],
      "text/plain": [
       "          genre  na_sales\n",
       "0        Action    128.55\n",
       "1       Shooter    109.85\n",
       "2        Sports     65.87\n",
       "3  Role-Playing     46.40\n",
       "4          Misc     28.20"
      ]
     },
     "execution_count": 65,
     "metadata": {},
     "output_type": "execute_result"
    }
   ],
   "source": [
    "# top 5 genres for North America\n",
    "na_genre = df_new.groupby(['genre'])['na_sales'].sum().reset_index().sort_values(by = 'na_sales', ascending = False)\n",
    "na_genre = na_genre.head().reset_index(drop = True)\n",
    "na_genre"
   ]
  },
  {
   "cell_type": "code",
   "execution_count": 66,
   "metadata": {},
   "outputs": [
    {
     "data": {
      "text/html": [
       "<div>\n",
       "<style scoped>\n",
       "    .dataframe tbody tr th:only-of-type {\n",
       "        vertical-align: middle;\n",
       "    }\n",
       "\n",
       "    .dataframe tbody tr th {\n",
       "        vertical-align: top;\n",
       "    }\n",
       "\n",
       "    .dataframe thead th {\n",
       "        text-align: right;\n",
       "    }\n",
       "</style>\n",
       "<table border=\"1\" class=\"dataframe\">\n",
       "  <thead>\n",
       "    <tr style=\"text-align: right;\">\n",
       "      <th></th>\n",
       "      <th>genre</th>\n",
       "      <th>eu_sales</th>\n",
       "    </tr>\n",
       "  </thead>\n",
       "  <tbody>\n",
       "    <tr>\n",
       "      <th>0</th>\n",
       "      <td>Action</td>\n",
       "      <td>118.99</td>\n",
       "    </tr>\n",
       "    <tr>\n",
       "      <th>1</th>\n",
       "      <td>Shooter</td>\n",
       "      <td>87.95</td>\n",
       "    </tr>\n",
       "    <tr>\n",
       "      <th>2</th>\n",
       "      <td>Sports</td>\n",
       "      <td>60.53</td>\n",
       "    </tr>\n",
       "    <tr>\n",
       "      <th>3</th>\n",
       "      <td>Role-Playing</td>\n",
       "      <td>36.97</td>\n",
       "    </tr>\n",
       "    <tr>\n",
       "      <th>4</th>\n",
       "      <td>Racing</td>\n",
       "      <td>20.41</td>\n",
       "    </tr>\n",
       "  </tbody>\n",
       "</table>\n",
       "</div>"
      ],
      "text/plain": [
       "          genre  eu_sales\n",
       "0        Action    118.99\n",
       "1       Shooter     87.95\n",
       "2        Sports     60.53\n",
       "3  Role-Playing     36.97\n",
       "4        Racing     20.41"
      ]
     },
     "execution_count": 66,
     "metadata": {},
     "output_type": "execute_result"
    }
   ],
   "source": [
    "# top 5 genres for Europe\n",
    "eu_genre = df_new.groupby(['genre'])['eu_sales'].sum().reset_index().sort_values(by = 'eu_sales', ascending = False)\n",
    "eu_genre = eu_genre.head().reset_index(drop = True)\n",
    "eu_genre"
   ]
  },
  {
   "cell_type": "code",
   "execution_count": 67,
   "metadata": {},
   "outputs": [
    {
     "data": {
      "text/html": [
       "<div>\n",
       "<style scoped>\n",
       "    .dataframe tbody tr th:only-of-type {\n",
       "        vertical-align: middle;\n",
       "    }\n",
       "\n",
       "    .dataframe tbody tr th {\n",
       "        vertical-align: top;\n",
       "    }\n",
       "\n",
       "    .dataframe thead th {\n",
       "        text-align: right;\n",
       "    }\n",
       "</style>\n",
       "<table border=\"1\" class=\"dataframe\">\n",
       "  <thead>\n",
       "    <tr style=\"text-align: right;\">\n",
       "      <th></th>\n",
       "      <th>genre</th>\n",
       "      <th>jp_sales</th>\n",
       "    </tr>\n",
       "  </thead>\n",
       "  <tbody>\n",
       "    <tr>\n",
       "      <th>0</th>\n",
       "      <td>Role-Playing</td>\n",
       "      <td>51.05</td>\n",
       "    </tr>\n",
       "    <tr>\n",
       "      <th>1</th>\n",
       "      <td>Action</td>\n",
       "      <td>40.49</td>\n",
       "    </tr>\n",
       "    <tr>\n",
       "      <th>2</th>\n",
       "      <td>Misc</td>\n",
       "      <td>9.20</td>\n",
       "    </tr>\n",
       "    <tr>\n",
       "      <th>3</th>\n",
       "      <td>Fighting</td>\n",
       "      <td>7.65</td>\n",
       "    </tr>\n",
       "    <tr>\n",
       "      <th>4</th>\n",
       "      <td>Shooter</td>\n",
       "      <td>6.61</td>\n",
       "    </tr>\n",
       "  </tbody>\n",
       "</table>\n",
       "</div>"
      ],
      "text/plain": [
       "          genre  jp_sales\n",
       "0  Role-Playing     51.05\n",
       "1        Action     40.49\n",
       "2          Misc      9.20\n",
       "3      Fighting      7.65\n",
       "4       Shooter      6.61"
      ]
     },
     "execution_count": 67,
     "metadata": {},
     "output_type": "execute_result"
    }
   ],
   "source": [
    "# top 5 genres for Japan\n",
    "jp_genre = df_new.groupby(['genre'])['jp_sales'].sum().reset_index().sort_values(by = 'jp_sales', ascending = False)\n",
    "jp_genre = jp_genre.head().reset_index(drop = True)\n",
    "jp_genre"
   ]
  },
  {
   "cell_type": "code",
   "execution_count": 68,
   "metadata": {},
   "outputs": [
    {
     "data": {
      "image/png": "[encoded data removed]",
      "text/plain": [
       "<Figure size 576x288 with 1 Axes>"
      ]
     },
     "metadata": {
      "needs_background": "light"
     },
     "output_type": "display_data"
    }
   ],
   "source": [
    "na_genre.plot.bar(x = 'genre', y = 'na_sales', rot = 90, figsize = (8, 4), alpha = 0.6, legend = False)\n",
    "plt.xlabel('Genre')\n",
    "plt.ylabel('Total Sales')\n",
    "plt.title(\"Top 5 genres in North America\");"
   ]
  },
  {
   "cell_type": "code",
   "execution_count": 69,
   "metadata": {},
   "outputs": [
    {
     "data": {
      "image/png": "[encoded data removed]",
      "text/plain": [
       "<Figure size 576x288 with 1 Axes>"
      ]
     },
     "metadata": {
      "needs_background": "light"
     },
     "output_type": "display_data"
    }
   ],
   "source": [
    "eu_genre.plot.bar(x = 'genre', y = 'eu_sales', rot = 90, figsize = (8, 4), alpha = 0.6, legend = False)\n",
    "plt.xlabel('Genre')\n",
    "plt.ylabel('Total Sales')\n",
    "plt.title(\"Top 5 genres in Europe\");"
   ]
  },
  {
   "cell_type": "code",
   "execution_count": 70,
   "metadata": {
    "scrolled": true
   },
   "outputs": [
    {
     "data": {
      "image/png": "[encoded data removed]",
      "text/plain": [
       "<Figure size 576x288 with 1 Axes>"
      ]
     },
     "metadata": {
      "needs_background": "light"
     },
     "output_type": "display_data"
    }
   ],
   "source": [
    "jp_genre.plot.bar(x = 'genre', y = 'jp_sales', rot = 90, figsize = (8, 4), alpha = 0.6, legend = False)\n",
    "plt.xlabel('Genre')\n",
    "plt.ylabel('Total Sales')\n",
    "plt.title(\"Top 5 genres in Japan\");"
   ]
  },
  {
   "cell_type": "markdown",
   "metadata": {},
   "source": [
    "**Conclusion**\n",
    "\n",
    "We can see the top 5 genres in North America and Europe are the same, in Japan, however, is different. The top 1 genre in Japan is `Role-Playing`, which doesn't appear in the list for both North America and Europe. "
   ]
  },
  {
   "cell_type": "markdown",
   "metadata": {},
   "source": [
    "### Do ESRB ratings affect sales in individual regions?"
   ]
  },
  {
   "cell_type": "code",
   "execution_count": 71,
   "metadata": {},
   "outputs": [
    {
     "data": {
      "text/html": [
       "<div>\n",
       "<style scoped>\n",
       "    .dataframe tbody tr th:only-of-type {\n",
       "        vertical-align: middle;\n",
       "    }\n",
       "\n",
       "    .dataframe tbody tr th {\n",
       "        vertical-align: top;\n",
       "    }\n",
       "\n",
       "    .dataframe thead th {\n",
       "        text-align: right;\n",
       "    }\n",
       "</style>\n",
       "<table border=\"1\" class=\"dataframe\">\n",
       "  <thead>\n",
       "    <tr style=\"text-align: right;\">\n",
       "      <th></th>\n",
       "      <th>rating</th>\n",
       "      <th>na_sales</th>\n",
       "    </tr>\n",
       "  </thead>\n",
       "  <tbody>\n",
       "    <tr>\n",
       "      <th>0</th>\n",
       "      <td>M</td>\n",
       "      <td>179.62</td>\n",
       "    </tr>\n",
       "    <tr>\n",
       "      <th>1</th>\n",
       "      <td>E</td>\n",
       "      <td>87.89</td>\n",
       "    </tr>\n",
       "    <tr>\n",
       "      <th>2</th>\n",
       "      <td>E10+</td>\n",
       "      <td>71.04</td>\n",
       "    </tr>\n",
       "    <tr>\n",
       "      <th>3</th>\n",
       "      <td>T</td>\n",
       "      <td>55.06</td>\n",
       "    </tr>\n",
       "    <tr>\n",
       "      <th>4</th>\n",
       "      <td>EC</td>\n",
       "      <td>15.17</td>\n",
       "    </tr>\n",
       "  </tbody>\n",
       "</table>\n",
       "</div>"
      ],
      "text/plain": [
       "  rating  na_sales\n",
       "0      M    179.62\n",
       "1      E     87.89\n",
       "2   E10+     71.04\n",
       "3      T     55.06\n",
       "4     EC     15.17"
      ]
     },
     "execution_count": 71,
     "metadata": {},
     "output_type": "execute_result"
    }
   ],
   "source": [
    "# top 5 ratings in North America\n",
    "na_rating = df_new.groupby(['rating'])['na_sales'].sum().reset_index().sort_values(by = 'na_sales', ascending = False)\n",
    "na_rating = na_rating.head().reset_index(drop = True)\n",
    "na_rating"
   ]
  },
  {
   "cell_type": "code",
   "execution_count": 72,
   "metadata": {},
   "outputs": [
    {
     "data": {
      "text/html": [
       "<div>\n",
       "<style scoped>\n",
       "    .dataframe tbody tr th:only-of-type {\n",
       "        vertical-align: middle;\n",
       "    }\n",
       "\n",
       "    .dataframe tbody tr th {\n",
       "        vertical-align: top;\n",
       "    }\n",
       "\n",
       "    .dataframe thead th {\n",
       "        text-align: right;\n",
       "    }\n",
       "</style>\n",
       "<table border=\"1\" class=\"dataframe\">\n",
       "  <thead>\n",
       "    <tr style=\"text-align: right;\">\n",
       "      <th></th>\n",
       "      <th>rating</th>\n",
       "      <th>eu_sales</th>\n",
       "    </tr>\n",
       "  </thead>\n",
       "  <tbody>\n",
       "    <tr>\n",
       "      <th>0</th>\n",
       "      <td>M</td>\n",
       "      <td>154.81</td>\n",
       "    </tr>\n",
       "    <tr>\n",
       "      <th>1</th>\n",
       "      <td>E</td>\n",
       "      <td>93.33</td>\n",
       "    </tr>\n",
       "    <tr>\n",
       "      <th>2</th>\n",
       "      <td>E10+</td>\n",
       "      <td>56.51</td>\n",
       "    </tr>\n",
       "    <tr>\n",
       "      <th>3</th>\n",
       "      <td>T</td>\n",
       "      <td>46.09</td>\n",
       "    </tr>\n",
       "    <tr>\n",
       "      <th>4</th>\n",
       "      <td>EC</td>\n",
       "      <td>14.22</td>\n",
       "    </tr>\n",
       "  </tbody>\n",
       "</table>\n",
       "</div>"
      ],
      "text/plain": [
       "  rating  eu_sales\n",
       "0      M    154.81\n",
       "1      E     93.33\n",
       "2   E10+     56.51\n",
       "3      T     46.09\n",
       "4     EC     14.22"
      ]
     },
     "execution_count": 72,
     "metadata": {},
     "output_type": "execute_result"
    }
   ],
   "source": [
    "# top 5 ratings in Europe\n",
    "eu_rating = df_new.groupby(['rating'])['eu_sales'].sum().reset_index().sort_values(by = 'eu_sales', ascending = False)\n",
    "eu_rating = eu_rating.head().reset_index(drop = True)\n",
    "eu_rating"
   ]
  },
  {
   "cell_type": "code",
   "execution_count": 73,
   "metadata": {},
   "outputs": [
    {
     "data": {
      "text/html": [
       "<div>\n",
       "<style scoped>\n",
       "    .dataframe tbody tr th:only-of-type {\n",
       "        vertical-align: middle;\n",
       "    }\n",
       "\n",
       "    .dataframe tbody tr th {\n",
       "        vertical-align: top;\n",
       "    }\n",
       "\n",
       "    .dataframe thead th {\n",
       "        text-align: right;\n",
       "    }\n",
       "</style>\n",
       "<table border=\"1\" class=\"dataframe\">\n",
       "  <thead>\n",
       "    <tr style=\"text-align: right;\">\n",
       "      <th></th>\n",
       "      <th>rating</th>\n",
       "      <th>jp_sales</th>\n",
       "    </tr>\n",
       "  </thead>\n",
       "  <tbody>\n",
       "    <tr>\n",
       "      <th>0</th>\n",
       "      <td>E</td>\n",
       "      <td>26.08</td>\n",
       "    </tr>\n",
       "    <tr>\n",
       "      <th>1</th>\n",
       "      <td>T</td>\n",
       "      <td>25.92</td>\n",
       "    </tr>\n",
       "    <tr>\n",
       "      <th>2</th>\n",
       "      <td>M</td>\n",
       "      <td>24.66</td>\n",
       "    </tr>\n",
       "    <tr>\n",
       "      <th>3</th>\n",
       "      <td>E10+</td>\n",
       "      <td>20.32</td>\n",
       "    </tr>\n",
       "    <tr>\n",
       "      <th>4</th>\n",
       "      <td>AO</td>\n",
       "      <td>15.82</td>\n",
       "    </tr>\n",
       "  </tbody>\n",
       "</table>\n",
       "</div>"
      ],
      "text/plain": [
       "  rating  jp_sales\n",
       "0      E     26.08\n",
       "1      T     25.92\n",
       "2      M     24.66\n",
       "3   E10+     20.32\n",
       "4     AO     15.82"
      ]
     },
     "execution_count": 73,
     "metadata": {},
     "output_type": "execute_result"
    }
   ],
   "source": [
    "# top 5 ratings in Japan\n",
    "jp_rating = df_new.groupby(['rating'])['jp_sales'].sum().reset_index().sort_values(by = 'jp_sales', ascending = False)\n",
    "jp_rating = jp_rating.head().reset_index(drop = True)\n",
    "jp_rating"
   ]
  },
  {
   "cell_type": "code",
   "execution_count": 74,
   "metadata": {},
   "outputs": [
    {
     "data": {
      "image/png": "[encoded data removed]",
      "text/plain": [
       "<Figure size 576x288 with 1 Axes>"
      ]
     },
     "metadata": {
      "needs_background": "light"
     },
     "output_type": "display_data"
    }
   ],
   "source": [
    "na_rating.plot.bar(x = 'rating', y = 'na_sales', rot = 0, figsize = (8, 4), alpha = 0.6, legend = False)\n",
    "plt.xlabel('Rating')\n",
    "plt.ylabel('Total Sales')\n",
    "plt.title(\"Top 5 ratings in North America\");"
   ]
  },
  {
   "cell_type": "code",
   "execution_count": 75,
   "metadata": {},
   "outputs": [
    {
     "data": {
      "image/png": "[encoded data removed]",
      "text/plain": [
       "<Figure size 576x288 with 1 Axes>"
      ]
     },
     "metadata": {
      "needs_background": "light"
     },
     "output_type": "display_data"
    }
   ],
   "source": [
    "eu_rating.plot.bar(x = 'rating', y = 'eu_sales', rot = 0, figsize = (8, 4), alpha = 0.6, legend = False)\n",
    "plt.xlabel('Rating')\n",
    "plt.ylabel('Total Sales')\n",
    "plt.title(\"Top 5 ratings in Europe\");"
   ]
  },
  {
   "cell_type": "code",
   "execution_count": 76,
   "metadata": {},
   "outputs": [
    {
     "data": {
      "image/png": "[encoded data removed]",
      "text/plain": [
       "<Figure size 576x288 with 1 Axes>"
      ]
     },
     "metadata": {
      "needs_background": "light"
     },
     "output_type": "display_data"
    }
   ],
   "source": [
    "jp_rating.plot.bar(x = 'rating', y = 'jp_sales', rot = 0, figsize = (8, 4), alpha = 0.6, legend = False)\n",
    "plt.xlabel('Rating')\n",
    "plt.ylabel('Total Sales')\n",
    "plt.title(\"Top 5 ratings in Japan\");"
   ]
  },
  {
   "cell_type": "markdown",
   "metadata": {},
   "source": [
    "**Conclusion**\n",
    "\n",
    "We discovered that ESRB rating does affect sales in individual regions. In each of the three regions, rating `E`, `T`, `M`, and `E10+` got the highest sales."
   ]
  },
  {
   "cell_type": "markdown",
   "metadata": {},
   "source": [
    "## Test the hypotheses"
   ]
  },
  {
   "cell_type": "markdown",
   "metadata": {},
   "source": [
    "### Test 1"
   ]
  },
  {
   "cell_type": "markdown",
   "metadata": {},
   "source": [
    "**Average user ratings of the Xbox One and PC platforms are the same.**"
   ]
  },
  {
   "cell_type": "code",
   "execution_count": 80,
   "metadata": {},
   "outputs": [
    {
     "name": "stdout",
     "output_type": "stream",
     "text": [
      "The average user rating of Xbox One is 5.93\n",
      "The average user rating of PC is 5.87\n"
     ]
    }
   ],
   "source": [
    "# calculate the average user rating of Xbox One and PC platforms\n",
    "df_Xone = df_new[df_new.platform.isin(['XOne'])]\n",
    "df_pc = df_new[df_new.platform.isin(['PC'])]\n",
    "print('The average user rating of Xbox One is', round(df_Xone['user_score'].mean(), 2))\n",
    "print('The average user rating of PC is', round(df_pc['user_score'].mean(), 2))"
   ]
  },
  {
   "cell_type": "markdown",
   "metadata": {},
   "source": [
    "We know the average user rating for `XOne` and `PC` are different. We want to test whether the difference is significant. The null hypothesis is there is no average user rating difference between `XOne` and `PC` platforms, the alternative hypothesis is the average user rating of `XOne` and `PC` platforms differs. We use significant level 0.05."
   ]
  },
  {
   "cell_type": "markdown",
   "metadata": {},
   "source": [
    "* $H_0$: there is no average user rating difference between `XOne` and `PC` platforms.\n",
    "* $H_1$: the average user rating of `XOne` and `PC` platforms differs.\n",
    "* $\\alpha$ = 0.05\n",
    "* If the p-value < $\\alpha$, we reject the null hypothesis, otherwise, we fail to reject the null hypothesis."
   ]
  },
  {
   "cell_type": "code",
   "execution_count": null,
   "metadata": {},
   "outputs": [],
   "source": [
    "XOne = df_Xone['user_score']\n",
    "PC = df_pc['user_score']\n",
    "\n",
    "alpha = 0.05\n",
    "\n",
    "results = st.ttest_ind(XOne, PC, equal_var = True)\n",
    "print('p-value: ', results.pvalue)\n",
    "\n",
    "if results.pvalue < alpha:\n",
    "    print('We reject the null hypothesis.')\n",
    "else:\n",
    "    print('We fail to reject the null hypothesis')"
   ]
  },
  {
   "cell_type": "markdown",
   "metadata": {},
   "source": [
    "**Conclusion**\n",
    "\n",
    "Based on our testing, we reject the null hypothesis. That is, there is no average user rating difference between `XOne` and `PC` platforms."
   ]
  },
  {
   "cell_type": "markdown",
   "metadata": {},
   "source": [
    "### Test 2"
   ]
  },
  {
   "cell_type": "markdown",
   "metadata": {},
   "source": [
    "**Average user ratings for the Action and Sports genres are different**"
   ]
  },
  {
   "cell_type": "code",
   "execution_count": 81,
   "metadata": {},
   "outputs": [
    {
     "name": "stdout",
     "output_type": "stream",
     "text": [
      "The average user rating of Action genre is 5.73\n",
      "The average user rating of Sports genre is 5.06\n"
     ]
    }
   ],
   "source": [
    "# calculate the average user rating of Action and Sports genres\n",
    "df_action = df_new[df_new.genre.isin(['Action'])]\n",
    "df_sports = df_new[df_new.genre.isin(['Sports'])]\n",
    "print('The average user rating of Action genre is', round(df_action['user_score'].mean(), 2))\n",
    "print('The average user rating of Sports genre is', round(df_sports['user_score'].mean(), 2))"
   ]
  },
  {
   "cell_type": "markdown",
   "metadata": {},
   "source": [
    "We know the average user rating for `Action` and `Sports` are different. We want to test whether the difference is significant. The null hypothesis is there is no average user rating difference between `Action` and `Sports`, the alternative hypothesis is the average user rating of `Action` and `Sports` genres differs. We use significant level 0.05."
   ]
  },
  {
   "cell_type": "markdown",
   "metadata": {},
   "source": [
    "* $H_0$: there is no average user rating difference between `Action` and `Sports` genres.\n",
    "* $H_1$: the average user rating of `Action` and `Sports` genres differs. \n",
    "* $\\alpha$ = 0.05\n",
    "* If the p-value < $\\alpha$, we reject the null hypothesis, otherwise, we fail to reject the null hypothesis."
   ]
  },
  {
   "cell_type": "code",
   "execution_count": null,
   "metadata": {},
   "outputs": [],
   "source": [
    "Action = df_action['user_score']\n",
    "Sports = df_sports['user_score']\n",
    "\n",
    "alpha = 0.05\n",
    "\n",
    "results = st.ttest_ind(Action, Sports, equal_var = True)\n",
    "print('p-value: ', results.pvalue)\n",
    "\n",
    "if results.pvalue < alpha:\n",
    "    print('We reject the null hypothesis.')\n",
    "else:\n",
    "    print('We fail to reject the null hypothesis')"
   ]
  },
  {
   "cell_type": "markdown",
   "metadata": {},
   "source": [
    "**Conclusion**\n",
    "\n",
    "Based on our testing, we reject the null hypothesis. That is, the average user rating of `Action` and `Sports` genres differs."
   ]
  },
  {
   "cell_type": "markdown",
   "metadata": {},
   "source": [
    "## Overall Conclusion"
   ]
  },
  {
   "cell_type": "markdown",
   "metadata": {},
   "source": [
    "**By looking at the general information of the data**\n",
    "* We identified there were missing values in `name`, `genre`, `year_of_release`, `critic_score`, `rating`, and `user_score`. \n",
    "* Then, we dropped missing values from `name` and `genre`, we replaced missing values from `year_of_release`, `critic_score`, `rating` and `user_score` by randomly choosing from non missing values.\n",
    "* We converted columns' datatypes to the correct ones. We calculated `total_sales` by adding up sales from different regions. \n",
    "\n",
    "**By analyzing the data**\n",
    "* We noticed after year 1994, the number of games released each year starts increasing. The peak number is in year 2009. Starting from 2009, the number of games released each year starts decreasing. This is because the use of smart phones, people started to play games on their smart phones and tablets. \n",
    "* We observed that the top 5 platforms with greatest sales are `PS2`, `DS`, `PS3`, `Wii`, and `X360`. \n",
    "* `PS2`, `X360`, `PS3`, `Wii`, `DS`, and `PS` are platforms used to be popular. In these popular platforms, `PS2`, `DS`, and `PS` have zero sales in year 2016. \n",
    "* By plotting a heatmap, we found that  `PS4`, `PS3`, `XOne`, `3DS`, and `X360` are platforms that are leading in sales, platforms such as `3DS`, `2600`, and `GBA` are platforms are shrinking in sales. \n",
    "* Platforms that are potentially profitable are `PS4` and `XOne`. We found `PS4` has the highest mean value in terms of total sales and `PS4` also has the highest average sales across the various platforms. We found that professional reviews doesn't correlate with total sales for popular platforms. \n",
    "* For `Action`, `Shooter`, `Sports`, `Role-Playing`, and `Misc` have the greatest sales, and `Puzzle` has the least sales.\n",
    "* After plotting scatterplots, we found that no significant relation between professional scores and total sales for top sales platforms.\n",
    "\n",
    "**At creating a user profile for each region**\n",
    "\n",
    "After analyzing top 5 platforms, genres, and ESRB ratings in terms of total sales in different regions. \n",
    "* We found that the top 5 platforms in North America and Europe are pretty similar. However, in Japan, the top 1 platform is `3DS`, followed by `DS`. We can see `3DS` is in rank 5 in the top 5 lists in North America and Europe. \n",
    "* The top 5 genres in North America and Europe are the same, in Japan, however, is different. The top 1 genre in Japan is `Role-Playing`, which doesn't appear in the list for both North America and Europe. \n",
    "* We discovered that ESRB rating does affect sales in individual regions. In each of the three regions, rating `E`, `T`, `M`, `E10+`, and `AO` got the highest sales.\n",
    "\n",
    "**At testing hypotheses stage**\n",
    "* We used null hypothesis testing tested whether average user ratings of the Xbox One and PC platforms are the same, and we concluded there is no average user rating difference between `XOne` and `PC` platforms. \n",
    "* We also tested whether average user ratings for the Action and Sports genres are different, and we concluded the average user rating of Action and Sports genres differs."
   ]
  },
  {
   "cell_type": "code",
   "execution_count": 82,
   "metadata": {},
   "outputs": [
    {
     "name": "stdout",
     "output_type": "stream",
     "text": [
      "3.8.3\n"
     ]
    }
   ],
   "source": [
    "from platform import python_version\n",
    "\n",
    "print(python_version())"
   ]
  },
  {
   "cell_type": "code",
   "execution_count": null,
   "metadata": {},
   "outputs": [],
   "source": []
  }
 ],
 "metadata": {
  "ExecuteTimeLog": [
   {
    "duration": 1434,
    "start_time": "2021-08-10T19:25:38.516Z"
   },
   {
    "duration": 49,
    "start_time": "2021-08-10T19:27:16.967Z"
   },
   {
    "duration": 24,
    "start_time": "2021-08-10T19:29:21.806Z"
   },
   {
    "duration": 19,
    "start_time": "2021-08-10T19:29:37.888Z"
   },
   {
    "duration": 14,
    "start_time": "2021-08-10T19:29:53.355Z"
   },
   {
    "duration": 43,
    "start_time": "2021-08-10T19:30:58.317Z"
   },
   {
    "duration": 4,
    "start_time": "2021-08-10T19:31:22.281Z"
   },
   {
    "duration": 12,
    "start_time": "2021-08-10T19:31:56.731Z"
   },
   {
    "duration": 18,
    "start_time": "2021-08-10T19:34:42.839Z"
   },
   {
    "duration": 22,
    "start_time": "2021-08-10T19:36:06.678Z"
   },
   {
    "duration": 4,
    "start_time": "2021-08-10T19:40:25.152Z"
   },
   {
    "duration": 6,
    "start_time": "2021-08-10T19:44:53.142Z"
   },
   {
    "duration": 13,
    "start_time": "2021-08-10T19:47:34.992Z"
   },
   {
    "duration": 13,
    "start_time": "2021-08-10T19:50:24.541Z"
   },
   {
    "duration": 20,
    "start_time": "2021-08-10T19:50:29.439Z"
   },
   {
    "duration": 7,
    "start_time": "2021-08-10T19:56:37.772Z"
   },
   {
    "duration": 7,
    "start_time": "2021-08-10T19:56:44.852Z"
   },
   {
    "duration": 7,
    "start_time": "2021-08-10T19:56:58.414Z"
   },
   {
    "duration": 369,
    "start_time": "2021-08-10T19:57:55.015Z"
   },
   {
    "duration": 261,
    "start_time": "2021-08-10T19:58:05.702Z"
   },
   {
    "duration": 37,
    "start_time": "2021-08-10T19:58:32.081Z"
   },
   {
    "duration": 258,
    "start_time": "2021-08-10T19:59:21.798Z"
   },
   {
    "duration": 279,
    "start_time": "2021-08-10T19:59:40.821Z"
   },
   {
    "duration": 255,
    "start_time": "2021-08-10T20:00:07.967Z"
   },
   {
    "duration": 6,
    "start_time": "2021-08-10T20:00:12.843Z"
   },
   {
    "duration": 31,
    "start_time": "2021-08-10T20:00:41.077Z"
   },
   {
    "duration": 30,
    "start_time": "2021-08-10T20:01:05.668Z"
   },
   {
    "duration": 8,
    "start_time": "2021-08-10T20:04:24.702Z"
   },
   {
    "duration": 6,
    "start_time": "2021-08-10T20:04:38.906Z"
   },
   {
    "duration": 6,
    "start_time": "2021-08-10T20:05:24.436Z"
   },
   {
    "duration": 6,
    "start_time": "2021-08-10T20:05:34.896Z"
   },
   {
    "duration": 4,
    "start_time": "2021-08-10T20:10:30.726Z"
   },
   {
    "duration": 10,
    "start_time": "2021-08-10T20:14:04.555Z"
   },
   {
    "duration": 8,
    "start_time": "2021-08-10T20:14:11.179Z"
   },
   {
    "duration": 6,
    "start_time": "2021-08-10T20:14:22.945Z"
   },
   {
    "duration": 7,
    "start_time": "2021-08-10T20:14:24.702Z"
   },
   {
    "duration": 1302,
    "start_time": "2021-08-10T20:15:07.599Z"
   },
   {
    "duration": 49,
    "start_time": "2021-08-10T20:15:08.904Z"
   },
   {
    "duration": 23,
    "start_time": "2021-08-10T20:15:08.956Z"
   },
   {
    "duration": 20,
    "start_time": "2021-08-10T20:15:08.982Z"
   },
   {
    "duration": 19,
    "start_time": "2021-08-10T20:15:09.005Z"
   },
   {
    "duration": 69,
    "start_time": "2021-08-10T20:15:09.026Z"
   },
   {
    "duration": 5,
    "start_time": "2021-08-10T20:15:09.097Z"
   },
   {
    "duration": 13,
    "start_time": "2021-08-10T20:15:09.105Z"
   },
   {
    "duration": 54,
    "start_time": "2021-08-10T20:15:09.121Z"
   },
   {
    "duration": 6,
    "start_time": "2021-08-10T20:15:09.178Z"
   },
   {
    "duration": 16,
    "start_time": "2021-08-10T20:15:09.187Z"
   },
   {
    "duration": 56,
    "start_time": "2021-08-10T20:15:09.205Z"
   },
   {
    "duration": 5,
    "start_time": "2021-08-10T20:15:09.264Z"
   },
   {
    "duration": 10,
    "start_time": "2021-08-10T20:15:09.271Z"
   },
   {
    "duration": 10,
    "start_time": "2021-08-10T20:15:09.283Z"
   },
   {
    "duration": 8,
    "start_time": "2021-08-10T20:15:14.706Z"
   },
   {
    "duration": 8,
    "start_time": "2021-08-10T20:15:17.561Z"
   },
   {
    "duration": 9,
    "start_time": "2021-08-10T20:20:10.822Z"
   },
   {
    "duration": 7,
    "start_time": "2021-08-10T20:20:14.854Z"
   },
   {
    "duration": 1390,
    "start_time": "2021-08-10T20:21:11.721Z"
   },
   {
    "duration": 50,
    "start_time": "2021-08-10T20:21:13.114Z"
   },
   {
    "duration": 23,
    "start_time": "2021-08-10T20:21:13.167Z"
   },
   {
    "duration": 23,
    "start_time": "2021-08-10T20:21:13.193Z"
   },
   {
    "duration": 41,
    "start_time": "2021-08-10T20:21:13.218Z"
   },
   {
    "duration": 44,
    "start_time": "2021-08-10T20:21:13.261Z"
   },
   {
    "duration": 5,
    "start_time": "2021-08-10T20:21:13.308Z"
   },
   {
    "duration": 43,
    "start_time": "2021-08-10T20:21:13.317Z"
   },
   {
    "duration": 23,
    "start_time": "2021-08-10T20:21:13.363Z"
   },
   {
    "duration": 6,
    "start_time": "2021-08-10T20:21:13.389Z"
   },
   {
    "duration": 24,
    "start_time": "2021-08-10T20:21:13.398Z"
   },
   {
    "duration": 41,
    "start_time": "2021-08-10T20:21:13.424Z"
   },
   {
    "duration": 9,
    "start_time": "2021-08-10T20:21:13.467Z"
   },
   {
    "duration": 9,
    "start_time": "2021-08-10T20:21:13.479Z"
   },
   {
    "duration": 14,
    "start_time": "2021-08-10T20:21:13.491Z"
   },
   {
    "duration": 8,
    "start_time": "2021-08-10T20:21:18.217Z"
   },
   {
    "duration": 7,
    "start_time": "2021-08-10T20:21:20.615Z"
   },
   {
    "duration": 1335,
    "start_time": "2021-08-10T20:21:30.284Z"
   },
   {
    "duration": 51,
    "start_time": "2021-08-10T20:21:31.622Z"
   },
   {
    "duration": 22,
    "start_time": "2021-08-10T20:21:31.677Z"
   },
   {
    "duration": 25,
    "start_time": "2021-08-10T20:21:31.702Z"
   },
   {
    "duration": 32,
    "start_time": "2021-08-10T20:21:31.729Z"
   },
   {
    "duration": 56,
    "start_time": "2021-08-10T20:21:31.763Z"
   },
   {
    "duration": 5,
    "start_time": "2021-08-10T20:21:31.822Z"
   },
   {
    "duration": 33,
    "start_time": "2021-08-10T20:21:31.830Z"
   },
   {
    "duration": 55,
    "start_time": "2021-08-10T20:21:31.866Z"
   },
   {
    "duration": 9,
    "start_time": "2021-08-10T20:21:31.924Z"
   },
   {
    "duration": 27,
    "start_time": "2021-08-10T20:21:31.937Z"
   },
   {
    "duration": 17,
    "start_time": "2021-08-10T20:21:31.967Z"
   },
   {
    "duration": 11,
    "start_time": "2021-08-10T20:21:31.987Z"
   },
   {
    "duration": 16,
    "start_time": "2021-08-10T20:21:32.001Z"
   },
   {
    "duration": 20,
    "start_time": "2021-08-10T20:21:32.020Z"
   },
   {
    "duration": 1200,
    "start_time": "2021-08-10T20:24:17.252Z"
   },
   {
    "duration": 8,
    "start_time": "2021-08-10T20:28:24.336Z"
   },
   {
    "duration": 12,
    "start_time": "2021-08-10T20:28:33.703Z"
   },
   {
    "duration": 13,
    "start_time": "2021-08-10T20:31:55.895Z"
   },
   {
    "duration": 11,
    "start_time": "2021-08-10T20:33:25.107Z"
   },
   {
    "duration": 8,
    "start_time": "2021-08-10T20:33:34.882Z"
   },
   {
    "duration": 6,
    "start_time": "2021-08-10T20:33:42.942Z"
   },
   {
    "duration": 13,
    "start_time": "2021-08-10T20:39:43.074Z"
   },
   {
    "duration": 279,
    "start_time": "2021-08-10T20:40:25.547Z"
   },
   {
    "duration": 10,
    "start_time": "2021-08-10T20:41:09.218Z"
   },
   {
    "duration": 8,
    "start_time": "2021-08-10T20:44:15.792Z"
   },
   {
    "duration": 11,
    "start_time": "2021-08-10T20:44:22.114Z"
   },
   {
    "duration": 11,
    "start_time": "2021-08-10T20:46:05.881Z"
   },
   {
    "duration": 16,
    "start_time": "2021-08-10T20:46:40.982Z"
   },
   {
    "duration": 12,
    "start_time": "2021-08-10T20:46:50.268Z"
   },
   {
    "duration": 12,
    "start_time": "2021-08-10T20:48:04.214Z"
   },
   {
    "duration": 7,
    "start_time": "2021-08-10T20:48:48.596Z"
   },
   {
    "duration": 11,
    "start_time": "2021-08-10T20:51:15.991Z"
   },
   {
    "duration": 7,
    "start_time": "2021-08-10T20:51:23.244Z"
   },
   {
    "duration": 1417,
    "start_time": "2021-08-10T20:53:39.648Z"
   },
   {
    "duration": 51,
    "start_time": "2021-08-10T20:53:41.067Z"
   },
   {
    "duration": 23,
    "start_time": "2021-08-10T20:53:41.120Z"
   },
   {
    "duration": 26,
    "start_time": "2021-08-10T20:53:41.155Z"
   },
   {
    "duration": 21,
    "start_time": "2021-08-10T20:53:41.184Z"
   },
   {
    "duration": 58,
    "start_time": "2021-08-10T20:53:41.207Z"
   },
   {
    "duration": 4,
    "start_time": "2021-08-10T20:53:41.268Z"
   },
   {
    "duration": 31,
    "start_time": "2021-08-10T20:53:41.276Z"
   },
   {
    "duration": 32,
    "start_time": "2021-08-10T20:53:41.310Z"
   },
   {
    "duration": 11,
    "start_time": "2021-08-10T20:53:41.345Z"
   },
   {
    "duration": 35,
    "start_time": "2021-08-10T20:53:41.358Z"
   },
   {
    "duration": 20,
    "start_time": "2021-08-10T20:53:41.396Z"
   },
   {
    "duration": 5,
    "start_time": "2021-08-10T20:53:41.418Z"
   },
   {
    "duration": 27,
    "start_time": "2021-08-10T20:53:41.425Z"
   },
   {
    "duration": 12,
    "start_time": "2021-08-10T20:53:41.455Z"
   },
   {
    "duration": 10,
    "start_time": "2021-08-10T20:53:41.470Z"
   },
   {
    "duration": 7,
    "start_time": "2021-08-10T20:53:41.482Z"
   },
   {
    "duration": 15,
    "start_time": "2021-08-10T20:53:41.491Z"
   },
   {
    "duration": 18,
    "start_time": "2021-08-10T20:56:25.710Z"
   },
   {
    "duration": 12,
    "start_time": "2021-08-10T20:57:03.573Z"
   },
   {
    "duration": 1360,
    "start_time": "2021-08-10T21:00:27.567Z"
   },
   {
    "duration": 53,
    "start_time": "2021-08-10T21:00:28.930Z"
   },
   {
    "duration": 24,
    "start_time": "2021-08-10T21:00:28.986Z"
   },
   {
    "duration": 41,
    "start_time": "2021-08-10T21:00:29.013Z"
   },
   {
    "duration": 27,
    "start_time": "2021-08-10T21:00:29.056Z"
   },
   {
    "duration": 71,
    "start_time": "2021-08-10T21:00:29.085Z"
   },
   {
    "duration": 4,
    "start_time": "2021-08-10T21:00:29.158Z"
   },
   {
    "duration": 31,
    "start_time": "2021-08-10T21:00:29.166Z"
   },
   {
    "duration": 54,
    "start_time": "2021-08-10T21:00:29.201Z"
   },
   {
    "duration": 19,
    "start_time": "2021-08-10T21:00:29.257Z"
   },
   {
    "duration": 36,
    "start_time": "2021-08-10T21:00:29.279Z"
   },
   {
    "duration": 32,
    "start_time": "2021-08-10T21:00:29.317Z"
   },
   {
    "duration": 20,
    "start_time": "2021-08-10T21:00:29.351Z"
   },
   {
    "duration": 44,
    "start_time": "2021-08-10T21:00:29.373Z"
   },
   {
    "duration": 20,
    "start_time": "2021-08-10T21:00:29.420Z"
   },
   {
    "duration": 23,
    "start_time": "2021-08-10T21:00:29.443Z"
   },
   {
    "duration": 37,
    "start_time": "2021-08-10T21:00:29.469Z"
   },
   {
    "duration": 38,
    "start_time": "2021-08-10T21:00:29.509Z"
   },
   {
    "duration": 30,
    "start_time": "2021-08-10T21:00:29.550Z"
   },
   {
    "duration": 6,
    "start_time": "2021-08-10T21:00:54.333Z"
   },
   {
    "duration": 13,
    "start_time": "2021-08-10T21:01:23.683Z"
   },
   {
    "duration": 13,
    "start_time": "2021-08-10T21:02:26.382Z"
   },
   {
    "duration": 6,
    "start_time": "2021-08-10T21:04:24.364Z"
   },
   {
    "duration": 7,
    "start_time": "2021-08-10T21:04:35.021Z"
   },
   {
    "duration": 12,
    "start_time": "2021-08-10T21:05:08.510Z"
   },
   {
    "duration": 20,
    "start_time": "2021-08-10T21:18:44.170Z"
   },
   {
    "duration": 4,
    "start_time": "2021-08-10T21:22:37.938Z"
   },
   {
    "duration": 379,
    "start_time": "2021-08-10T21:22:58.490Z"
   },
   {
    "duration": 270,
    "start_time": "2021-08-10T21:23:49.126Z"
   },
   {
    "duration": 256,
    "start_time": "2021-08-10T21:23:55.868Z"
   },
   {
    "duration": 281,
    "start_time": "2021-08-10T21:24:43.822Z"
   },
   {
    "duration": 302,
    "start_time": "2021-08-10T21:26:12.808Z"
   },
   {
    "duration": 293,
    "start_time": "2021-08-10T21:27:03.032Z"
   },
   {
    "duration": 7,
    "start_time": "2021-08-10T21:28:13.038Z"
   },
   {
    "duration": 24,
    "start_time": "2021-08-10T21:29:43.214Z"
   },
   {
    "duration": 27,
    "start_time": "2021-08-10T21:29:50.336Z"
   },
   {
    "duration": 284,
    "start_time": "2021-08-10T21:30:22.554Z"
   },
   {
    "duration": 24,
    "start_time": "2021-08-10T21:30:31.730Z"
   },
   {
    "duration": 276,
    "start_time": "2021-08-10T21:30:56.783Z"
   },
   {
    "duration": 33,
    "start_time": "2021-08-10T21:31:20.938Z"
   },
   {
    "duration": 25,
    "start_time": "2021-08-10T21:31:40.677Z"
   },
   {
    "duration": 8,
    "start_time": "2021-08-10T21:35:14.118Z"
   },
   {
    "duration": 8,
    "start_time": "2021-08-10T21:35:27.302Z"
   },
   {
    "duration": 6,
    "start_time": "2021-08-10T21:35:31.725Z"
   },
   {
    "duration": 1330,
    "start_time": "2021-08-10T21:38:10.656Z"
   },
   {
    "duration": 49,
    "start_time": "2021-08-10T21:38:11.989Z"
   },
   {
    "duration": 31,
    "start_time": "2021-08-10T21:38:12.041Z"
   },
   {
    "duration": 21,
    "start_time": "2021-08-10T21:38:12.075Z"
   },
   {
    "duration": 42,
    "start_time": "2021-08-10T21:38:12.099Z"
   },
   {
    "duration": 56,
    "start_time": "2021-08-10T21:38:12.143Z"
   },
   {
    "duration": 5,
    "start_time": "2021-08-10T21:38:12.201Z"
   },
   {
    "duration": 39,
    "start_time": "2021-08-10T21:38:12.209Z"
   },
   {
    "duration": 33,
    "start_time": "2021-08-10T21:38:12.252Z"
   },
   {
    "duration": 19,
    "start_time": "2021-08-10T21:38:12.287Z"
   },
   {
    "duration": 36,
    "start_time": "2021-08-10T21:38:12.308Z"
   },
   {
    "duration": 24,
    "start_time": "2021-08-10T21:38:12.346Z"
   },
   {
    "duration": 34,
    "start_time": "2021-08-10T21:38:12.372Z"
   },
   {
    "duration": 17,
    "start_time": "2021-08-10T21:38:12.408Z"
   },
   {
    "duration": 36,
    "start_time": "2021-08-10T21:38:12.428Z"
   },
   {
    "duration": 10,
    "start_time": "2021-08-10T21:38:12.467Z"
   },
   {
    "duration": 33,
    "start_time": "2021-08-10T21:38:12.480Z"
   },
   {
    "duration": 20,
    "start_time": "2021-08-10T21:38:12.516Z"
   },
   {
    "duration": 14,
    "start_time": "2021-08-10T21:38:12.538Z"
   },
   {
    "duration": 33,
    "start_time": "2021-08-10T21:38:12.554Z"
   },
   {
    "duration": 29,
    "start_time": "2021-08-10T21:38:12.589Z"
   },
   {
    "duration": 23,
    "start_time": "2021-08-10T21:38:12.621Z"
   },
   {
    "duration": 49,
    "start_time": "2021-08-10T21:38:12.650Z"
   },
   {
    "duration": 1311,
    "start_time": "2021-08-10T21:38:48.690Z"
   },
   {
    "duration": 51,
    "start_time": "2021-08-10T21:38:50.003Z"
   },
   {
    "duration": 24,
    "start_time": "2021-08-10T21:38:50.058Z"
   },
   {
    "duration": 20,
    "start_time": "2021-08-10T21:38:50.084Z"
   },
   {
    "duration": 15,
    "start_time": "2021-08-10T21:38:50.106Z"
   },
   {
    "duration": 44,
    "start_time": "2021-08-10T21:38:50.155Z"
   },
   {
    "duration": 5,
    "start_time": "2021-08-10T21:38:50.202Z"
   },
   {
    "duration": 16,
    "start_time": "2021-08-10T21:38:50.211Z"
   },
   {
    "duration": 23,
    "start_time": "2021-08-10T21:38:50.255Z"
   },
   {
    "duration": 5,
    "start_time": "2021-08-10T21:38:50.281Z"
   },
   {
    "duration": 22,
    "start_time": "2021-08-10T21:38:50.288Z"
   },
   {
    "duration": 42,
    "start_time": "2021-08-10T21:38:50.313Z"
   },
   {
    "duration": 12,
    "start_time": "2021-08-10T21:38:50.357Z"
   },
   {
    "duration": 5,
    "start_time": "2021-08-10T21:38:50.372Z"
   },
   {
    "duration": 20,
    "start_time": "2021-08-10T21:38:50.379Z"
   },
   {
    "duration": 7,
    "start_time": "2021-08-10T21:38:50.402Z"
   },
   {
    "duration": 46,
    "start_time": "2021-08-10T21:38:50.411Z"
   },
   {
    "duration": 15,
    "start_time": "2021-08-10T21:38:50.459Z"
   },
   {
    "duration": 6,
    "start_time": "2021-08-10T21:38:50.477Z"
   },
   {
    "duration": 13,
    "start_time": "2021-08-10T21:38:50.486Z"
   },
   {
    "duration": 55,
    "start_time": "2021-08-10T21:38:50.501Z"
   },
   {
    "duration": 10,
    "start_time": "2021-08-10T21:38:50.558Z"
   },
   {
    "duration": 88,
    "start_time": "2021-08-10T21:38:50.572Z"
   },
   {
    "duration": 421,
    "start_time": "2021-08-10T21:39:02.924Z"
   },
   {
    "duration": 5,
    "start_time": "2021-08-10T21:39:31.649Z"
   },
   {
    "duration": 6,
    "start_time": "2021-08-10T21:39:35.332Z"
   },
   {
    "duration": 6,
    "start_time": "2021-08-10T21:39:40.994Z"
   },
   {
    "duration": 1475,
    "start_time": "2021-08-10T21:40:08.012Z"
   },
   {
    "duration": 52,
    "start_time": "2021-08-10T21:40:09.489Z"
   },
   {
    "duration": 31,
    "start_time": "2021-08-10T21:40:09.545Z"
   },
   {
    "duration": 19,
    "start_time": "2021-08-10T21:40:09.579Z"
   },
   {
    "duration": 20,
    "start_time": "2021-08-10T21:40:09.600Z"
   },
   {
    "duration": 71,
    "start_time": "2021-08-10T21:40:09.623Z"
   },
   {
    "duration": 4,
    "start_time": "2021-08-10T21:40:09.697Z"
   },
   {
    "duration": 23,
    "start_time": "2021-08-10T21:40:09.705Z"
   },
   {
    "duration": 41,
    "start_time": "2021-08-10T21:40:09.731Z"
   },
   {
    "duration": 7,
    "start_time": "2021-08-10T21:40:09.774Z"
   },
   {
    "duration": 46,
    "start_time": "2021-08-10T21:40:09.783Z"
   },
   {
    "duration": 22,
    "start_time": "2021-08-10T21:40:09.831Z"
   },
   {
    "duration": 26,
    "start_time": "2021-08-10T21:40:09.855Z"
   },
   {
    "duration": 25,
    "start_time": "2021-08-10T21:40:09.884Z"
   },
   {
    "duration": 28,
    "start_time": "2021-08-10T21:40:09.912Z"
   },
   {
    "duration": 18,
    "start_time": "2021-08-10T21:40:09.942Z"
   },
   {
    "duration": 26,
    "start_time": "2021-08-10T21:40:09.962Z"
   },
   {
    "duration": 29,
    "start_time": "2021-08-10T21:40:09.991Z"
   },
   {
    "duration": 17,
    "start_time": "2021-08-10T21:40:10.023Z"
   },
   {
    "duration": 30,
    "start_time": "2021-08-10T21:40:10.042Z"
   },
   {
    "duration": 41,
    "start_time": "2021-08-10T21:40:10.074Z"
   },
   {
    "duration": 20,
    "start_time": "2021-08-10T21:40:10.117Z"
   },
   {
    "duration": 45,
    "start_time": "2021-08-10T21:40:10.141Z"
   },
   {
    "duration": 13,
    "start_time": "2021-08-10T21:40:10.189Z"
   },
   {
    "duration": 1352,
    "start_time": "2021-08-10T21:45:06.757Z"
   },
   {
    "duration": 51,
    "start_time": "2021-08-10T21:45:08.112Z"
   },
   {
    "duration": 24,
    "start_time": "2021-08-10T21:45:08.166Z"
   },
   {
    "duration": 19,
    "start_time": "2021-08-10T21:45:08.194Z"
   },
   {
    "duration": 49,
    "start_time": "2021-08-10T21:45:08.217Z"
   },
   {
    "duration": 43,
    "start_time": "2021-08-10T21:45:08.268Z"
   },
   {
    "duration": 5,
    "start_time": "2021-08-10T21:45:08.314Z"
   },
   {
    "duration": 39,
    "start_time": "2021-08-10T21:45:08.323Z"
   },
   {
    "duration": 24,
    "start_time": "2021-08-10T21:45:08.365Z"
   },
   {
    "duration": 6,
    "start_time": "2021-08-10T21:45:08.391Z"
   },
   {
    "duration": 55,
    "start_time": "2021-08-10T21:45:08.399Z"
   },
   {
    "duration": 13,
    "start_time": "2021-08-10T21:45:08.457Z"
   },
   {
    "duration": 11,
    "start_time": "2021-08-10T21:45:08.472Z"
   },
   {
    "duration": 5,
    "start_time": "2021-08-10T21:45:08.486Z"
   },
   {
    "duration": 14,
    "start_time": "2021-08-10T21:45:08.493Z"
   },
   {
    "duration": 47,
    "start_time": "2021-08-10T21:45:08.509Z"
   },
   {
    "duration": 9,
    "start_time": "2021-08-10T21:45:08.558Z"
   },
   {
    "duration": 15,
    "start_time": "2021-08-10T21:45:08.570Z"
   },
   {
    "duration": 5,
    "start_time": "2021-08-10T21:45:08.587Z"
   },
   {
    "duration": 16,
    "start_time": "2021-08-10T21:45:08.595Z"
   },
   {
    "duration": 56,
    "start_time": "2021-08-10T21:45:08.613Z"
   },
   {
    "duration": 11,
    "start_time": "2021-08-10T21:45:08.671Z"
   },
   {
    "duration": 29,
    "start_time": "2021-08-10T21:45:08.686Z"
   },
   {
    "duration": 10,
    "start_time": "2021-08-10T21:48:19.461Z"
   },
   {
    "duration": 20,
    "start_time": "2021-08-10T21:48:38.963Z"
   },
   {
    "duration": 393,
    "start_time": "2021-08-10T22:06:21.450Z"
   },
   {
    "duration": 282,
    "start_time": "2021-08-10T22:09:43.893Z"
   },
   {
    "duration": 268,
    "start_time": "2021-08-10T22:10:04.669Z"
   },
   {
    "duration": 20,
    "start_time": "2021-08-10T22:11:49.238Z"
   },
   {
    "duration": 12,
    "start_time": "2021-08-10T22:12:04.760Z"
   },
   {
    "duration": 18,
    "start_time": "2021-08-10T22:12:12.359Z"
   },
   {
    "duration": 292,
    "start_time": "2021-08-10T22:13:34.247Z"
   },
   {
    "duration": 673,
    "start_time": "2021-08-10T22:13:41.956Z"
   },
   {
    "duration": 291,
    "start_time": "2021-08-10T22:14:49.452Z"
   },
   {
    "duration": 529,
    "start_time": "2021-08-10T22:15:05.420Z"
   },
   {
    "duration": 535,
    "start_time": "2021-08-10T22:15:20.203Z"
   },
   {
    "duration": 584,
    "start_time": "2021-08-10T22:15:32.005Z"
   },
   {
    "duration": 755,
    "start_time": "2021-08-10T22:15:39.144Z"
   },
   {
    "duration": 649,
    "start_time": "2021-08-10T22:16:45.668Z"
   },
   {
    "duration": 749,
    "start_time": "2021-08-10T22:16:53.999Z"
   },
   {
    "duration": 591,
    "start_time": "2021-08-10T22:17:42.683Z"
   },
   {
    "duration": 577,
    "start_time": "2021-08-10T22:17:48.424Z"
   },
   {
    "duration": 559,
    "start_time": "2021-08-10T22:18:18.041Z"
   },
   {
    "duration": 506,
    "start_time": "2021-08-10T22:20:02.059Z"
   },
   {
    "duration": 273,
    "start_time": "2021-08-10T22:32:34.461Z"
   },
   {
    "duration": 13,
    "start_time": "2021-08-10T22:32:40.668Z"
   },
   {
    "duration": 13,
    "start_time": "2021-08-10T22:33:08.670Z"
   },
   {
    "duration": 258,
    "start_time": "2021-08-10T22:33:45.822Z"
   },
   {
    "duration": 17,
    "start_time": "2021-08-10T22:33:55.067Z"
   },
   {
    "duration": 14,
    "start_time": "2021-08-10T22:34:58.189Z"
   },
   {
    "duration": 12,
    "start_time": "2021-08-10T22:35:10.026Z"
   },
   {
    "duration": 14,
    "start_time": "2021-08-10T22:35:33.302Z"
   },
   {
    "duration": 5,
    "start_time": "2021-08-10T22:35:40.276Z"
   },
   {
    "duration": 256,
    "start_time": "2021-08-10T22:35:43.685Z"
   },
   {
    "duration": 282,
    "start_time": "2021-08-10T22:35:51.860Z"
   },
   {
    "duration": 107,
    "start_time": "2021-08-10T22:36:08.428Z"
   },
   {
    "duration": 13,
    "start_time": "2021-08-10T22:36:28.157Z"
   },
   {
    "duration": 1288,
    "start_time": "2021-08-10T22:37:35.416Z"
   },
   {
    "duration": 50,
    "start_time": "2021-08-10T22:37:36.707Z"
   },
   {
    "duration": 23,
    "start_time": "2021-08-10T22:37:36.760Z"
   },
   {
    "duration": 20,
    "start_time": "2021-08-10T22:37:36.786Z"
   },
   {
    "duration": 49,
    "start_time": "2021-08-10T22:37:36.808Z"
   },
   {
    "duration": 41,
    "start_time": "2021-08-10T22:37:36.860Z"
   },
   {
    "duration": 4,
    "start_time": "2021-08-10T22:37:36.903Z"
   },
   {
    "duration": 22,
    "start_time": "2021-08-10T22:37:36.911Z"
   },
   {
    "duration": 22,
    "start_time": "2021-08-10T22:37:36.956Z"
   },
   {
    "duration": 9,
    "start_time": "2021-08-10T22:37:36.980Z"
   },
   {
    "duration": 22,
    "start_time": "2021-08-10T22:37:36.991Z"
   },
   {
    "duration": 39,
    "start_time": "2021-08-10T22:37:37.015Z"
   },
   {
    "duration": 11,
    "start_time": "2021-08-10T22:37:37.057Z"
   },
   {
    "duration": 6,
    "start_time": "2021-08-10T22:37:37.071Z"
   },
   {
    "duration": 15,
    "start_time": "2021-08-10T22:37:37.079Z"
   },
   {
    "duration": 20,
    "start_time": "2021-08-10T22:37:37.096Z"
   },
   {
    "duration": 15,
    "start_time": "2021-08-10T22:37:37.118Z"
   },
   {
    "duration": 32,
    "start_time": "2021-08-10T22:37:37.136Z"
   },
   {
    "duration": 10,
    "start_time": "2021-08-10T22:37:37.170Z"
   },
   {
    "duration": 23,
    "start_time": "2021-08-10T22:37:37.182Z"
   },
   {
    "duration": 8,
    "start_time": "2021-08-10T22:37:37.208Z"
   },
   {
    "duration": 50,
    "start_time": "2021-08-10T22:37:37.219Z"
   },
   {
    "duration": 8,
    "start_time": "2021-08-10T22:37:37.273Z"
   },
   {
    "duration": 21,
    "start_time": "2021-08-10T22:37:37.284Z"
   },
   {
    "duration": 49,
    "start_time": "2021-08-10T22:37:37.307Z"
   },
   {
    "duration": 542,
    "start_time": "2021-08-10T22:37:37.358Z"
   },
   {
    "duration": 3,
    "start_time": "2021-08-10T22:37:37.903Z"
   },
   {
    "duration": 21,
    "start_time": "2021-08-10T22:37:37.908Z"
   },
   {
    "duration": 14,
    "start_time": "2021-08-10T22:38:03.940Z"
   },
   {
    "duration": 5,
    "start_time": "2021-08-10T22:38:09.111Z"
   },
   {
    "duration": 14,
    "start_time": "2021-08-10T22:38:10.766Z"
   },
   {
    "duration": 1394,
    "start_time": "2021-08-10T22:38:54.125Z"
   },
   {
    "duration": 48,
    "start_time": "2021-08-10T22:38:55.522Z"
   },
   {
    "duration": 22,
    "start_time": "2021-08-10T22:38:55.573Z"
   },
   {
    "duration": 21,
    "start_time": "2021-08-10T22:38:55.597Z"
   },
   {
    "duration": 34,
    "start_time": "2021-08-10T22:38:55.621Z"
   },
   {
    "duration": 40,
    "start_time": "2021-08-10T22:38:55.658Z"
   },
   {
    "duration": 5,
    "start_time": "2021-08-10T22:38:55.701Z"
   },
   {
    "duration": 46,
    "start_time": "2021-08-10T22:38:55.710Z"
   },
   {
    "duration": 23,
    "start_time": "2021-08-10T22:38:55.759Z"
   },
   {
    "duration": 5,
    "start_time": "2021-08-10T22:38:55.785Z"
   },
   {
    "duration": 18,
    "start_time": "2021-08-10T22:38:55.793Z"
   },
   {
    "duration": 42,
    "start_time": "2021-08-10T22:38:55.813Z"
   },
   {
    "duration": 12,
    "start_time": "2021-08-10T22:38:55.858Z"
   },
   {
    "duration": 5,
    "start_time": "2021-08-10T22:38:55.872Z"
   },
   {
    "duration": 13,
    "start_time": "2021-08-10T22:38:55.879Z"
   },
   {
    "duration": 11,
    "start_time": "2021-08-10T22:38:55.895Z"
   },
   {
    "duration": 48,
    "start_time": "2021-08-10T22:38:55.909Z"
   },
   {
    "duration": 11,
    "start_time": "2021-08-10T22:38:55.959Z"
   },
   {
    "duration": 6,
    "start_time": "2021-08-10T22:38:55.973Z"
   },
   {
    "duration": 14,
    "start_time": "2021-08-10T22:38:55.982Z"
   },
   {
    "duration": 55,
    "start_time": "2021-08-10T22:38:55.999Z"
   },
   {
    "duration": 33,
    "start_time": "2021-08-10T22:38:56.057Z"
   },
   {
    "duration": 8,
    "start_time": "2021-08-10T22:38:56.096Z"
   },
   {
    "duration": 50,
    "start_time": "2021-08-10T22:38:56.107Z"
   },
   {
    "duration": 19,
    "start_time": "2021-08-10T22:38:56.160Z"
   },
   {
    "duration": 557,
    "start_time": "2021-08-10T22:38:56.182Z"
   },
   {
    "duration": 5,
    "start_time": "2021-08-10T22:38:56.741Z"
   },
   {
    "duration": 13,
    "start_time": "2021-08-10T22:38:56.755Z"
   },
   {
    "duration": 8,
    "start_time": "2021-08-10T22:39:31.890Z"
   },
   {
    "duration": 13,
    "start_time": "2021-08-10T22:39:38.433Z"
   },
   {
    "duration": 1350,
    "start_time": "2021-08-10T22:40:51.058Z"
   },
   {
    "duration": 50,
    "start_time": "2021-08-10T22:40:52.411Z"
   },
   {
    "duration": 23,
    "start_time": "2021-08-10T22:40:52.464Z"
   },
   {
    "duration": 26,
    "start_time": "2021-08-10T22:40:52.490Z"
   },
   {
    "duration": 36,
    "start_time": "2021-08-10T22:40:52.518Z"
   },
   {
    "duration": 42,
    "start_time": "2021-08-10T22:40:52.556Z"
   },
   {
    "duration": 4,
    "start_time": "2021-08-10T22:40:52.600Z"
   },
   {
    "duration": 13,
    "start_time": "2021-08-10T22:40:52.608Z"
   },
   {
    "duration": 52,
    "start_time": "2021-08-10T22:40:52.624Z"
   },
   {
    "duration": 7,
    "start_time": "2021-08-10T22:40:52.678Z"
   },
   {
    "duration": 14,
    "start_time": "2021-08-10T22:40:52.687Z"
   },
   {
    "duration": 13,
    "start_time": "2021-08-10T22:40:52.703Z"
   },
   {
    "duration": 11,
    "start_time": "2021-08-10T22:40:52.756Z"
   },
   {
    "duration": 5,
    "start_time": "2021-08-10T22:40:52.770Z"
   },
   {
    "duration": 9,
    "start_time": "2021-08-10T22:40:52.778Z"
   },
   {
    "duration": 7,
    "start_time": "2021-08-10T22:40:52.789Z"
   },
   {
    "duration": 9,
    "start_time": "2021-08-10T22:40:52.798Z"
   },
   {
    "duration": 52,
    "start_time": "2021-08-10T22:40:52.810Z"
   },
   {
    "duration": 6,
    "start_time": "2021-08-10T22:40:52.864Z"
   },
   {
    "duration": 15,
    "start_time": "2021-08-10T22:40:52.873Z"
   },
   {
    "duration": 6,
    "start_time": "2021-08-10T22:40:52.890Z"
   },
   {
    "duration": 66,
    "start_time": "2021-08-10T22:40:52.899Z"
   },
   {
    "duration": 7,
    "start_time": "2021-08-10T22:40:52.969Z"
   },
   {
    "duration": 21,
    "start_time": "2021-08-10T22:40:52.978Z"
   },
   {
    "duration": 23,
    "start_time": "2021-08-10T22:40:53.002Z"
   },
   {
    "duration": 577,
    "start_time": "2021-08-10T22:40:53.027Z"
   },
   {
    "duration": 4,
    "start_time": "2021-08-10T22:40:53.607Z"
   },
   {
    "duration": 1121,
    "start_time": "2021-08-10T22:40:53.613Z"
   },
   {
    "duration": 13,
    "start_time": "2021-08-10T22:41:07.492Z"
   },
   {
    "duration": 1959,
    "start_time": "2021-08-10T22:41:40.952Z"
   },
   {
    "duration": 51,
    "start_time": "2021-08-10T22:41:42.915Z"
   },
   {
    "duration": 24,
    "start_time": "2021-08-10T22:41:42.970Z"
   },
   {
    "duration": 21,
    "start_time": "2021-08-10T22:41:42.998Z"
   },
   {
    "duration": 17,
    "start_time": "2021-08-10T22:41:43.055Z"
   },
   {
    "duration": 43,
    "start_time": "2021-08-10T22:41:43.075Z"
   },
   {
    "duration": 36,
    "start_time": "2021-08-10T22:41:43.121Z"
   },
   {
    "duration": 13,
    "start_time": "2021-08-10T22:41:43.163Z"
   },
   {
    "duration": 24,
    "start_time": "2021-08-10T22:41:43.181Z"
   },
   {
    "duration": 50,
    "start_time": "2021-08-10T22:41:43.208Z"
   },
   {
    "duration": 15,
    "start_time": "2021-08-10T22:41:43.261Z"
   },
   {
    "duration": 13,
    "start_time": "2021-08-10T22:41:43.278Z"
   },
   {
    "duration": 12,
    "start_time": "2021-08-10T22:41:43.294Z"
   },
   {
    "duration": 47,
    "start_time": "2021-08-10T22:41:43.308Z"
   },
   {
    "duration": 10,
    "start_time": "2021-08-10T22:41:43.357Z"
   },
   {
    "duration": 9,
    "start_time": "2021-08-10T22:41:43.369Z"
   },
   {
    "duration": 12,
    "start_time": "2021-08-10T22:41:43.380Z"
   },
   {
    "duration": 10,
    "start_time": "2021-08-10T22:41:43.395Z"
   },
   {
    "duration": 5,
    "start_time": "2021-08-10T22:41:43.408Z"
   },
   {
    "duration": 13,
    "start_time": "2021-08-10T22:41:43.455Z"
   },
   {
    "duration": 7,
    "start_time": "2021-08-10T22:41:43.471Z"
   },
   {
    "duration": 27,
    "start_time": "2021-08-10T22:41:43.480Z"
   },
   {
    "duration": 43,
    "start_time": "2021-08-10T22:41:43.511Z"
   },
   {
    "duration": 19,
    "start_time": "2021-08-10T22:41:43.557Z"
   },
   {
    "duration": 19,
    "start_time": "2021-08-10T22:41:43.579Z"
   },
   {
    "duration": 539,
    "start_time": "2021-08-10T22:41:43.600Z"
   },
   {
    "duration": 14,
    "start_time": "2021-08-10T22:41:44.142Z"
   },
   {
    "duration": 13,
    "start_time": "2021-08-10T22:41:44.158Z"
   },
   {
    "duration": 13,
    "start_time": "2021-08-10T22:42:01.662Z"
   },
   {
    "duration": 8,
    "start_time": "2021-08-10T22:43:11.155Z"
   },
   {
    "duration": 14,
    "start_time": "2021-08-10T22:43:16.884Z"
   },
   {
    "duration": 14,
    "start_time": "2021-08-10T22:43:38.534Z"
   },
   {
    "duration": 9,
    "start_time": "2021-08-10T22:45:39.783Z"
   },
   {
    "duration": 9,
    "start_time": "2021-08-10T22:45:54.293Z"
   },
   {
    "duration": 9,
    "start_time": "2021-08-10T22:45:58.548Z"
   },
   {
    "duration": 8,
    "start_time": "2021-08-10T22:51:37.962Z"
   },
   {
    "duration": 395,
    "start_time": "2021-08-10T22:52:03.876Z"
   },
   {
    "duration": 12,
    "start_time": "2021-08-10T22:52:15.183Z"
   },
   {
    "duration": 15,
    "start_time": "2021-08-10T22:52:20.431Z"
   },
   {
    "duration": 274,
    "start_time": "2021-08-10T22:52:26.161Z"
   },
   {
    "duration": 272,
    "start_time": "2021-08-10T22:53:21.788Z"
   },
   {
    "duration": 272,
    "start_time": "2021-08-10T22:53:32.655Z"
   },
   {
    "duration": 11,
    "start_time": "2021-08-10T22:54:06.910Z"
   },
   {
    "duration": 9,
    "start_time": "2021-08-10T22:54:37.939Z"
   },
   {
    "duration": 11,
    "start_time": "2021-08-10T22:54:46.892Z"
   },
   {
    "duration": 13,
    "start_time": "2021-08-10T22:55:20.561Z"
   },
   {
    "duration": 13,
    "start_time": "2021-08-10T22:55:47.565Z"
   },
   {
    "duration": 20,
    "start_time": "2021-08-10T22:56:03.307Z"
   },
   {
    "duration": 1009,
    "start_time": "2021-08-10T22:59:20.280Z"
   },
   {
    "duration": 1041,
    "start_time": "2021-08-10T22:59:43.470Z"
   },
   {
    "duration": 13,
    "start_time": "2021-08-10T23:00:00.204Z"
   },
   {
    "duration": 6,
    "start_time": "2021-08-10T23:02:01.580Z"
   },
   {
    "duration": 11,
    "start_time": "2021-08-10T23:02:10.903Z"
   },
   {
    "duration": 16,
    "start_time": "2021-08-10T23:02:37.557Z"
   },
   {
    "duration": 12,
    "start_time": "2021-08-10T23:02:50.097Z"
   },
   {
    "duration": 1402,
    "start_time": "2021-08-10T23:02:59.126Z"
   },
   {
    "duration": 51,
    "start_time": "2021-08-10T23:03:00.530Z"
   },
   {
    "duration": 23,
    "start_time": "2021-08-10T23:03:00.584Z"
   },
   {
    "duration": 46,
    "start_time": "2021-08-10T23:03:00.610Z"
   },
   {
    "duration": 27,
    "start_time": "2021-08-10T23:03:00.659Z"
   },
   {
    "duration": 44,
    "start_time": "2021-08-10T23:03:00.689Z"
   },
   {
    "duration": 4,
    "start_time": "2021-08-10T23:03:00.736Z"
   },
   {
    "duration": 28,
    "start_time": "2021-08-10T23:03:00.756Z"
   },
   {
    "duration": 36,
    "start_time": "2021-08-10T23:03:00.787Z"
   },
   {
    "duration": 15,
    "start_time": "2021-08-10T23:03:00.825Z"
   },
   {
    "duration": 29,
    "start_time": "2021-08-10T23:03:00.842Z"
   },
   {
    "duration": 19,
    "start_time": "2021-08-10T23:03:00.874Z"
   },
   {
    "duration": 24,
    "start_time": "2021-08-10T23:03:00.895Z"
   },
   {
    "duration": 7,
    "start_time": "2021-08-10T23:03:00.921Z"
   },
   {
    "duration": 26,
    "start_time": "2021-08-10T23:03:00.930Z"
   },
   {
    "duration": 16,
    "start_time": "2021-08-10T23:03:00.959Z"
   },
   {
    "duration": 31,
    "start_time": "2021-08-10T23:03:00.978Z"
   },
   {
    "duration": 14,
    "start_time": "2021-08-10T23:03:01.012Z"
   },
   {
    "duration": 6,
    "start_time": "2021-08-10T23:03:01.029Z"
   },
   {
    "duration": 21,
    "start_time": "2021-08-10T23:03:01.037Z"
   },
   {
    "duration": 11,
    "start_time": "2021-08-10T23:03:01.060Z"
   },
   {
    "duration": 36,
    "start_time": "2021-08-10T23:03:01.073Z"
   },
   {
    "duration": 7,
    "start_time": "2021-08-10T23:03:01.114Z"
   },
   {
    "duration": 41,
    "start_time": "2021-08-10T23:03:01.123Z"
   },
   {
    "duration": 24,
    "start_time": "2021-08-10T23:03:01.166Z"
   },
   {
    "duration": 542,
    "start_time": "2021-08-10T23:03:01.193Z"
   },
   {
    "duration": 17,
    "start_time": "2021-08-10T23:03:01.738Z"
   },
   {
    "duration": 19,
    "start_time": "2021-08-10T23:03:01.758Z"
   },
   {
    "duration": 390,
    "start_time": "2021-08-10T23:03:01.779Z"
   },
   {
    "duration": 1380,
    "start_time": "2021-08-10T23:03:58.223Z"
   },
   {
    "duration": 50,
    "start_time": "2021-08-10T23:03:59.605Z"
   },
   {
    "duration": 23,
    "start_time": "2021-08-10T23:03:59.658Z"
   },
   {
    "duration": 23,
    "start_time": "2021-08-10T23:03:59.684Z"
   },
   {
    "duration": 21,
    "start_time": "2021-08-10T23:03:59.710Z"
   },
   {
    "duration": 61,
    "start_time": "2021-08-10T23:03:59.733Z"
   },
   {
    "duration": 5,
    "start_time": "2021-08-10T23:03:59.796Z"
   },
   {
    "duration": 18,
    "start_time": "2021-08-10T23:03:59.805Z"
   },
   {
    "duration": 50,
    "start_time": "2021-08-10T23:03:59.826Z"
   },
   {
    "duration": 7,
    "start_time": "2021-08-10T23:03:59.878Z"
   },
   {
    "duration": 15,
    "start_time": "2021-08-10T23:03:59.887Z"
   },
   {
    "duration": 49,
    "start_time": "2021-08-10T23:03:59.905Z"
   },
   {
    "duration": 12,
    "start_time": "2021-08-10T23:03:59.958Z"
   },
   {
    "duration": 5,
    "start_time": "2021-08-10T23:03:59.973Z"
   },
   {
    "duration": 23,
    "start_time": "2021-08-10T23:03:59.980Z"
   },
   {
    "duration": 34,
    "start_time": "2021-08-10T23:04:00.006Z"
   },
   {
    "duration": 20,
    "start_time": "2021-08-10T23:04:00.042Z"
   },
   {
    "duration": 31,
    "start_time": "2021-08-10T23:04:00.064Z"
   },
   {
    "duration": 24,
    "start_time": "2021-08-10T23:04:00.097Z"
   },
   {
    "duration": 17,
    "start_time": "2021-08-10T23:04:00.123Z"
   },
   {
    "duration": 27,
    "start_time": "2021-08-10T23:04:00.142Z"
   },
   {
    "duration": 32,
    "start_time": "2021-08-10T23:04:00.172Z"
   },
   {
    "duration": 11,
    "start_time": "2021-08-10T23:04:00.209Z"
   },
   {
    "duration": 25,
    "start_time": "2021-08-10T23:04:00.222Z"
   },
   {
    "duration": 22,
    "start_time": "2021-08-10T23:04:00.250Z"
   },
   {
    "duration": 545,
    "start_time": "2021-08-10T23:04:00.274Z"
   },
   {
    "duration": 3,
    "start_time": "2021-08-10T23:04:00.821Z"
   },
   {
    "duration": 33,
    "start_time": "2021-08-10T23:04:00.827Z"
   },
   {
    "duration": 14,
    "start_time": "2021-08-10T23:04:00.862Z"
   },
   {
    "duration": 393,
    "start_time": "2021-08-10T23:04:33.521Z"
   },
   {
    "duration": 289,
    "start_time": "2021-08-10T23:04:45.343Z"
   },
   {
    "duration": 1321,
    "start_time": "2021-08-10T23:05:08.806Z"
   },
   {
    "duration": 49,
    "start_time": "2021-08-10T23:05:10.130Z"
   },
   {
    "duration": 22,
    "start_time": "2021-08-10T23:05:10.182Z"
   },
   {
    "duration": 39,
    "start_time": "2021-08-10T23:05:10.207Z"
   },
   {
    "duration": 40,
    "start_time": "2021-08-10T23:05:10.249Z"
   },
   {
    "duration": 63,
    "start_time": "2021-08-10T23:05:10.292Z"
   },
   {
    "duration": 6,
    "start_time": "2021-08-10T23:05:10.358Z"
   },
   {
    "duration": 32,
    "start_time": "2021-08-10T23:05:10.369Z"
   },
   {
    "duration": 38,
    "start_time": "2021-08-10T23:05:10.405Z"
   },
   {
    "duration": 19,
    "start_time": "2021-08-10T23:05:10.446Z"
   },
   {
    "duration": 35,
    "start_time": "2021-08-10T23:05:10.468Z"
   },
   {
    "duration": 18,
    "start_time": "2021-08-10T23:05:10.506Z"
   },
   {
    "duration": 20,
    "start_time": "2021-08-10T23:05:10.527Z"
   },
   {
    "duration": 18,
    "start_time": "2021-08-10T23:05:10.549Z"
   },
   {
    "duration": 27,
    "start_time": "2021-08-10T23:05:10.569Z"
   },
   {
    "duration": 14,
    "start_time": "2021-08-10T23:05:10.599Z"
   },
   {
    "duration": 28,
    "start_time": "2021-08-10T23:05:10.615Z"
   },
   {
    "duration": 47,
    "start_time": "2021-08-10T23:05:10.645Z"
   },
   {
    "duration": 9,
    "start_time": "2021-08-10T23:05:10.694Z"
   },
   {
    "duration": 30,
    "start_time": "2021-08-10T23:05:10.705Z"
   },
   {
    "duration": 21,
    "start_time": "2021-08-10T23:05:10.738Z"
   },
   {
    "duration": 32,
    "start_time": "2021-08-10T23:05:10.761Z"
   },
   {
    "duration": 8,
    "start_time": "2021-08-10T23:05:10.797Z"
   },
   {
    "duration": 34,
    "start_time": "2021-08-10T23:05:10.807Z"
   },
   {
    "duration": 21,
    "start_time": "2021-08-10T23:05:10.855Z"
   },
   {
    "duration": 536,
    "start_time": "2021-08-10T23:05:10.878Z"
   },
   {
    "duration": 3,
    "start_time": "2021-08-10T23:05:11.417Z"
   },
   {
    "duration": 35,
    "start_time": "2021-08-10T23:05:11.423Z"
   },
   {
    "duration": 23,
    "start_time": "2021-08-10T23:05:11.461Z"
   },
   {
    "duration": 5,
    "start_time": "2021-08-10T23:05:37.321Z"
   },
   {
    "duration": 361,
    "start_time": "2021-08-10T23:05:43.011Z"
   },
   {
    "duration": 3,
    "start_time": "2021-08-10T23:05:56.495Z"
   },
   {
    "duration": 3,
    "start_time": "2021-08-10T23:06:03.234Z"
   },
   {
    "duration": 276,
    "start_time": "2021-08-10T23:06:13.947Z"
   },
   {
    "duration": 1326,
    "start_time": "2021-08-10T23:06:22.789Z"
   },
   {
    "duration": 54,
    "start_time": "2021-08-10T23:06:24.118Z"
   },
   {
    "duration": 35,
    "start_time": "2021-08-10T23:06:24.175Z"
   },
   {
    "duration": 42,
    "start_time": "2021-08-10T23:06:24.213Z"
   },
   {
    "duration": 14,
    "start_time": "2021-08-10T23:06:24.257Z"
   },
   {
    "duration": 41,
    "start_time": "2021-08-10T23:06:24.274Z"
   },
   {
    "duration": 5,
    "start_time": "2021-08-10T23:06:24.317Z"
   },
   {
    "duration": 11,
    "start_time": "2021-08-10T23:06:24.357Z"
   },
   {
    "duration": 23,
    "start_time": "2021-08-10T23:06:24.371Z"
   },
   {
    "duration": 6,
    "start_time": "2021-08-10T23:06:24.397Z"
   },
   {
    "duration": 54,
    "start_time": "2021-08-10T23:06:24.406Z"
   },
   {
    "duration": 13,
    "start_time": "2021-08-10T23:06:24.463Z"
   },
   {
    "duration": 11,
    "start_time": "2021-08-10T23:06:24.479Z"
   },
   {
    "duration": 6,
    "start_time": "2021-08-10T23:06:24.493Z"
   },
   {
    "duration": 53,
    "start_time": "2021-08-10T23:06:24.501Z"
   },
   {
    "duration": 7,
    "start_time": "2021-08-10T23:06:24.557Z"
   },
   {
    "duration": 12,
    "start_time": "2021-08-10T23:06:24.566Z"
   },
   {
    "duration": 10,
    "start_time": "2021-08-10T23:06:24.581Z"
   },
   {
    "duration": 5,
    "start_time": "2021-08-10T23:06:24.594Z"
   },
   {
    "duration": 13,
    "start_time": "2021-08-10T23:06:24.602Z"
   },
   {
    "duration": 7,
    "start_time": "2021-08-10T23:06:24.655Z"
   },
   {
    "duration": 34,
    "start_time": "2021-08-10T23:06:24.664Z"
   },
   {
    "duration": 7,
    "start_time": "2021-08-10T23:06:24.702Z"
   },
   {
    "duration": 44,
    "start_time": "2021-08-10T23:06:24.712Z"
   },
   {
    "duration": 23,
    "start_time": "2021-08-10T23:06:24.759Z"
   },
   {
    "duration": 537,
    "start_time": "2021-08-10T23:06:24.784Z"
   },
   {
    "duration": 2,
    "start_time": "2021-08-10T23:06:25.324Z"
   },
   {
    "duration": 31,
    "start_time": "2021-08-10T23:06:25.329Z"
   },
   {
    "duration": 11,
    "start_time": "2021-08-10T23:06:25.363Z"
   },
   {
    "duration": 7,
    "start_time": "2021-08-10T23:06:25.376Z"
   },
   {
    "duration": 1340,
    "start_time": "2021-08-10T23:06:46.566Z"
   },
   {
    "duration": 49,
    "start_time": "2021-08-10T23:06:47.909Z"
   },
   {
    "duration": 23,
    "start_time": "2021-08-10T23:06:47.961Z"
   },
   {
    "duration": 18,
    "start_time": "2021-08-10T23:06:47.987Z"
   },
   {
    "duration": 20,
    "start_time": "2021-08-10T23:06:48.008Z"
   },
   {
    "duration": 42,
    "start_time": "2021-08-10T23:06:48.055Z"
   },
   {
    "duration": 4,
    "start_time": "2021-08-10T23:06:48.100Z"
   },
   {
    "duration": 19,
    "start_time": "2021-08-10T23:06:48.108Z"
   },
   {
    "duration": 44,
    "start_time": "2021-08-10T23:06:48.131Z"
   },
   {
    "duration": 8,
    "start_time": "2021-08-10T23:06:48.177Z"
   },
   {
    "duration": 19,
    "start_time": "2021-08-10T23:06:48.188Z"
   },
   {
    "duration": 51,
    "start_time": "2021-08-10T23:06:48.210Z"
   },
   {
    "duration": 15,
    "start_time": "2021-08-10T23:06:48.264Z"
   },
   {
    "duration": 7,
    "start_time": "2021-08-10T23:06:48.282Z"
   },
   {
    "duration": 11,
    "start_time": "2021-08-10T23:06:48.292Z"
   },
   {
    "duration": 51,
    "start_time": "2021-08-10T23:06:48.305Z"
   },
   {
    "duration": 12,
    "start_time": "2021-08-10T23:06:48.359Z"
   },
   {
    "duration": 11,
    "start_time": "2021-08-10T23:06:48.374Z"
   },
   {
    "duration": 6,
    "start_time": "2021-08-10T23:06:48.388Z"
   },
   {
    "duration": 14,
    "start_time": "2021-08-10T23:06:48.396Z"
   },
   {
    "duration": 44,
    "start_time": "2021-08-10T23:06:48.412Z"
   },
   {
    "duration": 28,
    "start_time": "2021-08-10T23:06:48.459Z"
   },
   {
    "duration": 7,
    "start_time": "2021-08-10T23:06:48.491Z"
   },
   {
    "duration": 20,
    "start_time": "2021-08-10T23:06:48.500Z"
   },
   {
    "duration": 47,
    "start_time": "2021-08-10T23:06:48.522Z"
   },
   {
    "duration": 558,
    "start_time": "2021-08-10T23:06:48.571Z"
   },
   {
    "duration": 3,
    "start_time": "2021-08-10T23:06:49.131Z"
   },
   {
    "duration": 31,
    "start_time": "2021-08-10T23:06:49.136Z"
   },
   {
    "duration": 16,
    "start_time": "2021-08-10T23:06:49.170Z"
   },
   {
    "duration": 4,
    "start_time": "2021-08-10T23:06:49.189Z"
   },
   {
    "duration": 341,
    "start_time": "2021-08-10T23:07:53.065Z"
   },
   {
    "duration": 306,
    "start_time": "2021-08-10T23:08:45.388Z"
   },
   {
    "duration": 1347,
    "start_time": "2021-08-10T23:14:51.961Z"
   },
   {
    "duration": 50,
    "start_time": "2021-08-10T23:14:53.310Z"
   },
   {
    "duration": 23,
    "start_time": "2021-08-10T23:14:53.363Z"
   },
   {
    "duration": 19,
    "start_time": "2021-08-10T23:14:53.389Z"
   },
   {
    "duration": 47,
    "start_time": "2021-08-10T23:14:53.411Z"
   },
   {
    "duration": 43,
    "start_time": "2021-08-10T23:14:53.461Z"
   },
   {
    "duration": 5,
    "start_time": "2021-08-10T23:14:53.506Z"
   },
   {
    "duration": 44,
    "start_time": "2021-08-10T23:14:53.516Z"
   },
   {
    "duration": 23,
    "start_time": "2021-08-10T23:14:53.564Z"
   },
   {
    "duration": 7,
    "start_time": "2021-08-10T23:14:53.589Z"
   },
   {
    "duration": 14,
    "start_time": "2021-08-10T23:14:53.599Z"
   },
   {
    "duration": 51,
    "start_time": "2021-08-10T23:14:53.615Z"
   },
   {
    "duration": 24,
    "start_time": "2021-08-10T23:14:53.669Z"
   },
   {
    "duration": 7,
    "start_time": "2021-08-10T23:14:53.695Z"
   },
   {
    "duration": 12,
    "start_time": "2021-08-10T23:14:53.704Z"
   },
   {
    "duration": 17,
    "start_time": "2021-08-10T23:14:53.718Z"
   },
   {
    "duration": 33,
    "start_time": "2021-08-10T23:14:53.738Z"
   },
   {
    "duration": 15,
    "start_time": "2021-08-10T23:14:53.774Z"
   },
   {
    "duration": 9,
    "start_time": "2021-08-10T23:14:53.792Z"
   },
   {
    "duration": 14,
    "start_time": "2021-08-10T23:14:53.803Z"
   },
   {
    "duration": 22,
    "start_time": "2021-08-10T23:14:53.819Z"
   },
   {
    "duration": 38,
    "start_time": "2021-08-10T23:14:53.843Z"
   },
   {
    "duration": 7,
    "start_time": "2021-08-10T23:14:53.885Z"
   },
   {
    "duration": 38,
    "start_time": "2021-08-10T23:14:53.894Z"
   },
   {
    "duration": 22,
    "start_time": "2021-08-10T23:14:53.934Z"
   },
   {
    "duration": 555,
    "start_time": "2021-08-10T23:14:53.959Z"
   },
   {
    "duration": 8,
    "start_time": "2021-08-10T23:14:54.517Z"
   },
   {
    "duration": 28,
    "start_time": "2021-08-10T23:14:54.527Z"
   },
   {
    "duration": 313,
    "start_time": "2021-08-10T23:14:54.557Z"
   },
   {
    "duration": 1328,
    "start_time": "2021-08-10T23:55:14.184Z"
   },
   {
    "duration": 50,
    "start_time": "2021-08-10T23:55:15.515Z"
   },
   {
    "duration": 23,
    "start_time": "2021-08-10T23:55:15.569Z"
   },
   {
    "duration": 23,
    "start_time": "2021-08-10T23:55:15.594Z"
   },
   {
    "duration": 41,
    "start_time": "2021-08-10T23:55:15.620Z"
   },
   {
    "duration": 43,
    "start_time": "2021-08-10T23:55:15.664Z"
   },
   {
    "duration": 5,
    "start_time": "2021-08-10T23:55:15.709Z"
   },
   {
    "duration": 41,
    "start_time": "2021-08-10T23:55:15.718Z"
   },
   {
    "duration": 25,
    "start_time": "2021-08-10T23:55:15.763Z"
   },
   {
    "duration": 6,
    "start_time": "2021-08-10T23:55:15.791Z"
   },
   {
    "duration": 19,
    "start_time": "2021-08-10T23:55:15.800Z"
   },
   {
    "duration": 44,
    "start_time": "2021-08-10T23:55:15.821Z"
   },
   {
    "duration": 12,
    "start_time": "2021-08-10T23:55:15.867Z"
   },
   {
    "duration": 5,
    "start_time": "2021-08-10T23:55:15.882Z"
   },
   {
    "duration": 12,
    "start_time": "2021-08-10T23:55:15.890Z"
   },
   {
    "duration": 7,
    "start_time": "2021-08-10T23:55:15.904Z"
   },
   {
    "duration": 9,
    "start_time": "2021-08-10T23:55:15.956Z"
   },
   {
    "duration": 11,
    "start_time": "2021-08-10T23:55:15.968Z"
   },
   {
    "duration": 4,
    "start_time": "2021-08-10T23:55:15.982Z"
   },
   {
    "duration": 14,
    "start_time": "2021-08-10T23:55:15.989Z"
   },
   {
    "duration": 49,
    "start_time": "2021-08-10T23:55:16.006Z"
   },
   {
    "duration": 26,
    "start_time": "2021-08-10T23:55:16.057Z"
   },
   {
    "duration": 7,
    "start_time": "2021-08-10T23:55:16.087Z"
   },
   {
    "duration": 22,
    "start_time": "2021-08-10T23:55:16.097Z"
   },
   {
    "duration": 19,
    "start_time": "2021-08-10T23:55:16.155Z"
   },
   {
    "duration": 559,
    "start_time": "2021-08-10T23:55:16.177Z"
   },
   {
    "duration": 8,
    "start_time": "2021-08-10T23:55:16.738Z"
   },
   {
    "duration": 17,
    "start_time": "2021-08-10T23:55:16.748Z"
   },
   {
    "duration": 313,
    "start_time": "2021-08-10T23:55:16.767Z"
   },
   {
    "duration": 5,
    "start_time": "2021-08-10T23:55:30.390Z"
   },
   {
    "duration": 285,
    "start_time": "2021-08-11T00:01:18.493Z"
   },
   {
    "duration": 37819,
    "start_time": "2021-08-11T00:04:16.428Z"
   },
   {
    "duration": 13,
    "start_time": "2021-08-11T00:05:40.624Z"
   },
   {
    "duration": 21,
    "start_time": "2021-08-11T00:05:54.329Z"
   },
   {
    "duration": 19,
    "start_time": "2021-08-11T00:06:20.120Z"
   },
   {
    "duration": 18,
    "start_time": "2021-08-11T00:06:32.485Z"
   },
   {
    "duration": 16,
    "start_time": "2021-08-11T00:06:38.230Z"
   },
   {
    "duration": 444,
    "start_time": "2021-08-11T00:06:45.734Z"
   },
   {
    "duration": 449,
    "start_time": "2021-08-11T00:06:52.837Z"
   },
   {
    "duration": 291,
    "start_time": "2021-08-11T00:14:34.277Z"
   },
   {
    "duration": 1374,
    "start_time": "2021-08-11T01:22:29.643Z"
   },
   {
    "duration": 52,
    "start_time": "2021-08-11T01:22:31.019Z"
   },
   {
    "duration": 23,
    "start_time": "2021-08-11T01:22:31.074Z"
   },
   {
    "duration": 42,
    "start_time": "2021-08-11T01:22:31.099Z"
   },
   {
    "duration": 27,
    "start_time": "2021-08-11T01:22:31.144Z"
   },
   {
    "duration": 47,
    "start_time": "2021-08-11T01:22:31.174Z"
   },
   {
    "duration": 5,
    "start_time": "2021-08-11T01:22:31.224Z"
   },
   {
    "duration": 34,
    "start_time": "2021-08-11T01:22:31.235Z"
   },
   {
    "duration": 34,
    "start_time": "2021-08-11T01:22:31.274Z"
   },
   {
    "duration": 8,
    "start_time": "2021-08-11T01:22:31.311Z"
   },
   {
    "duration": 50,
    "start_time": "2021-08-11T01:22:31.322Z"
   },
   {
    "duration": 25,
    "start_time": "2021-08-11T01:22:31.375Z"
   },
   {
    "duration": 23,
    "start_time": "2021-08-11T01:22:31.404Z"
   },
   {
    "duration": 26,
    "start_time": "2021-08-11T01:22:31.431Z"
   },
   {
    "duration": 34,
    "start_time": "2021-08-11T01:22:31.460Z"
   },
   {
    "duration": 18,
    "start_time": "2021-08-11T01:22:31.497Z"
   },
   {
    "duration": 21,
    "start_time": "2021-08-11T01:22:31.517Z"
   },
   {
    "duration": 19,
    "start_time": "2021-08-11T01:22:31.540Z"
   },
   {
    "duration": 11,
    "start_time": "2021-08-11T01:22:31.561Z"
   },
   {
    "duration": 27,
    "start_time": "2021-08-11T01:22:31.574Z"
   },
   {
    "duration": 11,
    "start_time": "2021-08-11T01:22:31.604Z"
   },
   {
    "duration": 43,
    "start_time": "2021-08-11T01:22:31.617Z"
   },
   {
    "duration": 10,
    "start_time": "2021-08-11T01:22:31.665Z"
   },
   {
    "duration": 22,
    "start_time": "2021-08-11T01:22:31.678Z"
   },
   {
    "duration": 53,
    "start_time": "2021-08-11T01:22:31.702Z"
   },
   {
    "duration": 543,
    "start_time": "2021-08-11T01:22:31.757Z"
   },
   {
    "duration": 8,
    "start_time": "2021-08-11T01:22:32.302Z"
   },
   {
    "duration": 17,
    "start_time": "2021-08-11T01:22:32.313Z"
   },
   {
    "duration": 311,
    "start_time": "2021-08-11T01:22:32.333Z"
   },
   {
    "duration": 21,
    "start_time": "2021-08-11T01:22:32.648Z"
   },
   {
    "duration": 471,
    "start_time": "2021-08-11T01:22:32.672Z"
   },
   {
    "duration": 8,
    "start_time": "2021-08-11T01:29:58.164Z"
   },
   {
    "duration": 19,
    "start_time": "2021-08-11T01:31:12.766Z"
   },
   {
    "duration": 29,
    "start_time": "2021-08-11T01:35:29.806Z"
   },
   {
    "duration": 802,
    "start_time": "2021-08-11T01:37:31.775Z"
   },
   {
    "duration": 439,
    "start_time": "2021-08-11T01:39:08.302Z"
   },
   {
    "duration": 398,
    "start_time": "2021-08-11T01:39:42.159Z"
   },
   {
    "duration": 461,
    "start_time": "2021-08-11T01:40:09.470Z"
   },
   {
    "duration": 441,
    "start_time": "2021-08-11T01:40:38.840Z"
   },
   {
    "duration": 468,
    "start_time": "2021-08-11T01:40:52.289Z"
   },
   {
    "duration": 10,
    "start_time": "2021-08-11T01:43:04.253Z"
   },
   {
    "duration": 442,
    "start_time": "2021-08-11T01:44:39.037Z"
   },
   {
    "duration": 421,
    "start_time": "2021-08-11T01:45:19.491Z"
   },
   {
    "duration": 385,
    "start_time": "2021-08-11T01:53:25.687Z"
   },
   {
    "duration": 22,
    "start_time": "2021-08-11T01:55:26.259Z"
   },
   {
    "duration": 24,
    "start_time": "2021-08-11T01:56:47.969Z"
   },
   {
    "duration": 36,
    "start_time": "2021-08-11T01:57:27.513Z"
   },
   {
    "duration": 40,
    "start_time": "2021-08-11T02:00:57.236Z"
   },
   {
    "duration": 24,
    "start_time": "2021-08-11T02:03:26.698Z"
   },
   {
    "duration": 49,
    "start_time": "2021-08-11T02:03:36.069Z"
   },
   {
    "duration": 39,
    "start_time": "2021-08-11T02:03:42.180Z"
   },
   {
    "duration": 1331,
    "start_time": "2021-08-11T02:12:31.973Z"
   },
   {
    "duration": 48,
    "start_time": "2021-08-11T02:12:33.307Z"
   },
   {
    "duration": 23,
    "start_time": "2021-08-11T02:12:33.358Z"
   },
   {
    "duration": 37,
    "start_time": "2021-08-11T02:12:33.383Z"
   },
   {
    "duration": 22,
    "start_time": "2021-08-11T02:12:33.422Z"
   },
   {
    "duration": 46,
    "start_time": "2021-08-11T02:12:33.446Z"
   },
   {
    "duration": 5,
    "start_time": "2021-08-11T02:12:33.494Z"
   },
   {
    "duration": 16,
    "start_time": "2021-08-11T02:12:33.503Z"
   },
   {
    "duration": 54,
    "start_time": "2021-08-11T02:12:33.522Z"
   },
   {
    "duration": 6,
    "start_time": "2021-08-11T02:12:33.579Z"
   },
   {
    "duration": 20,
    "start_time": "2021-08-11T02:12:33.587Z"
   },
   {
    "duration": 18,
    "start_time": "2021-08-11T02:12:33.609Z"
   },
   {
    "duration": 33,
    "start_time": "2021-08-11T02:12:33.629Z"
   },
   {
    "duration": 6,
    "start_time": "2021-08-11T02:12:33.664Z"
   },
   {
    "duration": 10,
    "start_time": "2021-08-11T02:12:33.672Z"
   },
   {
    "duration": 14,
    "start_time": "2021-08-11T02:12:33.684Z"
   },
   {
    "duration": 10,
    "start_time": "2021-08-11T02:12:33.701Z"
   },
   {
    "duration": 44,
    "start_time": "2021-08-11T02:12:33.713Z"
   },
   {
    "duration": 6,
    "start_time": "2021-08-11T02:12:33.759Z"
   },
   {
    "duration": 13,
    "start_time": "2021-08-11T02:12:33.767Z"
   },
   {
    "duration": 6,
    "start_time": "2021-08-11T02:12:33.782Z"
   },
   {
    "duration": 63,
    "start_time": "2021-08-11T02:12:33.791Z"
   },
   {
    "duration": 7,
    "start_time": "2021-08-11T02:12:33.860Z"
   },
   {
    "duration": 21,
    "start_time": "2021-08-11T02:12:33.870Z"
   },
   {
    "duration": 19,
    "start_time": "2021-08-11T02:12:33.893Z"
   },
   {
    "duration": 611,
    "start_time": "2021-08-11T02:12:33.914Z"
   },
   {
    "duration": 8,
    "start_time": "2021-08-11T02:12:34.528Z"
   },
   {
    "duration": 7,
    "start_time": "2021-08-11T02:12:34.555Z"
   },
   {
    "duration": 339,
    "start_time": "2021-08-11T02:12:34.564Z"
   },
   {
    "duration": 17,
    "start_time": "2021-08-11T02:12:34.906Z"
   },
   {
    "duration": 625,
    "start_time": "2021-08-11T02:12:34.925Z"
   },
   {
    "duration": 17,
    "start_time": "2021-08-11T02:12:35.555Z"
   },
   {
    "duration": 36,
    "start_time": "2021-08-11T02:12:35.575Z"
   },
   {
    "duration": 483,
    "start_time": "2021-08-11T02:12:35.613Z"
   },
   {
    "duration": 432,
    "start_time": "2021-08-11T02:12:36.099Z"
   },
   {
    "duration": 454,
    "start_time": "2021-08-11T02:12:36.534Z"
   },
   {
    "duration": 496,
    "start_time": "2021-08-11T02:12:36.991Z"
   },
   {
    "duration": 453,
    "start_time": "2021-08-11T02:12:37.489Z"
   },
   {
    "duration": 49,
    "start_time": "2021-08-11T02:12:37.944Z"
   },
   {
    "duration": 1284,
    "start_time": "2021-08-11T02:12:37.997Z"
   },
   {
    "duration": 1166,
    "start_time": "2021-08-11T02:13:09.626Z"
   },
   {
    "duration": 1243,
    "start_time": "2021-08-11T02:13:27.570Z"
   },
   {
    "duration": 1352,
    "start_time": "2021-08-11T02:13:38.394Z"
   },
   {
    "duration": 1219,
    "start_time": "2021-08-11T02:13:52.539Z"
   },
   {
    "duration": 392,
    "start_time": "2021-08-11T02:14:31.261Z"
   },
   {
    "duration": 1196,
    "start_time": "2021-08-11T02:15:31.416Z"
   },
   {
    "duration": 1322,
    "start_time": "2021-08-11T02:15:51.988Z"
   },
   {
    "duration": 1416,
    "start_time": "2021-08-11T02:16:09.179Z"
   },
   {
    "duration": 3,
    "start_time": "2021-08-11T02:18:11.911Z"
   },
   {
    "duration": 27,
    "start_time": "2021-08-11T02:18:20.208Z"
   },
   {
    "duration": 29,
    "start_time": "2021-08-11T02:18:41.872Z"
   },
   {
    "duration": 40,
    "start_time": "2021-08-11T02:18:51.489Z"
   },
   {
    "duration": 6439,
    "start_time": "2021-08-11T02:19:28.656Z"
   },
   {
    "duration": 28,
    "start_time": "2021-08-11T02:20:56.356Z"
   },
   {
    "duration": 528,
    "start_time": "2021-08-11T02:21:41.641Z"
   },
   {
    "duration": 6450,
    "start_time": "2021-08-11T02:22:55.347Z"
   },
   {
    "duration": 520,
    "start_time": "2021-08-11T02:23:08.671Z"
   },
   {
    "duration": 39,
    "start_time": "2021-08-11T02:27:06.664Z"
   },
   {
    "duration": 2843,
    "start_time": "2021-08-11T02:27:21.633Z"
   },
   {
    "duration": 2689,
    "start_time": "2021-08-11T02:28:05.782Z"
   },
   {
    "duration": 2613,
    "start_time": "2021-08-11T02:28:14.524Z"
   },
   {
    "duration": 2444,
    "start_time": "2021-08-11T02:28:55.794Z"
   },
   {
    "duration": 2746,
    "start_time": "2021-08-11T02:30:00.270Z"
   },
   {
    "duration": 1053,
    "start_time": "2021-08-11T02:33:38.173Z"
   },
   {
    "duration": 1687,
    "start_time": "2021-08-11T02:33:56.271Z"
   },
   {
    "duration": 2776,
    "start_time": "2021-08-11T02:34:07.884Z"
   },
   {
    "duration": 2521,
    "start_time": "2021-08-11T02:34:18.160Z"
   },
   {
    "duration": 2950,
    "start_time": "2021-08-11T02:35:52.882Z"
   },
   {
    "duration": 2500,
    "start_time": "2021-08-11T02:37:00.302Z"
   },
   {
    "duration": 2686,
    "start_time": "2021-08-11T02:37:31.278Z"
   },
   {
    "duration": 2736,
    "start_time": "2021-08-11T02:37:47.545Z"
   },
   {
    "duration": 3091,
    "start_time": "2021-08-11T02:39:22.963Z"
   },
   {
    "duration": 3062,
    "start_time": "2021-08-11T02:42:59.357Z"
   },
   {
    "duration": 94,
    "start_time": "2021-08-11T02:43:11.347Z"
   },
   {
    "duration": 3202,
    "start_time": "2021-08-11T02:43:15.914Z"
   },
   {
    "duration": 3023,
    "start_time": "2021-08-11T02:43:31.455Z"
   },
   {
    "duration": 34,
    "start_time": "2021-08-11T02:58:19.402Z"
   },
   {
    "duration": 33,
    "start_time": "2021-08-11T02:59:36.190Z"
   },
   {
    "duration": 3092,
    "start_time": "2021-08-11T03:02:25.346Z"
   },
   {
    "duration": 12,
    "start_time": "2021-08-11T03:10:13.616Z"
   },
   {
    "duration": 19,
    "start_time": "2021-08-11T03:10:25.097Z"
   },
   {
    "duration": 19,
    "start_time": "2021-08-11T03:12:16.222Z"
   },
   {
    "duration": 20,
    "start_time": "2021-08-11T03:12:36.578Z"
   },
   {
    "duration": 18,
    "start_time": "2021-08-11T03:14:18.789Z"
   },
   {
    "duration": 491,
    "start_time": "2021-08-11T03:14:20.844Z"
   },
   {
    "duration": 16,
    "start_time": "2021-08-11T03:15:07.741Z"
   },
   {
    "duration": 756,
    "start_time": "2021-08-11T03:15:08.774Z"
   },
   {
    "duration": 18,
    "start_time": "2021-08-11T03:15:16.906Z"
   },
   {
    "duration": 492,
    "start_time": "2021-08-11T03:15:18.122Z"
   },
   {
    "duration": 17,
    "start_time": "2021-08-11T03:15:25.202Z"
   },
   {
    "duration": 471,
    "start_time": "2021-08-11T03:15:26.594Z"
   },
   {
    "duration": 21,
    "start_time": "2021-08-11T03:16:15.192Z"
   },
   {
    "duration": 22,
    "start_time": "2021-08-11T03:16:24.919Z"
   },
   {
    "duration": 19,
    "start_time": "2021-08-11T03:16:32.688Z"
   },
   {
    "duration": 6,
    "start_time": "2021-08-11T03:18:33.552Z"
   },
   {
    "duration": 16,
    "start_time": "2021-08-11T03:24:57.120Z"
   },
   {
    "duration": 13,
    "start_time": "2021-08-11T03:25:28.409Z"
   },
   {
    "duration": 9,
    "start_time": "2021-08-11T03:26:47.558Z"
   },
   {
    "duration": 260,
    "start_time": "2021-08-11T03:33:18.398Z"
   },
   {
    "duration": 17,
    "start_time": "2021-08-11T03:33:26.236Z"
   },
   {
    "duration": 260,
    "start_time": "2021-08-11T03:35:44.236Z"
   },
   {
    "duration": 19,
    "start_time": "2021-08-11T03:35:59.130Z"
   },
   {
    "duration": 1354,
    "start_time": "2021-08-11T03:36:10.861Z"
   },
   {
    "duration": 50,
    "start_time": "2021-08-11T03:36:12.218Z"
   },
   {
    "duration": 23,
    "start_time": "2021-08-11T03:36:12.271Z"
   },
   {
    "duration": 36,
    "start_time": "2021-08-11T03:36:12.297Z"
   },
   {
    "duration": 28,
    "start_time": "2021-08-11T03:36:12.335Z"
   },
   {
    "duration": 58,
    "start_time": "2021-08-11T03:36:12.365Z"
   },
   {
    "duration": 5,
    "start_time": "2021-08-11T03:36:12.425Z"
   },
   {
    "duration": 26,
    "start_time": "2021-08-11T03:36:12.434Z"
   },
   {
    "duration": 36,
    "start_time": "2021-08-11T03:36:12.463Z"
   },
   {
    "duration": 6,
    "start_time": "2021-08-11T03:36:12.501Z"
   },
   {
    "duration": 43,
    "start_time": "2021-08-11T03:36:12.509Z"
   },
   {
    "duration": 27,
    "start_time": "2021-08-11T03:36:12.555Z"
   },
   {
    "duration": 29,
    "start_time": "2021-08-11T03:36:12.584Z"
   },
   {
    "duration": 28,
    "start_time": "2021-08-11T03:36:12.615Z"
   },
   {
    "duration": 31,
    "start_time": "2021-08-11T03:36:12.645Z"
   },
   {
    "duration": 29,
    "start_time": "2021-08-11T03:36:12.679Z"
   },
   {
    "duration": 37,
    "start_time": "2021-08-11T03:36:12.710Z"
   },
   {
    "duration": 31,
    "start_time": "2021-08-11T03:36:12.749Z"
   },
   {
    "duration": 20,
    "start_time": "2021-08-11T03:36:12.783Z"
   },
   {
    "duration": 41,
    "start_time": "2021-08-11T03:36:12.805Z"
   },
   {
    "duration": 33,
    "start_time": "2021-08-11T03:36:12.848Z"
   },
   {
    "duration": 54,
    "start_time": "2021-08-11T03:36:12.883Z"
   },
   {
    "duration": 16,
    "start_time": "2021-08-11T03:36:12.942Z"
   },
   {
    "duration": 32,
    "start_time": "2021-08-11T03:36:12.961Z"
   },
   {
    "duration": 40,
    "start_time": "2021-08-11T03:36:12.996Z"
   },
   {
    "duration": 545,
    "start_time": "2021-08-11T03:36:13.039Z"
   },
   {
    "duration": 8,
    "start_time": "2021-08-11T03:36:13.587Z"
   },
   {
    "duration": 35,
    "start_time": "2021-08-11T03:36:13.597Z"
   },
   {
    "duration": 299,
    "start_time": "2021-08-11T03:36:13.635Z"
   },
   {
    "duration": 26,
    "start_time": "2021-08-11T03:36:13.936Z"
   },
   {
    "duration": 472,
    "start_time": "2021-08-11T03:36:13.965Z"
   },
   {
    "duration": 44,
    "start_time": "2021-08-11T03:36:14.439Z"
   },
   {
    "duration": 3075,
    "start_time": "2021-08-11T03:36:14.486Z"
   },
   {
    "duration": 19,
    "start_time": "2021-08-11T03:36:17.563Z"
   },
   {
    "duration": 26,
    "start_time": "2021-08-11T03:36:17.585Z"
   },
   {
    "duration": 547,
    "start_time": "2021-08-11T03:36:17.614Z"
   },
   {
    "duration": 16,
    "start_time": "2021-08-11T03:36:43.845Z"
   },
   {
    "duration": 559,
    "start_time": "2021-08-11T03:36:44.932Z"
   },
   {
    "duration": 1007,
    "start_time": "2021-08-11T03:37:21.729Z"
   },
   {
    "duration": 775,
    "start_time": "2021-08-11T03:37:47.563Z"
   },
   {
    "duration": 549,
    "start_time": "2021-08-11T03:38:51.461Z"
   },
   {
    "duration": 544,
    "start_time": "2021-08-11T03:38:57.043Z"
   },
   {
    "duration": 16,
    "start_time": "2021-08-11T03:39:08.693Z"
   },
   {
    "duration": 551,
    "start_time": "2021-08-11T03:39:09.459Z"
   },
   {
    "duration": 558,
    "start_time": "2021-08-11T03:39:21.256Z"
   },
   {
    "duration": 543,
    "start_time": "2021-08-11T03:39:27.730Z"
   },
   {
    "duration": 66,
    "start_time": "2021-08-11T03:45:40.650Z"
   },
   {
    "duration": 23,
    "start_time": "2021-08-11T03:46:32.634Z"
   },
   {
    "duration": 84,
    "start_time": "2021-08-11T03:46:43.061Z"
   },
   {
    "duration": 55,
    "start_time": "2021-08-11T03:47:02.921Z"
   },
   {
    "duration": 35,
    "start_time": "2021-08-11T03:47:47.645Z"
   },
   {
    "duration": 50,
    "start_time": "2021-08-11T03:47:51.620Z"
   },
   {
    "duration": 53,
    "start_time": "2021-08-11T03:52:25.421Z"
   },
   {
    "duration": 570,
    "start_time": "2021-08-11T04:01:53.392Z"
   },
   {
    "duration": 540,
    "start_time": "2021-08-11T04:01:58.553Z"
   },
   {
    "duration": 573,
    "start_time": "2021-08-11T04:02:04.520Z"
   },
   {
    "duration": 475,
    "start_time": "2021-08-11T04:02:26.394Z"
   },
   {
    "duration": 1858,
    "start_time": "2021-08-11T17:00:03.731Z"
   },
   {
    "duration": 64,
    "start_time": "2021-08-11T17:00:05.592Z"
   },
   {
    "duration": 35,
    "start_time": "2021-08-11T17:00:05.660Z"
   },
   {
    "duration": 26,
    "start_time": "2021-08-11T17:00:05.699Z"
   },
   {
    "duration": 49,
    "start_time": "2021-08-11T17:00:05.728Z"
   },
   {
    "duration": 61,
    "start_time": "2021-08-11T17:00:05.780Z"
   },
   {
    "duration": 27,
    "start_time": "2021-08-11T17:00:05.844Z"
   },
   {
    "duration": 13,
    "start_time": "2021-08-11T17:00:05.875Z"
   },
   {
    "duration": 23,
    "start_time": "2021-08-11T17:00:05.891Z"
   },
   {
    "duration": 5,
    "start_time": "2021-08-11T17:00:05.917Z"
   },
   {
    "duration": 66,
    "start_time": "2021-08-11T17:00:05.924Z"
   },
   {
    "duration": 13,
    "start_time": "2021-08-11T17:00:05.992Z"
   },
   {
    "duration": 14,
    "start_time": "2021-08-11T17:00:06.007Z"
   },
   {
    "duration": 6,
    "start_time": "2021-08-11T17:00:06.024Z"
   },
   {
    "duration": 42,
    "start_time": "2021-08-11T17:00:06.032Z"
   },
   {
    "duration": 9,
    "start_time": "2021-08-11T17:00:06.077Z"
   },
   {
    "duration": 11,
    "start_time": "2021-08-11T17:00:06.089Z"
   },
   {
    "duration": 11,
    "start_time": "2021-08-11T17:00:06.102Z"
   },
   {
    "duration": 5,
    "start_time": "2021-08-11T17:00:06.116Z"
   },
   {
    "duration": 54,
    "start_time": "2021-08-11T17:00:06.123Z"
   },
   {
    "duration": 8,
    "start_time": "2021-08-11T17:00:06.180Z"
   },
   {
    "duration": 27,
    "start_time": "2021-08-11T17:00:06.190Z"
   },
   {
    "duration": 45,
    "start_time": "2021-08-11T17:00:06.222Z"
   },
   {
    "duration": 20,
    "start_time": "2021-08-11T17:00:06.270Z"
   },
   {
    "duration": 24,
    "start_time": "2021-08-11T17:00:06.292Z"
   },
   {
    "duration": 585,
    "start_time": "2021-08-11T17:00:06.318Z"
   },
   {
    "duration": 8,
    "start_time": "2021-08-11T17:00:06.905Z"
   },
   {
    "duration": 11,
    "start_time": "2021-08-11T17:00:06.915Z"
   },
   {
    "duration": 320,
    "start_time": "2021-08-11T17:00:06.928Z"
   },
   {
    "duration": 25,
    "start_time": "2021-08-11T17:00:07.251Z"
   },
   {
    "duration": 488,
    "start_time": "2021-08-11T17:00:07.279Z"
   },
   {
    "duration": 36,
    "start_time": "2021-08-11T17:00:07.769Z"
   },
   {
    "duration": 3118,
    "start_time": "2021-08-11T17:00:07.808Z"
   },
   {
    "duration": 18,
    "start_time": "2021-08-11T17:00:10.928Z"
   },
   {
    "duration": 33,
    "start_time": "2021-08-11T17:00:10.948Z"
   },
   {
    "duration": 58,
    "start_time": "2021-08-11T17:00:10.984Z"
   },
   {
    "duration": 636,
    "start_time": "2021-08-11T17:00:11.044Z"
   },
   {
    "duration": 13,
    "start_time": "2021-08-11T17:16:07.365Z"
   },
   {
    "duration": 13,
    "start_time": "2021-08-11T17:16:12.928Z"
   },
   {
    "duration": 20,
    "start_time": "2021-08-11T17:17:11.715Z"
   },
   {
    "duration": 19,
    "start_time": "2021-08-11T17:17:50.461Z"
   },
   {
    "duration": 20,
    "start_time": "2021-08-11T17:17:56.704Z"
   },
   {
    "duration": 32,
    "start_time": "2021-08-11T17:20:58.154Z"
   },
   {
    "duration": 87,
    "start_time": "2021-08-11T17:24:58.595Z"
   },
   {
    "duration": 53,
    "start_time": "2021-08-11T17:25:45.946Z"
   },
   {
    "duration": 378,
    "start_time": "2021-08-11T17:27:25.354Z"
   },
   {
    "duration": 152,
    "start_time": "2021-08-11T17:27:47.403Z"
   },
   {
    "duration": 612,
    "start_time": "2021-08-11T17:27:50.751Z"
   },
   {
    "duration": 1227,
    "start_time": "2021-08-11T17:28:21.134Z"
   },
   {
    "duration": 12,
    "start_time": "2021-08-11T17:29:18.949Z"
   },
   {
    "duration": 3151,
    "start_time": "2021-08-11T17:29:37.464Z"
   },
   {
    "duration": 1213,
    "start_time": "2021-08-11T17:29:47.225Z"
   },
   {
    "duration": 264,
    "start_time": "2021-08-11T17:30:41.835Z"
   },
   {
    "duration": 222,
    "start_time": "2021-08-11T17:30:49.585Z"
   },
   {
    "duration": 1153,
    "start_time": "2021-08-11T17:30:55.441Z"
   },
   {
    "duration": 6001,
    "start_time": "2021-08-11T17:33:48.948Z"
   },
   {
    "duration": 7,
    "start_time": "2021-08-11T17:34:04.098Z"
   },
   {
    "duration": 34,
    "start_time": "2021-08-11T17:34:08.276Z"
   },
   {
    "duration": 7,
    "start_time": "2021-08-11T17:34:13.258Z"
   },
   {
    "duration": 17,
    "start_time": "2021-08-11T17:34:22.731Z"
   },
   {
    "duration": 18,
    "start_time": "2021-08-11T17:34:42.794Z"
   },
   {
    "duration": 48,
    "start_time": "2021-08-11T17:35:12.407Z"
   },
   {
    "duration": 645,
    "start_time": "2021-08-11T17:35:17.003Z"
   },
   {
    "duration": 666,
    "start_time": "2021-08-11T17:36:15.789Z"
   },
   {
    "duration": 655,
    "start_time": "2021-08-11T17:37:24.778Z"
   },
   {
    "duration": 479,
    "start_time": "2021-08-11T17:37:59.005Z"
   },
   {
    "duration": 1218,
    "start_time": "2021-08-11T17:38:29.956Z"
   },
   {
    "duration": 608,
    "start_time": "2021-08-11T17:38:37.928Z"
   },
   {
    "duration": 581,
    "start_time": "2021-08-11T17:41:24.505Z"
   },
   {
    "duration": 702,
    "start_time": "2021-08-11T17:41:28.086Z"
   },
   {
    "duration": 618,
    "start_time": "2021-08-11T17:41:43.511Z"
   },
   {
    "duration": 623,
    "start_time": "2021-08-11T17:42:06.246Z"
   },
   {
    "duration": 5,
    "start_time": "2021-08-11T17:42:15.043Z"
   },
   {
    "duration": 634,
    "start_time": "2021-08-11T17:42:20.281Z"
   },
   {
    "duration": 704,
    "start_time": "2021-08-11T17:42:30.517Z"
   },
   {
    "duration": 706,
    "start_time": "2021-08-11T17:42:40.889Z"
   },
   {
    "duration": 783,
    "start_time": "2021-08-11T17:42:46.345Z"
   },
   {
    "duration": 955,
    "start_time": "2021-08-11T17:44:21.393Z"
   },
   {
    "duration": 993,
    "start_time": "2021-08-11T17:44:31.809Z"
   },
   {
    "duration": 734,
    "start_time": "2021-08-11T17:44:46.413Z"
   },
   {
    "duration": 33,
    "start_time": "2021-08-11T18:08:01.086Z"
   },
   {
    "duration": 19,
    "start_time": "2021-08-11T18:08:28.063Z"
   },
   {
    "duration": 18,
    "start_time": "2021-08-11T18:08:29.641Z"
   },
   {
    "duration": 42,
    "start_time": "2021-08-11T18:08:32.316Z"
   },
   {
    "duration": 835,
    "start_time": "2021-08-11T18:08:34.217Z"
   },
   {
    "duration": 33,
    "start_time": "2021-08-11T18:08:39.681Z"
   },
   {
    "duration": 21,
    "start_time": "2021-08-11T18:10:57.580Z"
   },
   {
    "duration": 22,
    "start_time": "2021-08-11T18:12:47.467Z"
   },
   {
    "duration": 513,
    "start_time": "2021-08-11T18:15:18.223Z"
   },
   {
    "duration": 249,
    "start_time": "2021-08-11T18:15:32.660Z"
   },
   {
    "duration": 306,
    "start_time": "2021-08-11T18:20:02.563Z"
   },
   {
    "duration": 16,
    "start_time": "2021-08-11T18:27:15.950Z"
   },
   {
    "duration": 235,
    "start_time": "2021-08-11T18:27:20.019Z"
   },
   {
    "duration": 232,
    "start_time": "2021-08-11T18:27:46.992Z"
   },
   {
    "duration": 31,
    "start_time": "2021-08-11T18:28:25.397Z"
   },
   {
    "duration": 658,
    "start_time": "2021-08-11T18:28:35.732Z"
   },
   {
    "duration": 668,
    "start_time": "2021-08-11T18:29:09.544Z"
   },
   {
    "duration": 817,
    "start_time": "2021-08-11T18:29:26.382Z"
   },
   {
    "duration": 17,
    "start_time": "2021-08-11T18:30:13.125Z"
   },
   {
    "duration": 127,
    "start_time": "2021-08-11T18:30:28.150Z"
   },
   {
    "duration": 18,
    "start_time": "2021-08-11T18:30:43.832Z"
   },
   {
    "duration": 268,
    "start_time": "2021-08-11T18:30:53.392Z"
   },
   {
    "duration": 265,
    "start_time": "2021-08-11T18:31:03.844Z"
   },
   {
    "duration": 274,
    "start_time": "2021-08-11T18:31:18.768Z"
   },
   {
    "duration": 16,
    "start_time": "2021-08-11T18:32:47.361Z"
   },
   {
    "duration": 225,
    "start_time": "2021-08-11T18:33:31.194Z"
   },
   {
    "duration": 18,
    "start_time": "2021-08-11T18:34:34.889Z"
   },
   {
    "duration": 673,
    "start_time": "2021-08-11T18:34:37.501Z"
   },
   {
    "duration": 528,
    "start_time": "2021-08-11T18:35:13.482Z"
   },
   {
    "duration": 684,
    "start_time": "2021-08-11T18:35:21.752Z"
   },
   {
    "duration": 1081,
    "start_time": "2021-08-11T18:36:20.420Z"
   },
   {
    "duration": 823,
    "start_time": "2021-08-11T18:36:26.587Z"
   },
   {
    "duration": 752,
    "start_time": "2021-08-11T18:37:10.160Z"
   },
   {
    "duration": 1368,
    "start_time": "2021-08-11T18:37:29.946Z"
   },
   {
    "duration": 21,
    "start_time": "2021-08-11T18:38:07.937Z"
   },
   {
    "duration": 17,
    "start_time": "2021-08-11T18:38:14.728Z"
   },
   {
    "duration": 847,
    "start_time": "2021-08-11T18:38:28.745Z"
   },
   {
    "duration": 773,
    "start_time": "2021-08-11T18:38:40.609Z"
   },
   {
    "duration": 87,
    "start_time": "2021-08-11T18:39:57.208Z"
   },
   {
    "duration": 783,
    "start_time": "2021-08-11T18:40:00.826Z"
   },
   {
    "duration": 19,
    "start_time": "2021-08-11T18:40:58.374Z"
   },
   {
    "duration": 964,
    "start_time": "2021-08-11T18:40:59.505Z"
   },
   {
    "duration": 14,
    "start_time": "2021-08-11T18:41:17.459Z"
   },
   {
    "duration": 21,
    "start_time": "2021-08-11T18:41:31.256Z"
   },
   {
    "duration": 243,
    "start_time": "2021-08-11T18:42:02.244Z"
   },
   {
    "duration": 212,
    "start_time": "2021-08-11T18:42:08.412Z"
   },
   {
    "duration": 227,
    "start_time": "2021-08-11T18:42:18.708Z"
   },
   {
    "duration": 19,
    "start_time": "2021-08-11T18:43:39.678Z"
   },
   {
    "duration": 18,
    "start_time": "2021-08-11T18:43:51.875Z"
   },
   {
    "duration": 1245,
    "start_time": "2021-08-11T18:43:55.564Z"
   },
   {
    "duration": 237,
    "start_time": "2021-08-11T18:44:14.161Z"
   },
   {
    "duration": 18,
    "start_time": "2021-08-11T18:44:20.478Z"
   },
   {
    "duration": 766,
    "start_time": "2021-08-11T18:44:21.513Z"
   },
   {
    "duration": 721,
    "start_time": "2021-08-11T18:46:59.100Z"
   },
   {
    "duration": 45,
    "start_time": "2021-08-11T18:56:14.625Z"
   },
   {
    "duration": 21,
    "start_time": "2021-08-11T18:58:14.416Z"
   },
   {
    "duration": 46,
    "start_time": "2021-08-11T18:58:18.778Z"
   },
   {
    "duration": 41,
    "start_time": "2021-08-11T18:58:28.888Z"
   },
   {
    "duration": 299,
    "start_time": "2021-08-11T18:59:45.790Z"
   },
   {
    "duration": 296,
    "start_time": "2021-08-11T19:00:05.207Z"
   },
   {
    "duration": 45,
    "start_time": "2021-08-11T19:00:17.170Z"
   },
   {
    "duration": 47,
    "start_time": "2021-08-11T19:00:25.112Z"
   },
   {
    "duration": 40,
    "start_time": "2021-08-11T19:00:58.888Z"
   },
   {
    "duration": 24,
    "start_time": "2021-08-11T19:01:09.909Z"
   },
   {
    "duration": 267,
    "start_time": "2021-08-11T19:01:39.513Z"
   },
   {
    "duration": 275,
    "start_time": "2021-08-11T19:01:45.877Z"
   },
   {
    "duration": 37,
    "start_time": "2021-08-11T19:02:08.076Z"
   },
   {
    "duration": 4216,
    "start_time": "2021-08-11T19:02:56.088Z"
   },
   {
    "duration": 38,
    "start_time": "2021-08-11T19:03:06.106Z"
   },
   {
    "duration": 26,
    "start_time": "2021-08-11T19:03:52.908Z"
   },
   {
    "duration": 42,
    "start_time": "2021-08-11T19:03:57.651Z"
   },
   {
    "duration": 42,
    "start_time": "2021-08-11T19:04:34.626Z"
   },
   {
    "duration": 40,
    "start_time": "2021-08-11T19:04:51.737Z"
   },
   {
    "duration": 203,
    "start_time": "2021-08-11T19:05:14.374Z"
   },
   {
    "duration": 42,
    "start_time": "2021-08-11T19:06:54.868Z"
   },
   {
    "duration": 724,
    "start_time": "2021-08-11T19:06:58.568Z"
   },
   {
    "duration": 273,
    "start_time": "2021-08-11T19:07:14.820Z"
   },
   {
    "duration": 449,
    "start_time": "2021-08-11T19:07:19.645Z"
   },
   {
    "duration": 213,
    "start_time": "2021-08-11T19:07:25.671Z"
   },
   {
    "duration": 468,
    "start_time": "2021-08-11T19:07:31.956Z"
   },
   {
    "duration": 291,
    "start_time": "2021-08-11T19:08:20.279Z"
   },
   {
    "duration": 204,
    "start_time": "2021-08-11T19:08:39.677Z"
   },
   {
    "duration": 249,
    "start_time": "2021-08-11T19:08:43.009Z"
   },
   {
    "duration": 580,
    "start_time": "2021-08-11T19:08:59.852Z"
   },
   {
    "duration": 361,
    "start_time": "2021-08-11T19:09:22.086Z"
   },
   {
    "duration": 407,
    "start_time": "2021-08-11T19:09:37.874Z"
   },
   {
    "duration": 43,
    "start_time": "2021-08-11T19:10:18.556Z"
   },
   {
    "duration": 399,
    "start_time": "2021-08-11T19:10:20.337Z"
   },
   {
    "duration": 392,
    "start_time": "2021-08-11T19:10:33.319Z"
   },
   {
    "duration": 1482,
    "start_time": "2021-08-11T20:12:49.847Z"
   },
   {
    "duration": 51,
    "start_time": "2021-08-11T20:12:51.332Z"
   },
   {
    "duration": 22,
    "start_time": "2021-08-11T20:12:51.386Z"
   },
   {
    "duration": 27,
    "start_time": "2021-08-11T20:12:51.411Z"
   },
   {
    "duration": 35,
    "start_time": "2021-08-11T20:12:51.441Z"
   },
   {
    "duration": 43,
    "start_time": "2021-08-11T20:12:51.478Z"
   },
   {
    "duration": 4,
    "start_time": "2021-08-11T20:12:51.524Z"
   },
   {
    "duration": 41,
    "start_time": "2021-08-11T20:12:51.532Z"
   },
   {
    "duration": 24,
    "start_time": "2021-08-11T20:12:51.576Z"
   },
   {
    "duration": 6,
    "start_time": "2021-08-11T20:12:51.602Z"
   },
   {
    "duration": 14,
    "start_time": "2021-08-11T20:12:51.611Z"
   },
   {
    "duration": 14,
    "start_time": "2021-08-11T20:12:51.668Z"
   },
   {
    "duration": 13,
    "start_time": "2021-08-11T20:12:51.684Z"
   },
   {
    "duration": 7,
    "start_time": "2021-08-11T20:12:51.699Z"
   },
   {
    "duration": 12,
    "start_time": "2021-08-11T20:12:51.709Z"
   },
   {
    "duration": 8,
    "start_time": "2021-08-11T20:12:51.723Z"
   },
   {
    "duration": 9,
    "start_time": "2021-08-11T20:12:51.768Z"
   },
   {
    "duration": 11,
    "start_time": "2021-08-11T20:12:51.779Z"
   },
   {
    "duration": 8,
    "start_time": "2021-08-11T20:12:51.793Z"
   },
   {
    "duration": 18,
    "start_time": "2021-08-11T20:12:51.804Z"
   },
   {
    "duration": 48,
    "start_time": "2021-08-11T20:12:51.824Z"
   },
   {
    "duration": 29,
    "start_time": "2021-08-11T20:12:51.875Z"
   },
   {
    "duration": 7,
    "start_time": "2021-08-11T20:12:51.908Z"
   },
   {
    "duration": 55,
    "start_time": "2021-08-11T20:12:51.918Z"
   },
   {
    "duration": 20,
    "start_time": "2021-08-11T20:12:51.976Z"
   },
   {
    "duration": 551,
    "start_time": "2021-08-11T20:12:51.998Z"
   },
   {
    "duration": 17,
    "start_time": "2021-08-11T20:12:52.551Z"
   },
   {
    "duration": 9,
    "start_time": "2021-08-11T20:12:52.571Z"
   },
   {
    "duration": 310,
    "start_time": "2021-08-11T20:12:52.582Z"
   },
   {
    "duration": 16,
    "start_time": "2021-08-11T20:12:52.894Z"
   },
   {
    "duration": 468,
    "start_time": "2021-08-11T20:12:52.913Z"
   },
   {
    "duration": 35,
    "start_time": "2021-08-11T20:12:53.384Z"
   },
   {
    "duration": 2944,
    "start_time": "2021-08-11T20:12:53.422Z"
   },
   {
    "duration": 17,
    "start_time": "2021-08-11T20:12:56.368Z"
   },
   {
    "duration": 17,
    "start_time": "2021-08-11T20:12:56.388Z"
   },
   {
    "duration": 83,
    "start_time": "2021-08-11T20:12:56.407Z"
   },
   {
    "duration": 516,
    "start_time": "2021-08-11T20:12:56.493Z"
   },
   {
    "duration": 8,
    "start_time": "2021-08-11T20:12:57.012Z"
   },
   {
    "duration": 18,
    "start_time": "2021-08-11T20:12:57.022Z"
   },
   {
    "duration": 42,
    "start_time": "2021-08-11T20:12:57.067Z"
   },
   {
    "duration": 691,
    "start_time": "2021-08-11T20:12:57.112Z"
   },
   {
    "duration": 16,
    "start_time": "2021-08-11T20:12:57.806Z"
   },
   {
    "duration": 779,
    "start_time": "2021-08-11T20:12:57.825Z"
   },
   {
    "duration": 39,
    "start_time": "2021-08-11T20:12:58.606Z"
   },
   {
    "duration": 418,
    "start_time": "2021-08-11T20:12:58.648Z"
   },
   {
    "duration": 695,
    "start_time": "2021-08-11T20:13:18.839Z"
   },
   {
    "duration": 732,
    "start_time": "2021-08-11T20:13:27.153Z"
   },
   {
    "duration": 7,
    "start_time": "2021-08-11T20:30:52.091Z"
   },
   {
    "duration": 38,
    "start_time": "2021-08-11T20:30:57.714Z"
   },
   {
    "duration": 40,
    "start_time": "2021-08-11T20:31:18.062Z"
   },
   {
    "duration": 35,
    "start_time": "2021-08-11T20:31:23.832Z"
   },
   {
    "duration": 151,
    "start_time": "2021-08-11T20:31:42.103Z"
   },
   {
    "duration": 23,
    "start_time": "2021-08-11T20:31:46.352Z"
   },
   {
    "duration": 23,
    "start_time": "2021-08-11T20:34:35.299Z"
   },
   {
    "duration": 485,
    "start_time": "2021-08-11T20:36:36.985Z"
   },
   {
    "duration": 966,
    "start_time": "2021-08-11T20:37:56.428Z"
   },
   {
    "duration": 998,
    "start_time": "2021-08-11T20:38:08.589Z"
   },
   {
    "duration": 1047,
    "start_time": "2021-08-11T20:38:34.037Z"
   },
   {
    "duration": 8,
    "start_time": "2021-08-11T20:39:55.696Z"
   },
   {
    "duration": 86,
    "start_time": "2021-08-11T20:40:39.761Z"
   },
   {
    "duration": 6,
    "start_time": "2021-08-11T20:40:51.837Z"
   },
   {
    "duration": 6,
    "start_time": "2021-08-11T20:41:00.700Z"
   },
   {
    "duration": 8,
    "start_time": "2021-08-11T20:41:18.324Z"
   },
   {
    "duration": 778,
    "start_time": "2021-08-11T20:44:20.866Z"
   },
   {
    "duration": 783,
    "start_time": "2021-08-11T20:44:29.096Z"
   },
   {
    "duration": 260,
    "start_time": "2021-08-11T20:56:44.909Z"
   },
   {
    "duration": 850,
    "start_time": "2021-08-11T20:57:03.944Z"
   },
   {
    "duration": 16,
    "start_time": "2021-08-11T20:57:34.685Z"
   },
   {
    "duration": 1162,
    "start_time": "2021-08-11T20:59:12.259Z"
   },
   {
    "duration": 10,
    "start_time": "2021-08-11T20:59:34.993Z"
   },
   {
    "duration": 836,
    "start_time": "2021-08-11T21:01:12.002Z"
   },
   {
    "duration": 9,
    "start_time": "2021-08-11T21:01:30.537Z"
   },
   {
    "duration": 917,
    "start_time": "2021-08-11T21:02:35.387Z"
   },
   {
    "duration": 9,
    "start_time": "2021-08-11T21:02:59.670Z"
   },
   {
    "duration": 16,
    "start_time": "2021-08-11T21:13:00.030Z"
   },
   {
    "duration": 14,
    "start_time": "2021-08-11T21:13:16.275Z"
   },
   {
    "duration": 325,
    "start_time": "2021-08-11T21:15:12.799Z"
   },
   {
    "duration": 242,
    "start_time": "2021-08-11T21:15:38.023Z"
   },
   {
    "duration": 15,
    "start_time": "2021-08-11T21:15:52.097Z"
   },
   {
    "duration": 320,
    "start_time": "2021-08-11T21:15:56.232Z"
   },
   {
    "duration": 16,
    "start_time": "2021-08-11T21:50:48.423Z"
   },
   {
    "duration": 15,
    "start_time": "2021-08-11T21:51:08.735Z"
   },
   {
    "duration": 15,
    "start_time": "2021-08-11T21:51:29.715Z"
   },
   {
    "duration": 265,
    "start_time": "2021-08-11T21:53:27.328Z"
   },
   {
    "duration": 15,
    "start_time": "2021-08-11T21:53:46.990Z"
   },
   {
    "duration": 16,
    "start_time": "2021-08-11T21:54:13.245Z"
   },
   {
    "duration": 10,
    "start_time": "2021-08-11T21:54:25.104Z"
   },
   {
    "duration": 16,
    "start_time": "2021-08-11T21:54:35.956Z"
   },
   {
    "duration": 15,
    "start_time": "2021-08-11T21:54:56.522Z"
   },
   {
    "duration": 104,
    "start_time": "2021-08-11T21:56:25.990Z"
   },
   {
    "duration": 259,
    "start_time": "2021-08-11T21:59:26.422Z"
   },
   {
    "duration": 18,
    "start_time": "2021-08-11T22:00:15.828Z"
   },
   {
    "duration": 16,
    "start_time": "2021-08-11T22:00:52.017Z"
   },
   {
    "duration": 267,
    "start_time": "2021-08-11T22:01:24.040Z"
   },
   {
    "duration": 266,
    "start_time": "2021-08-11T22:02:03.922Z"
   },
   {
    "duration": 1542,
    "start_time": "2021-08-11T22:29:03.540Z"
   },
   {
    "duration": 49,
    "start_time": "2021-08-11T22:29:05.085Z"
   },
   {
    "duration": 36,
    "start_time": "2021-08-11T22:29:05.137Z"
   },
   {
    "duration": 29,
    "start_time": "2021-08-11T22:29:05.176Z"
   },
   {
    "duration": 16,
    "start_time": "2021-08-11T22:29:05.208Z"
   },
   {
    "duration": 62,
    "start_time": "2021-08-11T22:29:05.227Z"
   },
   {
    "duration": 6,
    "start_time": "2021-08-11T22:29:05.291Z"
   },
   {
    "duration": 15,
    "start_time": "2021-08-11T22:29:05.303Z"
   },
   {
    "duration": 59,
    "start_time": "2021-08-11T22:29:05.321Z"
   },
   {
    "duration": 7,
    "start_time": "2021-08-11T22:29:05.383Z"
   },
   {
    "duration": 32,
    "start_time": "2021-08-11T22:29:05.392Z"
   },
   {
    "duration": 12,
    "start_time": "2021-08-11T22:29:05.427Z"
   },
   {
    "duration": 40,
    "start_time": "2021-08-11T22:29:05.442Z"
   },
   {
    "duration": 9,
    "start_time": "2021-08-11T22:29:05.484Z"
   },
   {
    "duration": 17,
    "start_time": "2021-08-11T22:29:05.496Z"
   },
   {
    "duration": 24,
    "start_time": "2021-08-11T22:29:05.515Z"
   },
   {
    "duration": 28,
    "start_time": "2021-08-11T22:29:05.542Z"
   },
   {
    "duration": 12,
    "start_time": "2021-08-11T22:29:05.572Z"
   },
   {
    "duration": 11,
    "start_time": "2021-08-11T22:29:05.587Z"
   },
   {
    "duration": 26,
    "start_time": "2021-08-11T22:29:05.601Z"
   },
   {
    "duration": 13,
    "start_time": "2021-08-11T22:29:05.629Z"
   },
   {
    "duration": 24,
    "start_time": "2021-08-11T22:29:05.667Z"
   },
   {
    "duration": 7,
    "start_time": "2021-08-11T22:29:05.697Z"
   },
   {
    "duration": 24,
    "start_time": "2021-08-11T22:29:05.707Z"
   },
   {
    "duration": 52,
    "start_time": "2021-08-11T22:29:05.733Z"
   },
   {
    "duration": 561,
    "start_time": "2021-08-11T22:29:05.788Z"
   },
   {
    "duration": 8,
    "start_time": "2021-08-11T22:29:06.351Z"
   },
   {
    "duration": 7,
    "start_time": "2021-08-11T22:29:06.368Z"
   },
   {
    "duration": 316,
    "start_time": "2021-08-11T22:29:06.377Z"
   },
   {
    "duration": 17,
    "start_time": "2021-08-11T22:29:06.696Z"
   },
   {
    "duration": 489,
    "start_time": "2021-08-11T22:29:06.715Z"
   },
   {
    "duration": 35,
    "start_time": "2021-08-11T22:29:07.207Z"
   },
   {
    "duration": 3033,
    "start_time": "2021-08-11T22:29:07.244Z"
   },
   {
    "duration": 18,
    "start_time": "2021-08-11T22:29:10.279Z"
   },
   {
    "duration": 17,
    "start_time": "2021-08-11T22:29:10.300Z"
   },
   {
    "duration": 94,
    "start_time": "2021-08-11T22:29:10.320Z"
   },
   {
    "duration": 527,
    "start_time": "2021-08-11T22:29:10.416Z"
   },
   {
    "duration": 8,
    "start_time": "2021-08-11T22:29:10.946Z"
   },
   {
    "duration": 18,
    "start_time": "2021-08-11T22:29:10.967Z"
   },
   {
    "duration": 42,
    "start_time": "2021-08-11T22:29:10.988Z"
   },
   {
    "duration": 692,
    "start_time": "2021-08-11T22:29:11.032Z"
   },
   {
    "duration": 20,
    "start_time": "2021-08-11T22:29:11.726Z"
   },
   {
    "duration": 1075,
    "start_time": "2021-08-11T22:29:11.749Z"
   },
   {
    "duration": 77,
    "start_time": "2021-08-11T22:29:12.828Z"
   },
   {
    "duration": 574,
    "start_time": "2021-08-11T22:29:12.908Z"
   },
   {
    "duration": 31,
    "start_time": "2021-08-11T22:29:13.485Z"
   },
   {
    "duration": 1195,
    "start_time": "2021-08-11T22:29:13.518Z"
   },
   {
    "duration": 9,
    "start_time": "2021-08-11T22:29:14.716Z"
   },
   {
    "duration": 1195,
    "start_time": "2021-08-11T22:29:14.728Z"
   },
   {
    "duration": 10,
    "start_time": "2021-08-11T22:29:15.926Z"
   },
   {
    "duration": 862,
    "start_time": "2021-08-11T22:29:15.939Z"
   },
   {
    "duration": 7,
    "start_time": "2021-08-11T22:29:16.803Z"
   },
   {
    "duration": 1008,
    "start_time": "2021-08-11T22:29:16.813Z"
   },
   {
    "duration": 7,
    "start_time": "2021-08-11T22:29:17.824Z"
   },
   {
    "duration": 855,
    "start_time": "2021-08-11T22:29:17.834Z"
   },
   {
    "duration": 7,
    "start_time": "2021-08-11T22:29:18.691Z"
   },
   {
    "duration": 18,
    "start_time": "2021-08-11T22:29:18.701Z"
   },
   {
    "duration": 353,
    "start_time": "2021-08-11T22:29:18.721Z"
   },
   {
    "duration": 15,
    "start_time": "2021-08-11T22:29:19.077Z"
   },
   {
    "duration": 16,
    "start_time": "2021-08-11T22:29:19.095Z"
   },
   {
    "duration": 15,
    "start_time": "2021-08-11T22:29:19.113Z"
   },
   {
    "duration": 271,
    "start_time": "2021-08-11T22:29:19.167Z"
   },
   {
    "duration": 367,
    "start_time": "2021-08-11T22:29:19.440Z"
   },
   {
    "duration": 280,
    "start_time": "2021-08-11T22:29:19.809Z"
   },
   {
    "duration": 19,
    "start_time": "2021-08-11T22:29:20.091Z"
   },
   {
    "duration": 16,
    "start_time": "2021-08-11T22:29:20.112Z"
   },
   {
    "duration": 16,
    "start_time": "2021-08-11T22:30:27.401Z"
   },
   {
    "duration": 17,
    "start_time": "2021-08-11T22:31:04.101Z"
   },
   {
    "duration": 17,
    "start_time": "2021-08-11T22:31:29.004Z"
   },
   {
    "duration": 17,
    "start_time": "2021-08-11T22:31:38.704Z"
   },
   {
    "duration": 16,
    "start_time": "2021-08-11T22:32:17.965Z"
   },
   {
    "duration": 18,
    "start_time": "2021-08-11T22:32:33.982Z"
   },
   {
    "duration": 16,
    "start_time": "2021-08-11T22:32:43.030Z"
   },
   {
    "duration": 356,
    "start_time": "2021-08-11T22:34:08.711Z"
   },
   {
    "duration": 362,
    "start_time": "2021-08-11T22:34:28.729Z"
   },
   {
    "duration": 383,
    "start_time": "2021-08-11T22:34:50.867Z"
   },
   {
    "duration": 16,
    "start_time": "2021-08-11T22:44:58.002Z"
   },
   {
    "duration": 15,
    "start_time": "2021-08-11T22:45:03.178Z"
   },
   {
    "duration": 17,
    "start_time": "2021-08-11T22:45:30.562Z"
   },
   {
    "duration": 268,
    "start_time": "2021-08-11T22:46:10.527Z"
   },
   {
    "duration": 270,
    "start_time": "2021-08-11T22:46:16.173Z"
   },
   {
    "duration": 330,
    "start_time": "2021-08-11T22:46:55.798Z"
   },
   {
    "duration": 257,
    "start_time": "2021-08-11T22:47:13.339Z"
   },
   {
    "duration": 1449,
    "start_time": "2021-08-12T01:08:24.287Z"
   },
   {
    "duration": 49,
    "start_time": "2021-08-12T01:08:25.739Z"
   },
   {
    "duration": 25,
    "start_time": "2021-08-12T01:08:25.792Z"
   },
   {
    "duration": 21,
    "start_time": "2021-08-12T01:08:25.820Z"
   },
   {
    "duration": 16,
    "start_time": "2021-08-12T01:08:25.868Z"
   },
   {
    "duration": 42,
    "start_time": "2021-08-12T01:08:25.888Z"
   },
   {
    "duration": 35,
    "start_time": "2021-08-12T01:08:25.933Z"
   },
   {
    "duration": 13,
    "start_time": "2021-08-12T01:08:25.971Z"
   },
   {
    "duration": 20,
    "start_time": "2021-08-12T01:08:25.989Z"
   },
   {
    "duration": 5,
    "start_time": "2021-08-12T01:08:26.012Z"
   },
   {
    "duration": 59,
    "start_time": "2021-08-12T01:08:26.020Z"
   },
   {
    "duration": 13,
    "start_time": "2021-08-12T01:08:26.081Z"
   },
   {
    "duration": 12,
    "start_time": "2021-08-12T01:08:26.096Z"
   },
   {
    "duration": 6,
    "start_time": "2021-08-12T01:08:26.110Z"
   },
   {
    "duration": 10,
    "start_time": "2021-08-12T01:08:26.118Z"
   },
   {
    "duration": 39,
    "start_time": "2021-08-12T01:08:26.130Z"
   },
   {
    "duration": 11,
    "start_time": "2021-08-12T01:08:26.172Z"
   },
   {
    "duration": 15,
    "start_time": "2021-08-12T01:08:26.186Z"
   },
   {
    "duration": 5,
    "start_time": "2021-08-12T01:08:26.203Z"
   },
   {
    "duration": 14,
    "start_time": "2021-08-12T01:08:26.211Z"
   },
   {
    "duration": 42,
    "start_time": "2021-08-12T01:08:26.227Z"
   },
   {
    "duration": 26,
    "start_time": "2021-08-12T01:08:26.271Z"
   },
   {
    "duration": 7,
    "start_time": "2021-08-12T01:08:26.299Z"
   },
   {
    "duration": 22,
    "start_time": "2021-08-12T01:08:26.308Z"
   },
   {
    "duration": 50,
    "start_time": "2021-08-12T01:08:26.333Z"
   },
   {
    "duration": 557,
    "start_time": "2021-08-12T01:08:26.385Z"
   },
   {
    "duration": 7,
    "start_time": "2021-08-12T01:08:26.949Z"
   },
   {
    "duration": 4,
    "start_time": "2021-08-12T01:08:26.968Z"
   },
   {
    "duration": 312,
    "start_time": "2021-08-12T01:08:26.974Z"
   },
   {
    "duration": 16,
    "start_time": "2021-08-12T01:08:27.288Z"
   },
   {
    "duration": 474,
    "start_time": "2021-08-12T01:08:27.307Z"
   },
   {
    "duration": 34,
    "start_time": "2021-08-12T01:08:27.783Z"
   },
   {
    "duration": 3005,
    "start_time": "2021-08-12T01:08:27.819Z"
   },
   {
    "duration": 18,
    "start_time": "2021-08-12T01:08:30.826Z"
   },
   {
    "duration": 34,
    "start_time": "2021-08-12T01:08:30.847Z"
   },
   {
    "duration": 66,
    "start_time": "2021-08-12T01:08:30.884Z"
   },
   {
    "duration": 499,
    "start_time": "2021-08-12T01:08:30.968Z"
   },
   {
    "duration": 11,
    "start_time": "2021-08-12T01:08:31.469Z"
   },
   {
    "duration": 27,
    "start_time": "2021-08-12T01:08:31.482Z"
   },
   {
    "duration": 74,
    "start_time": "2021-08-12T01:08:31.512Z"
   },
   {
    "duration": 718,
    "start_time": "2021-08-12T01:08:31.589Z"
   },
   {
    "duration": 16,
    "start_time": "2021-08-12T01:08:32.309Z"
   },
   {
    "duration": 806,
    "start_time": "2021-08-12T01:08:32.327Z"
   },
   {
    "duration": 54,
    "start_time": "2021-08-12T01:08:33.135Z"
   },
   {
    "duration": 426,
    "start_time": "2021-08-12T01:08:33.192Z"
   },
   {
    "duration": 23,
    "start_time": "2021-08-12T01:08:33.621Z"
   },
   {
    "duration": 855,
    "start_time": "2021-08-12T01:08:33.646Z"
   },
   {
    "duration": 7,
    "start_time": "2021-08-12T01:08:34.504Z"
   },
   {
    "duration": 886,
    "start_time": "2021-08-12T01:08:34.513Z"
   },
   {
    "duration": 8,
    "start_time": "2021-08-12T01:08:35.401Z"
   },
   {
    "duration": 879,
    "start_time": "2021-08-12T01:08:35.411Z"
   },
   {
    "duration": 8,
    "start_time": "2021-08-12T01:08:36.292Z"
   },
   {
    "duration": 1016,
    "start_time": "2021-08-12T01:08:36.302Z"
   },
   {
    "duration": 8,
    "start_time": "2021-08-12T01:08:37.321Z"
   },
   {
    "duration": 860,
    "start_time": "2021-08-12T01:08:37.331Z"
   },
   {
    "duration": 8,
    "start_time": "2021-08-12T01:08:38.194Z"
   },
   {
    "duration": 17,
    "start_time": "2021-08-12T01:08:38.205Z"
   },
   {
    "duration": 357,
    "start_time": "2021-08-12T01:08:38.224Z"
   },
   {
    "duration": 15,
    "start_time": "2021-08-12T01:08:38.584Z"
   },
   {
    "duration": 14,
    "start_time": "2021-08-12T01:08:38.602Z"
   },
   {
    "duration": 50,
    "start_time": "2021-08-12T01:08:38.619Z"
   },
   {
    "duration": 278,
    "start_time": "2021-08-12T01:08:38.671Z"
   },
   {
    "duration": 278,
    "start_time": "2021-08-12T01:08:38.951Z"
   },
   {
    "duration": 268,
    "start_time": "2021-08-12T01:08:39.231Z"
   },
   {
    "duration": 15,
    "start_time": "2021-08-12T01:08:39.502Z"
   },
   {
    "duration": 15,
    "start_time": "2021-08-12T01:08:39.519Z"
   },
   {
    "duration": 44,
    "start_time": "2021-08-12T01:08:39.537Z"
   },
   {
    "duration": 286,
    "start_time": "2021-08-12T01:08:39.583Z"
   },
   {
    "duration": 284,
    "start_time": "2021-08-12T01:08:39.872Z"
   },
   {
    "duration": 291,
    "start_time": "2021-08-12T01:08:40.158Z"
   },
   {
    "duration": 24,
    "start_time": "2021-08-12T01:08:40.452Z"
   },
   {
    "duration": 19,
    "start_time": "2021-08-12T01:08:40.479Z"
   },
   {
    "duration": 15,
    "start_time": "2021-08-12T01:08:40.501Z"
   },
   {
    "duration": 305,
    "start_time": "2021-08-12T01:08:40.518Z"
   },
   {
    "duration": 264,
    "start_time": "2021-08-12T01:08:40.825Z"
   },
   {
    "duration": 464,
    "start_time": "2021-08-12T01:08:41.091Z"
   },
   {
    "duration": 1231,
    "start_time": "2021-08-12T01:15:25.677Z"
   },
   {
    "duration": 48,
    "start_time": "2021-08-12T01:15:33.036Z"
   },
   {
    "duration": 283,
    "start_time": "2021-08-12T01:16:04.046Z"
   },
   {
    "duration": 5,
    "start_time": "2021-08-12T01:17:19.335Z"
   },
   {
    "duration": 8,
    "start_time": "2021-08-12T01:17:59.708Z"
   },
   {
    "duration": 11,
    "start_time": "2021-08-12T01:18:43.775Z"
   },
   {
    "duration": 7,
    "start_time": "2021-08-12T01:27:19.226Z"
   },
   {
    "duration": 9,
    "start_time": "2021-08-12T01:30:50.346Z"
   },
   {
    "duration": 13,
    "start_time": "2021-08-12T01:31:25.066Z"
   },
   {
    "duration": 7,
    "start_time": "2021-08-12T01:36:04.130Z"
   },
   {
    "duration": 1547,
    "start_time": "2021-08-12T16:32:35.406Z"
   },
   {
    "duration": 47,
    "start_time": "2021-08-12T16:32:36.956Z"
   },
   {
    "duration": 22,
    "start_time": "2021-08-12T16:32:37.007Z"
   },
   {
    "duration": 18,
    "start_time": "2021-08-12T16:32:37.033Z"
   },
   {
    "duration": 21,
    "start_time": "2021-08-12T16:32:37.054Z"
   },
   {
    "duration": 42,
    "start_time": "2021-08-12T16:32:37.101Z"
   },
   {
    "duration": 5,
    "start_time": "2021-08-12T16:32:37.146Z"
   },
   {
    "duration": 50,
    "start_time": "2021-08-12T16:32:37.157Z"
   },
   {
    "duration": 27,
    "start_time": "2021-08-12T16:32:37.210Z"
   },
   {
    "duration": 8,
    "start_time": "2021-08-12T16:32:37.239Z"
   },
   {
    "duration": 56,
    "start_time": "2021-08-12T16:32:37.250Z"
   },
   {
    "duration": 15,
    "start_time": "2021-08-12T16:32:37.309Z"
   },
   {
    "duration": 14,
    "start_time": "2021-08-12T16:32:37.327Z"
   },
   {
    "duration": 8,
    "start_time": "2021-08-12T16:32:37.343Z"
   },
   {
    "duration": 47,
    "start_time": "2021-08-12T16:32:37.353Z"
   },
   {
    "duration": 7,
    "start_time": "2021-08-12T16:32:37.403Z"
   },
   {
    "duration": 10,
    "start_time": "2021-08-12T16:32:37.413Z"
   },
   {
    "duration": 11,
    "start_time": "2021-08-12T16:32:37.426Z"
   },
   {
    "duration": 6,
    "start_time": "2021-08-12T16:32:37.439Z"
   },
   {
    "duration": 55,
    "start_time": "2021-08-12T16:32:37.447Z"
   },
   {
    "duration": 7,
    "start_time": "2021-08-12T16:32:37.504Z"
   },
   {
    "duration": 30,
    "start_time": "2021-08-12T16:32:37.513Z"
   },
   {
    "duration": 6,
    "start_time": "2021-08-12T16:32:37.549Z"
   },
   {
    "duration": 47,
    "start_time": "2021-08-12T16:32:37.559Z"
   },
   {
    "duration": 21,
    "start_time": "2021-08-12T16:32:37.608Z"
   },
   {
    "duration": 524,
    "start_time": "2021-08-12T16:32:37.632Z"
   },
   {
    "duration": 8,
    "start_time": "2021-08-12T16:32:38.158Z"
   },
   {
    "duration": 6,
    "start_time": "2021-08-12T16:32:38.168Z"
   },
   {
    "duration": 305,
    "start_time": "2021-08-12T16:32:38.177Z"
   },
   {
    "duration": 27,
    "start_time": "2021-08-12T16:32:38.484Z"
   },
   {
    "duration": 468,
    "start_time": "2021-08-12T16:32:38.513Z"
   },
   {
    "duration": 43,
    "start_time": "2021-08-12T16:32:38.984Z"
   },
   {
    "duration": 2948,
    "start_time": "2021-08-12T16:32:39.030Z"
   },
   {
    "duration": 28,
    "start_time": "2021-08-12T16:32:41.981Z"
   },
   {
    "duration": 17,
    "start_time": "2021-08-12T16:32:42.011Z"
   },
   {
    "duration": 73,
    "start_time": "2021-08-12T16:32:42.030Z"
   },
   {
    "duration": 521,
    "start_time": "2021-08-12T16:32:42.106Z"
   },
   {
    "duration": 7,
    "start_time": "2021-08-12T16:32:42.630Z"
   },
   {
    "duration": 17,
    "start_time": "2021-08-12T16:32:42.640Z"
   },
   {
    "duration": 66,
    "start_time": "2021-08-12T16:32:42.660Z"
   },
   {
    "duration": 572,
    "start_time": "2021-08-12T16:32:42.728Z"
   },
   {
    "duration": 17,
    "start_time": "2021-08-12T16:32:43.303Z"
   },
   {
    "duration": 660,
    "start_time": "2021-08-12T16:32:43.323Z"
   },
   {
    "duration": 49,
    "start_time": "2021-08-12T16:32:43.985Z"
   },
   {
    "duration": 377,
    "start_time": "2021-08-12T16:32:44.037Z"
   },
   {
    "duration": 24,
    "start_time": "2021-08-12T16:32:44.417Z"
   },
   {
    "duration": 885,
    "start_time": "2021-08-12T16:32:44.444Z"
   },
   {
    "duration": 7,
    "start_time": "2021-08-12T16:32:45.332Z"
   },
   {
    "duration": 862,
    "start_time": "2021-08-12T16:32:45.342Z"
   },
   {
    "duration": 7,
    "start_time": "2021-08-12T16:32:46.206Z"
   },
   {
    "duration": 971,
    "start_time": "2021-08-12T16:32:46.216Z"
   },
   {
    "duration": 12,
    "start_time": "2021-08-12T16:32:47.189Z"
   },
   {
    "duration": 820,
    "start_time": "2021-08-12T16:32:47.203Z"
   },
   {
    "duration": 6,
    "start_time": "2021-08-12T16:32:48.025Z"
   },
   {
    "duration": 796,
    "start_time": "2021-08-12T16:32:48.034Z"
   },
   {
    "duration": 8,
    "start_time": "2021-08-12T16:32:48.832Z"
   },
   {
    "duration": 24,
    "start_time": "2021-08-12T16:32:48.843Z"
   },
   {
    "duration": 338,
    "start_time": "2021-08-12T16:32:48.869Z"
   },
   {
    "duration": 16,
    "start_time": "2021-08-12T16:32:49.209Z"
   },
   {
    "duration": 18,
    "start_time": "2021-08-12T16:32:49.227Z"
   },
   {
    "duration": 18,
    "start_time": "2021-08-12T16:32:49.247Z"
   },
   {
    "duration": 273,
    "start_time": "2021-08-12T16:32:49.268Z"
   },
   {
    "duration": 268,
    "start_time": "2021-08-12T16:32:49.544Z"
   },
   {
    "duration": 254,
    "start_time": "2021-08-12T16:32:49.814Z"
   },
   {
    "duration": 31,
    "start_time": "2021-08-12T16:32:50.071Z"
   },
   {
    "duration": 18,
    "start_time": "2021-08-12T16:32:50.105Z"
   },
   {
    "duration": 14,
    "start_time": "2021-08-12T16:32:50.125Z"
   },
   {
    "duration": 293,
    "start_time": "2021-08-12T16:32:50.147Z"
   },
   {
    "duration": 270,
    "start_time": "2021-08-12T16:32:50.443Z"
   },
   {
    "duration": 263,
    "start_time": "2021-08-12T16:32:50.715Z"
   },
   {
    "duration": 30,
    "start_time": "2021-08-12T16:32:50.981Z"
   },
   {
    "duration": 16,
    "start_time": "2021-08-12T16:32:51.014Z"
   },
   {
    "duration": 15,
    "start_time": "2021-08-12T16:32:51.033Z"
   },
   {
    "duration": 458,
    "start_time": "2021-08-12T16:32:51.050Z"
   },
   {
    "duration": 271,
    "start_time": "2021-08-12T16:32:51.510Z"
   },
   {
    "duration": 256,
    "start_time": "2021-08-12T16:32:51.784Z"
   },
   {
    "duration": 10,
    "start_time": "2021-08-12T16:32:52.043Z"
   },
   {
    "duration": 15,
    "start_time": "2021-08-12T16:32:52.055Z"
   },
   {
    "duration": 32,
    "start_time": "2021-08-12T16:32:52.073Z"
   },
   {
    "duration": 8,
    "start_time": "2021-08-12T16:32:52.107Z"
   },
   {
    "duration": 23,
    "start_time": "2021-08-12T16:37:12.060Z"
   },
   {
    "duration": 786,
    "start_time": "2021-08-12T16:37:24.410Z"
   },
   {
    "duration": 9,
    "start_time": "2021-08-12T16:37:37.144Z"
   },
   {
    "duration": 992,
    "start_time": "2021-08-12T16:38:36.680Z"
   },
   {
    "duration": 7,
    "start_time": "2021-08-12T16:38:42.751Z"
   },
   {
    "duration": 9,
    "start_time": "2021-08-12T16:39:59.796Z"
   },
   {
    "duration": 925,
    "start_time": "2021-08-12T16:41:14.031Z"
   },
   {
    "duration": 8,
    "start_time": "2021-08-12T16:41:32.197Z"
   },
   {
    "duration": 115,
    "start_time": "2021-08-12T17:50:45.566Z"
   },
   {
    "duration": 2816,
    "start_time": "2021-08-12T17:50:42.869Z"
   },
   {
    "duration": 2811,
    "start_time": "2021-08-12T17:50:42.875Z"
   },
   {
    "duration": 2804,
    "start_time": "2021-08-12T17:50:42.883Z"
   },
   {
    "duration": 2801,
    "start_time": "2021-08-12T17:50:42.888Z"
   },
   {
    "duration": 2796,
    "start_time": "2021-08-12T17:50:42.894Z"
   },
   {
    "duration": 2793,
    "start_time": "2021-08-12T17:50:42.898Z"
   },
   {
    "duration": 2747,
    "start_time": "2021-08-12T17:50:42.946Z"
   },
   {
    "duration": 2726,
    "start_time": "2021-08-12T17:50:42.968Z"
   },
   {
    "duration": 2721,
    "start_time": "2021-08-12T17:50:42.974Z"
   },
   {
    "duration": 2718,
    "start_time": "2021-08-12T17:50:42.979Z"
   },
   {
    "duration": 2714,
    "start_time": "2021-08-12T17:50:42.984Z"
   },
   {
    "duration": 2711,
    "start_time": "2021-08-12T17:50:42.988Z"
   },
   {
    "duration": 2579,
    "start_time": "2021-08-12T17:50:43.121Z"
   },
   {
    "duration": 2575,
    "start_time": "2021-08-12T17:50:43.127Z"
   },
   {
    "duration": 2571,
    "start_time": "2021-08-12T17:50:43.132Z"
   },
   {
    "duration": 2567,
    "start_time": "2021-08-12T17:50:43.137Z"
   },
   {
    "duration": 2564,
    "start_time": "2021-08-12T17:50:43.141Z"
   },
   {
    "duration": 2562,
    "start_time": "2021-08-12T17:50:43.145Z"
   },
   {
    "duration": 2558,
    "start_time": "2021-08-12T17:50:43.150Z"
   },
   {
    "duration": 2555,
    "start_time": "2021-08-12T17:50:43.154Z"
   },
   {
    "duration": 2552,
    "start_time": "2021-08-12T17:50:43.158Z"
   },
   {
    "duration": 2549,
    "start_time": "2021-08-12T17:50:43.162Z"
   },
   {
    "duration": 2545,
    "start_time": "2021-08-12T17:50:43.168Z"
   },
   {
    "duration": 2113,
    "start_time": "2021-08-12T17:50:43.601Z"
   },
   {
    "duration": 2110,
    "start_time": "2021-08-12T17:50:43.605Z"
   },
   {
    "duration": 2107,
    "start_time": "2021-08-12T17:50:43.609Z"
   },
   {
    "duration": 2104,
    "start_time": "2021-08-12T17:50:43.613Z"
   },
   {
    "duration": 2101,
    "start_time": "2021-08-12T17:50:43.617Z"
   },
   {
    "duration": 2099,
    "start_time": "2021-08-12T17:50:43.621Z"
   },
   {
    "duration": 2096,
    "start_time": "2021-08-12T17:50:43.625Z"
   },
   {
    "duration": 431,
    "start_time": "2021-08-12T17:50:45.748Z"
   },
   {
    "duration": 2191,
    "start_time": "2021-08-12T17:50:43.993Z"
   },
   {
    "duration": 2189,
    "start_time": "2021-08-12T17:50:43.996Z"
   },
   {
    "duration": 2186,
    "start_time": "2021-08-12T17:50:44.001Z"
   },
   {
    "duration": 2183,
    "start_time": "2021-08-12T17:50:44.005Z"
   },
   {
    "duration": 2180,
    "start_time": "2021-08-12T17:50:44.009Z"
   },
   {
    "duration": 2177,
    "start_time": "2021-08-12T17:50:44.013Z"
   },
   {
    "duration": 2175,
    "start_time": "2021-08-12T17:50:44.017Z"
   },
   {
    "duration": 2172,
    "start_time": "2021-08-12T17:50:44.021Z"
   },
   {
    "duration": 2170,
    "start_time": "2021-08-12T17:50:44.025Z"
   },
   {
    "duration": 2167,
    "start_time": "2021-08-12T17:50:44.029Z"
   },
   {
    "duration": 2165,
    "start_time": "2021-08-12T17:50:44.033Z"
   },
   {
    "duration": 2162,
    "start_time": "2021-08-12T17:50:44.037Z"
   },
   {
    "duration": 2160,
    "start_time": "2021-08-12T17:50:44.041Z"
   },
   {
    "duration": 2157,
    "start_time": "2021-08-12T17:50:44.045Z"
   },
   {
    "duration": 2153,
    "start_time": "2021-08-12T17:50:44.050Z"
   },
   {
    "duration": 2151,
    "start_time": "2021-08-12T17:50:44.054Z"
   },
   {
    "duration": 2148,
    "start_time": "2021-08-12T17:50:44.058Z"
   },
   {
    "duration": 2145,
    "start_time": "2021-08-12T17:50:44.062Z"
   },
   {
    "duration": 2143,
    "start_time": "2021-08-12T17:50:44.066Z"
   },
   {
    "duration": 2140,
    "start_time": "2021-08-12T17:50:44.070Z"
   },
   {
    "duration": 2136,
    "start_time": "2021-08-12T17:50:44.075Z"
   },
   {
    "duration": 2134,
    "start_time": "2021-08-12T17:50:44.078Z"
   },
   {
    "duration": 2131,
    "start_time": "2021-08-12T17:50:44.083Z"
   },
   {
    "duration": 2129,
    "start_time": "2021-08-12T17:50:44.086Z"
   },
   {
    "duration": 2093,
    "start_time": "2021-08-12T17:50:44.123Z"
   },
   {
    "duration": 2089,
    "start_time": "2021-08-12T17:50:44.129Z"
   },
   {
    "duration": 2086,
    "start_time": "2021-08-12T17:50:44.133Z"
   },
   {
    "duration": 2083,
    "start_time": "2021-08-12T17:50:44.138Z"
   },
   {
    "duration": 2079,
    "start_time": "2021-08-12T17:50:44.143Z"
   },
   {
    "duration": 2077,
    "start_time": "2021-08-12T17:50:44.147Z"
   },
   {
    "duration": 2074,
    "start_time": "2021-08-12T17:50:44.151Z"
   },
   {
    "duration": 2071,
    "start_time": "2021-08-12T17:50:44.155Z"
   },
   {
    "duration": 2068,
    "start_time": "2021-08-12T17:50:44.159Z"
   },
   {
    "duration": 2064,
    "start_time": "2021-08-12T17:50:44.165Z"
   },
   {
    "duration": 2061,
    "start_time": "2021-08-12T17:50:44.169Z"
   },
   {
    "duration": 2059,
    "start_time": "2021-08-12T17:50:44.173Z"
   },
   {
    "duration": 2055,
    "start_time": "2021-08-12T17:50:44.178Z"
   },
   {
    "duration": 2052,
    "start_time": "2021-08-12T17:50:44.182Z"
   },
   {
    "duration": 2049,
    "start_time": "2021-08-12T17:50:44.186Z"
   },
   {
    "duration": 2047,
    "start_time": "2021-08-12T17:50:44.190Z"
   },
   {
    "duration": 2044,
    "start_time": "2021-08-12T17:50:44.194Z"
   },
   {
    "duration": 2041,
    "start_time": "2021-08-12T17:50:44.198Z"
   },
   {
    "duration": 2037,
    "start_time": "2021-08-12T17:50:44.203Z"
   },
   {
    "duration": 2036,
    "start_time": "2021-08-12T17:50:44.206Z"
   },
   {
    "duration": 2032,
    "start_time": "2021-08-12T17:50:44.211Z"
   },
   {
    "duration": 2086,
    "start_time": "2021-08-12T17:50:44.215Z"
   },
   {
    "duration": 2083,
    "start_time": "2021-08-12T17:50:44.219Z"
   },
   {
    "duration": 2073,
    "start_time": "2021-08-12T17:50:44.230Z"
   },
   {
    "duration": 2071,
    "start_time": "2021-08-12T17:50:44.234Z"
   },
   {
    "duration": 1462,
    "start_time": "2021-08-12T17:51:07.906Z"
   },
   {
    "duration": 48,
    "start_time": "2021-08-12T17:51:09.371Z"
   },
   {
    "duration": 23,
    "start_time": "2021-08-12T17:51:09.423Z"
   },
   {
    "duration": 19,
    "start_time": "2021-08-12T17:51:09.448Z"
   },
   {
    "duration": 37,
    "start_time": "2021-08-12T17:51:09.470Z"
   },
   {
    "duration": 42,
    "start_time": "2021-08-12T17:51:09.510Z"
   },
   {
    "duration": 5,
    "start_time": "2021-08-12T17:51:09.554Z"
   },
   {
    "duration": 44,
    "start_time": "2021-08-12T17:51:09.563Z"
   },
   {
    "duration": 36,
    "start_time": "2021-08-12T17:51:09.610Z"
   },
   {
    "duration": 6,
    "start_time": "2021-08-12T17:51:09.648Z"
   },
   {
    "duration": 20,
    "start_time": "2021-08-12T17:51:09.656Z"
   },
   {
    "duration": 28,
    "start_time": "2021-08-12T17:51:09.679Z"
   },
   {
    "duration": 14,
    "start_time": "2021-08-12T17:51:09.709Z"
   },
   {
    "duration": 6,
    "start_time": "2021-08-12T17:51:09.725Z"
   },
   {
    "duration": 10,
    "start_time": "2021-08-12T17:51:09.733Z"
   },
   {
    "duration": 7,
    "start_time": "2021-08-12T17:51:09.745Z"
   },
   {
    "duration": 51,
    "start_time": "2021-08-12T17:51:09.754Z"
   },
   {
    "duration": 11,
    "start_time": "2021-08-12T17:51:09.807Z"
   },
   {
    "duration": 6,
    "start_time": "2021-08-12T17:51:09.821Z"
   },
   {
    "duration": 13,
    "start_time": "2021-08-12T17:51:09.830Z"
   },
   {
    "duration": 9,
    "start_time": "2021-08-12T17:51:09.846Z"
   },
   {
    "duration": 29,
    "start_time": "2021-08-12T17:51:09.902Z"
   },
   {
    "duration": 8,
    "start_time": "2021-08-12T17:51:09.938Z"
   },
   {
    "duration": 53,
    "start_time": "2021-08-12T17:51:09.951Z"
   },
   {
    "duration": 24,
    "start_time": "2021-08-12T17:51:10.006Z"
   },
   {
    "duration": 533,
    "start_time": "2021-08-12T17:51:10.032Z"
   },
   {
    "duration": 8,
    "start_time": "2021-08-12T17:51:10.567Z"
   },
   {
    "duration": 24,
    "start_time": "2021-08-12T17:51:10.577Z"
   },
   {
    "duration": 287,
    "start_time": "2021-08-12T17:51:10.604Z"
   },
   {
    "duration": 16,
    "start_time": "2021-08-12T17:51:10.900Z"
   },
   {
    "duration": 473,
    "start_time": "2021-08-12T17:51:10.919Z"
   },
   {
    "duration": 39,
    "start_time": "2021-08-12T17:51:11.395Z"
   },
   {
    "duration": 2964,
    "start_time": "2021-08-12T17:51:11.436Z"
   },
   {
    "duration": 20,
    "start_time": "2021-08-12T17:51:14.402Z"
   },
   {
    "duration": 19,
    "start_time": "2021-08-12T17:51:14.424Z"
   },
   {
    "duration": 91,
    "start_time": "2021-08-12T17:51:14.446Z"
   },
   {
    "duration": 493,
    "start_time": "2021-08-12T17:51:14.539Z"
   },
   {
    "duration": 8,
    "start_time": "2021-08-12T17:51:15.034Z"
   },
   {
    "duration": 24,
    "start_time": "2021-08-12T17:51:15.045Z"
   },
   {
    "duration": 61,
    "start_time": "2021-08-12T17:51:15.072Z"
   },
   {
    "duration": 623,
    "start_time": "2021-08-12T17:51:15.136Z"
   },
   {
    "duration": 17,
    "start_time": "2021-08-12T17:51:15.762Z"
   },
   {
    "duration": 722,
    "start_time": "2021-08-12T17:51:15.781Z"
   },
   {
    "duration": 40,
    "start_time": "2021-08-12T17:51:16.506Z"
   },
   {
    "duration": 397,
    "start_time": "2021-08-12T17:51:16.548Z"
   },
   {
    "duration": 21,
    "start_time": "2021-08-12T17:51:16.948Z"
   },
   {
    "duration": 818,
    "start_time": "2021-08-12T17:51:16.972Z"
   },
   {
    "duration": 12,
    "start_time": "2021-08-12T17:51:17.792Z"
   },
   {
    "duration": 845,
    "start_time": "2021-08-12T17:51:17.807Z"
   },
   {
    "duration": 8,
    "start_time": "2021-08-12T17:51:18.654Z"
   },
   {
    "duration": 848,
    "start_time": "2021-08-12T17:51:18.664Z"
   },
   {
    "duration": 7,
    "start_time": "2021-08-12T17:51:19.514Z"
   },
   {
    "duration": 1009,
    "start_time": "2021-08-12T17:51:19.524Z"
   },
   {
    "duration": 8,
    "start_time": "2021-08-12T17:51:20.536Z"
   },
   {
    "duration": 875,
    "start_time": "2021-08-12T17:51:20.547Z"
   },
   {
    "duration": 7,
    "start_time": "2021-08-12T17:51:21.425Z"
   },
   {
    "duration": 17,
    "start_time": "2021-08-12T17:51:21.434Z"
   },
   {
    "duration": 358,
    "start_time": "2021-08-12T17:51:21.453Z"
   },
   {
    "duration": 16,
    "start_time": "2021-08-12T17:51:21.813Z"
   },
   {
    "duration": 16,
    "start_time": "2021-08-12T17:51:21.832Z"
   },
   {
    "duration": 16,
    "start_time": "2021-08-12T17:51:21.850Z"
   },
   {
    "duration": 261,
    "start_time": "2021-08-12T17:51:21.901Z"
   },
   {
    "duration": 281,
    "start_time": "2021-08-12T17:51:22.164Z"
   },
   {
    "duration": 272,
    "start_time": "2021-08-12T17:51:22.447Z"
   },
   {
    "duration": 15,
    "start_time": "2021-08-12T17:51:22.722Z"
   },
   {
    "duration": 14,
    "start_time": "2021-08-12T17:51:22.740Z"
   },
   {
    "duration": 47,
    "start_time": "2021-08-12T17:51:22.756Z"
   },
   {
    "duration": 272,
    "start_time": "2021-08-12T17:51:22.811Z"
   },
   {
    "duration": 271,
    "start_time": "2021-08-12T17:51:23.085Z"
   },
   {
    "duration": 260,
    "start_time": "2021-08-12T17:51:23.359Z"
   },
   {
    "duration": 17,
    "start_time": "2021-08-12T17:51:23.622Z"
   },
   {
    "duration": 18,
    "start_time": "2021-08-12T17:51:23.642Z"
   },
   {
    "duration": 48,
    "start_time": "2021-08-12T17:51:23.662Z"
   },
   {
    "duration": 260,
    "start_time": "2021-08-12T17:51:23.713Z"
   },
   {
    "duration": 347,
    "start_time": "2021-08-12T17:51:23.976Z"
   },
   {
    "duration": 262,
    "start_time": "2021-08-12T17:51:24.325Z"
   },
   {
    "duration": 16,
    "start_time": "2021-08-12T17:51:24.590Z"
   },
   {
    "duration": 9,
    "start_time": "2021-08-12T17:51:24.609Z"
   },
   {
    "duration": 12,
    "start_time": "2021-08-12T17:51:24.620Z"
   },
   {
    "duration": 7,
    "start_time": "2021-08-12T17:51:24.634Z"
   },
   {
    "duration": 524,
    "start_time": "2021-08-12T17:55:20.857Z"
   },
   {
    "duration": 18,
    "start_time": "2021-08-12T17:55:27.957Z"
   },
   {
    "duration": 22,
    "start_time": "2021-08-12T18:08:52.620Z"
   },
   {
    "duration": 804,
    "start_time": "2021-08-12T18:09:04.208Z"
   },
   {
    "duration": 8,
    "start_time": "2021-08-12T18:09:14.154Z"
   },
   {
    "duration": 781,
    "start_time": "2021-08-12T18:10:50.533Z"
   },
   {
    "duration": 7,
    "start_time": "2021-08-12T18:11:02.578Z"
   },
   {
    "duration": 839,
    "start_time": "2021-08-12T18:13:16.861Z"
   },
   {
    "duration": 8,
    "start_time": "2021-08-12T18:13:54.098Z"
   },
   {
    "duration": 1700,
    "start_time": "2021-08-13T17:11:04.279Z"
   },
   {
    "duration": 50,
    "start_time": "2021-08-13T17:11:05.982Z"
   },
   {
    "duration": 22,
    "start_time": "2021-08-13T17:11:06.035Z"
   },
   {
    "duration": 48,
    "start_time": "2021-08-13T17:11:06.060Z"
   },
   {
    "duration": 15,
    "start_time": "2021-08-13T17:11:06.111Z"
   },
   {
    "duration": 44,
    "start_time": "2021-08-13T17:11:06.128Z"
   },
   {
    "duration": 29,
    "start_time": "2021-08-13T17:11:06.174Z"
   },
   {
    "duration": 11,
    "start_time": "2021-08-13T17:11:06.208Z"
   },
   {
    "duration": 32,
    "start_time": "2021-08-13T17:11:06.223Z"
   },
   {
    "duration": 45,
    "start_time": "2021-08-13T17:11:06.258Z"
   },
   {
    "duration": 20,
    "start_time": "2021-08-13T17:11:06.307Z"
   },
   {
    "duration": 18,
    "start_time": "2021-08-13T17:11:06.330Z"
   },
   {
    "duration": 50,
    "start_time": "2021-08-13T17:11:06.352Z"
   },
   {
    "duration": 7,
    "start_time": "2021-08-13T17:11:06.405Z"
   },
   {
    "duration": 10,
    "start_time": "2021-08-13T17:11:06.415Z"
   },
   {
    "duration": 8,
    "start_time": "2021-08-13T17:11:06.427Z"
   },
   {
    "duration": 13,
    "start_time": "2021-08-13T17:11:06.438Z"
   },
   {
    "duration": 52,
    "start_time": "2021-08-13T17:11:06.454Z"
   },
   {
    "duration": 7,
    "start_time": "2021-08-13T17:11:06.509Z"
   },
   {
    "duration": 19,
    "start_time": "2021-08-13T17:11:06.519Z"
   },
   {
    "duration": 8,
    "start_time": "2021-08-13T17:11:06.541Z"
   },
   {
    "duration": 79,
    "start_time": "2021-08-13T17:11:06.552Z"
   },
   {
    "duration": 9,
    "start_time": "2021-08-13T17:11:06.640Z"
   },
   {
    "duration": 21,
    "start_time": "2021-08-13T17:11:06.655Z"
   },
   {
    "duration": 19,
    "start_time": "2021-08-13T17:11:06.701Z"
   },
   {
    "duration": 581,
    "start_time": "2021-08-13T17:11:06.722Z"
   },
   {
    "duration": 7,
    "start_time": "2021-08-13T17:11:07.306Z"
   },
   {
    "duration": 15,
    "start_time": "2021-08-13T17:11:07.316Z"
   },
   {
    "duration": 308,
    "start_time": "2021-08-13T17:11:07.334Z"
   },
   {
    "duration": 19,
    "start_time": "2021-08-13T17:11:07.644Z"
   },
   {
    "duration": 496,
    "start_time": "2021-08-13T17:11:07.665Z"
   },
   {
    "duration": 51,
    "start_time": "2021-08-13T17:11:08.163Z"
   },
   {
    "duration": 3043,
    "start_time": "2021-08-13T17:11:08.216Z"
   },
   {
    "duration": 20,
    "start_time": "2021-08-13T17:11:11.261Z"
   },
   {
    "duration": 35,
    "start_time": "2021-08-13T17:11:11.283Z"
   },
   {
    "duration": 85,
    "start_time": "2021-08-13T17:11:11.323Z"
   },
   {
    "duration": 536,
    "start_time": "2021-08-13T17:11:11.410Z"
   },
   {
    "duration": 10,
    "start_time": "2021-08-13T17:11:11.949Z"
   },
   {
    "duration": 42,
    "start_time": "2021-08-13T17:11:11.962Z"
   },
   {
    "duration": 43,
    "start_time": "2021-08-13T17:11:12.008Z"
   },
   {
    "duration": 640,
    "start_time": "2021-08-13T17:11:12.053Z"
   },
   {
    "duration": 18,
    "start_time": "2021-08-13T17:11:12.700Z"
   },
   {
    "duration": 736,
    "start_time": "2021-08-13T17:11:12.721Z"
   },
   {
    "duration": 46,
    "start_time": "2021-08-13T17:11:13.460Z"
   },
   {
    "duration": 410,
    "start_time": "2021-08-13T17:11:13.509Z"
   },
   {
    "duration": 21,
    "start_time": "2021-08-13T17:11:13.921Z"
   },
   {
    "duration": 874,
    "start_time": "2021-08-13T17:11:13.945Z"
   },
   {
    "duration": 8,
    "start_time": "2021-08-13T17:11:14.822Z"
   },
   {
    "duration": 878,
    "start_time": "2021-08-13T17:11:14.833Z"
   },
   {
    "duration": 7,
    "start_time": "2021-08-13T17:11:15.714Z"
   },
   {
    "duration": 892,
    "start_time": "2021-08-13T17:11:15.724Z"
   },
   {
    "duration": 8,
    "start_time": "2021-08-13T17:11:16.618Z"
   },
   {
    "duration": 1125,
    "start_time": "2021-08-13T17:11:16.629Z"
   },
   {
    "duration": 7,
    "start_time": "2021-08-13T17:11:17.757Z"
   },
   {
    "duration": 862,
    "start_time": "2021-08-13T17:11:17.766Z"
   },
   {
    "duration": 7,
    "start_time": "2021-08-13T17:11:18.631Z"
   },
   {
    "duration": 19,
    "start_time": "2021-08-13T17:11:18.641Z"
   },
   {
    "duration": 366,
    "start_time": "2021-08-13T17:11:18.663Z"
   },
   {
    "duration": 17,
    "start_time": "2021-08-13T17:11:19.032Z"
   },
   {
    "duration": 21,
    "start_time": "2021-08-13T17:11:19.052Z"
   },
   {
    "duration": 21,
    "start_time": "2021-08-13T17:11:19.102Z"
   },
   {
    "duration": 383,
    "start_time": "2021-08-13T17:11:19.126Z"
   },
   {
    "duration": 388,
    "start_time": "2021-08-13T17:11:19.512Z"
   },
   {
    "duration": 382,
    "start_time": "2021-08-13T17:11:19.903Z"
   },
   {
    "duration": 29,
    "start_time": "2021-08-13T17:11:20.289Z"
   },
   {
    "duration": 16,
    "start_time": "2021-08-13T17:11:20.321Z"
   },
   {
    "duration": 15,
    "start_time": "2021-08-13T17:11:20.339Z"
   },
   {
    "duration": 272,
    "start_time": "2021-08-13T17:11:20.399Z"
   },
   {
    "duration": 286,
    "start_time": "2021-08-13T17:11:20.674Z"
   },
   {
    "duration": 274,
    "start_time": "2021-08-13T17:11:20.963Z"
   },
   {
    "duration": 17,
    "start_time": "2021-08-13T17:11:21.240Z"
   },
   {
    "duration": 41,
    "start_time": "2021-08-13T17:11:21.259Z"
   },
   {
    "duration": 24,
    "start_time": "2021-08-13T17:11:21.303Z"
   },
   {
    "duration": 266,
    "start_time": "2021-08-13T17:11:21.330Z"
   },
   {
    "duration": 273,
    "start_time": "2021-08-13T17:11:21.601Z"
   },
   {
    "duration": 460,
    "start_time": "2021-08-13T17:11:21.877Z"
   },
   {
    "duration": 12,
    "start_time": "2021-08-13T17:11:22.340Z"
   },
   {
    "duration": 24,
    "start_time": "2021-08-13T17:11:22.355Z"
   },
   {
    "duration": 28,
    "start_time": "2021-08-13T17:11:22.382Z"
   },
   {
    "duration": 7,
    "start_time": "2021-08-13T17:11:22.412Z"
   }
  ],
  "kernelspec": {
   "display_name": "Python 3",
   "language": "python",
   "name": "python3"
  },
  "language_info": {
   "codemirror_mode": {
    "name": "ipython",
    "version": 3
   },
   "file_extension": ".py",
   "mimetype": "text/x-python",
   "name": "python",
   "nbconvert_exporter": "python",
   "pygments_lexer": "ipython3",
   "version": "3.8.3"
  },
  "toc": {
   "base_numbering": 1,
   "nav_menu": {},
   "number_sections": true,
   "sideBar": true,
   "skip_h1_title": true,
   "title_cell": "Table of Contents",
   "title_sidebar": "Contents",
   "toc_cell": true,
   "toc_position": {
    "height": "calc(100% - 180px)",
    "left": "10px",
    "top": "150px",
    "width": "270.391px"
   },
   "toc_section_display": true,
   "toc_window_display": true
  }
 },
 "nbformat": 4,
 "nbformat_minor": 4
}
